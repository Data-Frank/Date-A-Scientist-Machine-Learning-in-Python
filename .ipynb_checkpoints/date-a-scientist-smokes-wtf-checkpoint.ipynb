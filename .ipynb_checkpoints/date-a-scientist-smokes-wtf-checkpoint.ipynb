{
 "cells": [
  {
   "cell_type": "code",
   "execution_count": 1,
   "id": "b29b3f60-d752-423d-8909-68f28302db4a",
   "metadata": {},
   "outputs": [],
   "source": [
    "import pandas as pd"
   ]
  },
  {
   "cell_type": "code",
   "execution_count": 2,
   "id": "f06347f9-d0a5-4d59-988e-02505c0ae221",
   "metadata": {},
   "outputs": [],
   "source": [
    "data = pd.read_csv(\"profiles.csv\")"
   ]
  },
  {
   "cell_type": "code",
   "execution_count": 3,
   "id": "b8c906fa-0366-4239-9075-97deb5d1d92b",
   "metadata": {},
   "outputs": [
    {
     "data": {
      "text/html": [
       "<div>\n",
       "<style scoped>\n",
       "    .dataframe tbody tr th:only-of-type {\n",
       "        vertical-align: middle;\n",
       "    }\n",
       "\n",
       "    .dataframe tbody tr th {\n",
       "        vertical-align: top;\n",
       "    }\n",
       "\n",
       "    .dataframe thead th {\n",
       "        text-align: right;\n",
       "    }\n",
       "</style>\n",
       "<table border=\"1\" class=\"dataframe\">\n",
       "  <thead>\n",
       "    <tr style=\"text-align: right;\">\n",
       "      <th></th>\n",
       "      <th>age</th>\n",
       "      <th>body_type</th>\n",
       "      <th>diet</th>\n",
       "      <th>drinks</th>\n",
       "      <th>drugs</th>\n",
       "      <th>education</th>\n",
       "      <th>essay0</th>\n",
       "      <th>essay1</th>\n",
       "      <th>essay2</th>\n",
       "      <th>essay3</th>\n",
       "      <th>...</th>\n",
       "      <th>location</th>\n",
       "      <th>offspring</th>\n",
       "      <th>orientation</th>\n",
       "      <th>pets</th>\n",
       "      <th>religion</th>\n",
       "      <th>sex</th>\n",
       "      <th>sign</th>\n",
       "      <th>smokes</th>\n",
       "      <th>speaks</th>\n",
       "      <th>status</th>\n",
       "    </tr>\n",
       "  </thead>\n",
       "  <tbody>\n",
       "    <tr>\n",
       "      <th>0</th>\n",
       "      <td>22</td>\n",
       "      <td>a little extra</td>\n",
       "      <td>strictly anything</td>\n",
       "      <td>socially</td>\n",
       "      <td>never</td>\n",
       "      <td>working on college/university</td>\n",
       "      <td>about me:&lt;br /&gt;\\n&lt;br /&gt;\\ni would love to think...</td>\n",
       "      <td>currently working as an international agent fo...</td>\n",
       "      <td>making people laugh.&lt;br /&gt;\\nranting about a go...</td>\n",
       "      <td>the way i look. i am a six foot half asian, ha...</td>\n",
       "      <td>...</td>\n",
       "      <td>south san francisco, california</td>\n",
       "      <td>doesn&amp;rsquo;t have kids, but might want them</td>\n",
       "      <td>straight</td>\n",
       "      <td>likes dogs and likes cats</td>\n",
       "      <td>agnosticism and very serious about it</td>\n",
       "      <td>m</td>\n",
       "      <td>gemini</td>\n",
       "      <td>sometimes</td>\n",
       "      <td>english</td>\n",
       "      <td>single</td>\n",
       "    </tr>\n",
       "    <tr>\n",
       "      <th>1</th>\n",
       "      <td>35</td>\n",
       "      <td>average</td>\n",
       "      <td>mostly other</td>\n",
       "      <td>often</td>\n",
       "      <td>sometimes</td>\n",
       "      <td>working on space camp</td>\n",
       "      <td>i am a chef: this is what that means.&lt;br /&gt;\\n1...</td>\n",
       "      <td>dedicating everyday to being an unbelievable b...</td>\n",
       "      <td>being silly. having ridiculous amonts of fun w...</td>\n",
       "      <td>NaN</td>\n",
       "      <td>...</td>\n",
       "      <td>oakland, california</td>\n",
       "      <td>doesn&amp;rsquo;t have kids, but might want them</td>\n",
       "      <td>straight</td>\n",
       "      <td>likes dogs and likes cats</td>\n",
       "      <td>agnosticism but not too serious about it</td>\n",
       "      <td>m</td>\n",
       "      <td>cancer</td>\n",
       "      <td>no</td>\n",
       "      <td>english (fluently), spanish (poorly), french (...</td>\n",
       "      <td>single</td>\n",
       "    </tr>\n",
       "    <tr>\n",
       "      <th>2</th>\n",
       "      <td>38</td>\n",
       "      <td>thin</td>\n",
       "      <td>anything</td>\n",
       "      <td>socially</td>\n",
       "      <td>NaN</td>\n",
       "      <td>graduated from masters program</td>\n",
       "      <td>i'm not ashamed of much, but writing public te...</td>\n",
       "      <td>i make nerdy software for musicians, artists, ...</td>\n",
       "      <td>improvising in different contexts. alternating...</td>\n",
       "      <td>my large jaw and large glasses are the physica...</td>\n",
       "      <td>...</td>\n",
       "      <td>san francisco, california</td>\n",
       "      <td>NaN</td>\n",
       "      <td>straight</td>\n",
       "      <td>has cats</td>\n",
       "      <td>NaN</td>\n",
       "      <td>m</td>\n",
       "      <td>pisces but it doesn&amp;rsquo;t matter</td>\n",
       "      <td>no</td>\n",
       "      <td>english, french, c++</td>\n",
       "      <td>available</td>\n",
       "    </tr>\n",
       "    <tr>\n",
       "      <th>3</th>\n",
       "      <td>23</td>\n",
       "      <td>thin</td>\n",
       "      <td>vegetarian</td>\n",
       "      <td>socially</td>\n",
       "      <td>NaN</td>\n",
       "      <td>working on college/university</td>\n",
       "      <td>i work in a library and go to school. . .</td>\n",
       "      <td>reading things written by old dead people</td>\n",
       "      <td>playing synthesizers and organizing books acco...</td>\n",
       "      <td>socially awkward but i do my best</td>\n",
       "      <td>...</td>\n",
       "      <td>berkeley, california</td>\n",
       "      <td>doesn&amp;rsquo;t want kids</td>\n",
       "      <td>straight</td>\n",
       "      <td>likes cats</td>\n",
       "      <td>NaN</td>\n",
       "      <td>m</td>\n",
       "      <td>pisces</td>\n",
       "      <td>no</td>\n",
       "      <td>english, german (poorly)</td>\n",
       "      <td>single</td>\n",
       "    </tr>\n",
       "    <tr>\n",
       "      <th>4</th>\n",
       "      <td>29</td>\n",
       "      <td>athletic</td>\n",
       "      <td>NaN</td>\n",
       "      <td>socially</td>\n",
       "      <td>never</td>\n",
       "      <td>graduated from college/university</td>\n",
       "      <td>hey how's it going? currently vague on the pro...</td>\n",
       "      <td>work work work work + play</td>\n",
       "      <td>creating imagery to look at:&lt;br /&gt;\\nhttp://bag...</td>\n",
       "      <td>i smile a lot and my inquisitive nature</td>\n",
       "      <td>...</td>\n",
       "      <td>san francisco, california</td>\n",
       "      <td>NaN</td>\n",
       "      <td>straight</td>\n",
       "      <td>likes dogs and likes cats</td>\n",
       "      <td>NaN</td>\n",
       "      <td>m</td>\n",
       "      <td>aquarius</td>\n",
       "      <td>no</td>\n",
       "      <td>english</td>\n",
       "      <td>single</td>\n",
       "    </tr>\n",
       "  </tbody>\n",
       "</table>\n",
       "<p>5 rows × 31 columns</p>\n",
       "</div>"
      ],
      "text/plain": [
       "   age       body_type               diet    drinks      drugs  \\\n",
       "0   22  a little extra  strictly anything  socially      never   \n",
       "1   35         average       mostly other     often  sometimes   \n",
       "2   38            thin           anything  socially        NaN   \n",
       "3   23            thin         vegetarian  socially        NaN   \n",
       "4   29        athletic                NaN  socially      never   \n",
       "\n",
       "                           education  \\\n",
       "0      working on college/university   \n",
       "1              working on space camp   \n",
       "2     graduated from masters program   \n",
       "3      working on college/university   \n",
       "4  graduated from college/university   \n",
       "\n",
       "                                              essay0  \\\n",
       "0  about me:<br />\\n<br />\\ni would love to think...   \n",
       "1  i am a chef: this is what that means.<br />\\n1...   \n",
       "2  i'm not ashamed of much, but writing public te...   \n",
       "3          i work in a library and go to school. . .   \n",
       "4  hey how's it going? currently vague on the pro...   \n",
       "\n",
       "                                              essay1  \\\n",
       "0  currently working as an international agent fo...   \n",
       "1  dedicating everyday to being an unbelievable b...   \n",
       "2  i make nerdy software for musicians, artists, ...   \n",
       "3          reading things written by old dead people   \n",
       "4                         work work work work + play   \n",
       "\n",
       "                                              essay2  \\\n",
       "0  making people laugh.<br />\\nranting about a go...   \n",
       "1  being silly. having ridiculous amonts of fun w...   \n",
       "2  improvising in different contexts. alternating...   \n",
       "3  playing synthesizers and organizing books acco...   \n",
       "4  creating imagery to look at:<br />\\nhttp://bag...   \n",
       "\n",
       "                                              essay3  ...  \\\n",
       "0  the way i look. i am a six foot half asian, ha...  ...   \n",
       "1                                                NaN  ...   \n",
       "2  my large jaw and large glasses are the physica...  ...   \n",
       "3                  socially awkward but i do my best  ...   \n",
       "4            i smile a lot and my inquisitive nature  ...   \n",
       "\n",
       "                          location  \\\n",
       "0  south san francisco, california   \n",
       "1              oakland, california   \n",
       "2        san francisco, california   \n",
       "3             berkeley, california   \n",
       "4        san francisco, california   \n",
       "\n",
       "                                      offspring orientation  \\\n",
       "0  doesn&rsquo;t have kids, but might want them    straight   \n",
       "1  doesn&rsquo;t have kids, but might want them    straight   \n",
       "2                                           NaN    straight   \n",
       "3                       doesn&rsquo;t want kids    straight   \n",
       "4                                           NaN    straight   \n",
       "\n",
       "                        pets                                  religion sex  \\\n",
       "0  likes dogs and likes cats     agnosticism and very serious about it   m   \n",
       "1  likes dogs and likes cats  agnosticism but not too serious about it   m   \n",
       "2                   has cats                                       NaN   m   \n",
       "3                 likes cats                                       NaN   m   \n",
       "4  likes dogs and likes cats                                       NaN   m   \n",
       "\n",
       "                                 sign     smokes  \\\n",
       "0                              gemini  sometimes   \n",
       "1                              cancer         no   \n",
       "2  pisces but it doesn&rsquo;t matter         no   \n",
       "3                              pisces         no   \n",
       "4                            aquarius         no   \n",
       "\n",
       "                                              speaks     status  \n",
       "0                                            english     single  \n",
       "1  english (fluently), spanish (poorly), french (...     single  \n",
       "2                               english, french, c++  available  \n",
       "3                           english, german (poorly)     single  \n",
       "4                                            english     single  \n",
       "\n",
       "[5 rows x 31 columns]"
      ]
     },
     "execution_count": 3,
     "metadata": {},
     "output_type": "execute_result"
    }
   ],
   "source": [
    "data.head()"
   ]
  },
  {
   "cell_type": "code",
   "execution_count": 4,
   "id": "560f9685-2e63-4f49-ba12-2c8423c0cb14",
   "metadata": {
    "scrolled": true
   },
   "outputs": [
    {
     "name": "stdout",
     "output_type": "stream",
     "text": [
      "<class 'pandas.core.frame.DataFrame'>\n",
      "RangeIndex: 59946 entries, 0 to 59945\n",
      "Data columns (total 31 columns):\n",
      " #   Column       Non-Null Count  Dtype  \n",
      "---  ------       --------------  -----  \n",
      " 0   age          59946 non-null  int64  \n",
      " 1   body_type    54650 non-null  object \n",
      " 2   diet         35551 non-null  object \n",
      " 3   drinks       56961 non-null  object \n",
      " 4   drugs        45866 non-null  object \n",
      " 5   education    53318 non-null  object \n",
      " 6   essay0       54458 non-null  object \n",
      " 7   essay1       52374 non-null  object \n",
      " 8   essay2       50308 non-null  object \n",
      " 9   essay3       48470 non-null  object \n",
      " 10  essay4       49409 non-null  object \n",
      " 11  essay5       49096 non-null  object \n",
      " 12  essay6       46175 non-null  object \n",
      " 13  essay7       47495 non-null  object \n",
      " 14  essay8       40721 non-null  object \n",
      " 15  essay9       47343 non-null  object \n",
      " 16  ethnicity    54266 non-null  object \n",
      " 17  height       59943 non-null  float64\n",
      " 18  income       59946 non-null  int64  \n",
      " 19  job          51748 non-null  object \n",
      " 20  last_online  59946 non-null  object \n",
      " 21  location     59946 non-null  object \n",
      " 22  offspring    24385 non-null  object \n",
      " 23  orientation  59946 non-null  object \n",
      " 24  pets         40025 non-null  object \n",
      " 25  religion     39720 non-null  object \n",
      " 26  sex          59946 non-null  object \n",
      " 27  sign         48890 non-null  object \n",
      " 28  smokes       54434 non-null  object \n",
      " 29  speaks       59896 non-null  object \n",
      " 30  status       59946 non-null  object \n",
      "dtypes: float64(1), int64(2), object(28)\n",
      "memory usage: 14.2+ MB\n"
     ]
    }
   ],
   "source": [
    "data.info()"
   ]
  },
  {
   "cell_type": "markdown",
   "id": "9986d8c7-5cfc-496d-92f1-cd0f94b554d4",
   "metadata": {},
   "source": [
    "# THERE ARE NULL VALUES!!!!!!!11"
   ]
  },
  {
   "cell_type": "markdown",
   "id": "2cd0d9c5-d0ce-4f2d-9da8-f08fbd48ceab",
   "metadata": {},
   "source": [
    "Input variables: age, body_type, diet, drinks, drugs, education, ethnicity, height, job, offspring, orientation, pets, religion, sex, sign, smokes, \n",
    "\n",
    "I am not incuding the 'essay' columns, because these are very hard to quantify. I could use text classification to categorize them and quentify them, but that will be for another projects\n",
    "I am not incuding the 'speaks' column, because there are too many values with too little frequency, which could lead to overfitting.\n",
    "\n",
    "\n",
    "Target values: Status misschien wel het meest interessante, aangezien dit het doel is van de app. Ongeveer 4,2% van vrouwen is seeing someone en 3,4% van de mannen. \n",
    "Zou het nog kunnen uitsplitsen per man/vrouwe"
   ]
  },
  {
   "cell_type": "markdown",
   "id": "efed0ad8-3b15-45be-a99a-d2a830d1efb2",
   "metadata": {},
   "source": [
    "Lets keep it simple and only use 'job', 'age' and 'sex' to predict 'income'."
   ]
  },
  {
   "cell_type": "code",
   "execution_count": 7,
   "id": "622542a5-a203-4f53-9bfd-8144fdd85d11",
   "metadata": {
    "scrolled": true
   },
   "outputs": [
    {
     "data": {
      "text/plain": [
       "job\n",
       "other                                7589\n",
       "student                              4882\n",
       "science / tech / engineering         4848\n",
       "computer / hardware / software       4709\n",
       "artistic / musical / writer          4439\n",
       "sales / marketing / biz dev          4391\n",
       "medicine / health                    3680\n",
       "education / academia                 3513\n",
       "executive / management               2373\n",
       "banking / financial / real estate    2266\n",
       "entertainment / media                2250\n",
       "law / legal services                 1381\n",
       "hospitality / travel                 1364\n",
       "construction / craftsmanship         1021\n",
       "clerical / administrative             805\n",
       "political / government                708\n",
       "rather not say                        436\n",
       "transportation                        366\n",
       "unemployed                            273\n",
       "retired                               250\n",
       "military                              204\n",
       "Name: count, dtype: int64"
      ]
     },
     "execution_count": 7,
     "metadata": {},
     "output_type": "execute_result"
    }
   ],
   "source": [
    "data.job.value_counts()"
   ]
  },
  {
   "cell_type": "code",
   "execution_count": 8,
   "id": "57623749-3759-4b10-b667-1dcf003c0ad1",
   "metadata": {},
   "outputs": [
    {
     "data": {
      "image/png": "[encoded data removed]",
      "text/plain": [
       "<Figure size 640x480 with 1 Axes>"
      ]
     },
     "metadata": {},
     "output_type": "display_data"
    }
   ],
   "source": [
    "import matplotlib.pyplot as plt\n",
    "\n",
    "# Plot histogram\n",
    "data['age'].plot(kind='hist', bins=30, edgecolor='black')\n",
    "\n",
    "plt.title('Age Distribution')\n",
    "plt.xlabel('Age')\n",
    "plt.ylabel('Frequency')\n",
    "plt.show()"
   ]
  },
  {
   "cell_type": "code",
   "execution_count": 9,
   "id": "cb8ff1a6-830f-498b-a7d7-66172e7dab99",
   "metadata": {
    "scrolled": true
   },
   "outputs": [
    {
     "data": {
      "image/png": "[encoded data removed]",
      "text/plain": [
       "<Figure size 640x480 with 1 Axes>"
      ]
     },
     "metadata": {},
     "output_type": "display_data"
    }
   ],
   "source": [
    "import matplotlib.pyplot as plt\n",
    "\n",
    "# Plot histogram\n",
    "data['income'].plot(kind='hist', bins=30, edgecolor='black')\n",
    "\n",
    "plt.title('Income Distribution')\n",
    "plt.xlabel('Income')\n",
    "plt.ylabel('Frequency')\n",
    "plt.show()"
   ]
  },
  {
   "cell_type": "code",
   "execution_count": 10,
   "id": "e62ee500-6629-431f-9eea-05c35f6b9e68",
   "metadata": {},
   "outputs": [
    {
     "data": {
      "text/plain": [
       "count      59946.000000\n",
       "mean       20033.222534\n",
       "std        97346.192104\n",
       "min           -1.000000\n",
       "25%           -1.000000\n",
       "50%           -1.000000\n",
       "75%           -1.000000\n",
       "max      1000000.000000\n",
       "Name: income, dtype: float64"
      ]
     },
     "execution_count": 10,
     "metadata": {},
     "output_type": "execute_result"
    }
   ],
   "source": [
    "data.income.describe()"
   ]
  },
  {
   "cell_type": "code",
   "execution_count": 11,
   "id": "36349c48-9167-42d5-8d0d-6d44e44efd75",
   "metadata": {},
   "outputs": [
    {
     "data": {
      "text/plain": [
       "11504"
      ]
     },
     "execution_count": 11,
     "metadata": {},
     "output_type": "execute_result"
    }
   ],
   "source": [
    "income_above_0 = data[data['income'] > 0 ]\n",
    "len(income_above_0)"
   ]
  },
  {
   "cell_type": "code",
   "execution_count": 12,
   "id": "8fe0dc52-9455-46df-b793-9b45ad365511",
   "metadata": {
    "scrolled": true
   },
   "outputs": [
    {
     "data": {
      "image/png": "[encoded data removed]",
      "text/plain": [
       "<Figure size 640x480 with 1 Axes>"
      ]
     },
     "metadata": {},
     "output_type": "display_data"
    }
   ],
   "source": [
    "import matplotlib.pyplot as plt\n",
    "\n",
    "# Plot histogram\n",
    "income_above_0['income'].plot(kind='hist', bins=30, edgecolor='black')\n",
    "\n",
    "plt.title('Income Distribution')\n",
    "plt.xlabel('Income')\n",
    "plt.ylabel('Frequency')\n",
    "plt.show()"
   ]
  },
  {
   "cell_type": "code",
   "execution_count": 13,
   "id": "23ec0f1d-2115-4dea-a018-6c4c89b31769",
   "metadata": {},
   "outputs": [
    {
     "data": {
      "text/plain": [
       "29773      20000\n",
       "50068      20000\n",
       "50037      20000\n",
       "50018      20000\n",
       "50001      20000\n",
       "          ...   \n",
       "29935    1000000\n",
       "18588    1000000\n",
       "18593    1000000\n",
       "15052    1000000\n",
       "32080    1000000\n",
       "Name: income, Length: 11504, dtype: int64"
      ]
     },
     "execution_count": 13,
     "metadata": {},
     "output_type": "execute_result"
    }
   ],
   "source": [
    "income_above_0['income'].sort_values()"
   ]
  },
  {
   "cell_type": "code",
   "execution_count": 14,
   "id": "a8c7ffb6-4204-43d4-8c77-16296aca5952",
   "metadata": {},
   "outputs": [
    {
     "data": {
      "image/png": "[encoded data removed]",
      "text/plain": [
       "<Figure size 640x480 with 1 Axes>"
      ]
     },
     "metadata": {},
     "output_type": "display_data"
    }
   ],
   "source": [
    "income_above_0_below_150k = income_above_0[income_above_0['income'] < 150000]\n",
    "# Plot histogram\n",
    "income_above_0_below_150k['income'].plot(kind='hist', bins=30, edgecolor='black')\n",
    "\n",
    "plt.title('Income Distribution')\n",
    "plt.xlabel('Income')\n",
    "plt.ylabel('Frequency')\n",
    "plt.show()"
   ]
  },
  {
   "cell_type": "code",
   "execution_count": 15,
   "id": "2ef6bc10-4817-49e9-9f44-c87d253b9c25",
   "metadata": {},
   "outputs": [
    {
     "data": {
      "text/plain": [
       "count     10155.000000\n",
       "mean      51606.105367\n",
       "std       29033.245262\n",
       "min       20000.000000\n",
       "25%       20000.000000\n",
       "50%       50000.000000\n",
       "75%       80000.000000\n",
       "max      100000.000000\n",
       "Name: income, dtype: float64"
      ]
     },
     "execution_count": 15,
     "metadata": {},
     "output_type": "execute_result"
    }
   ],
   "source": [
    "income_above_0_below_150k['income'].describe()"
   ]
  },
  {
   "cell_type": "markdown",
   "id": "33fc7b3b-ae39-4371-b641-3aa4f4331100",
   "metadata": {},
   "source": [
    "Lets keep it simple and only use 'job', 'age' and 'sex' to predict 'income'."
   ]
  },
  {
   "cell_type": "markdown",
   "id": "441d7109-2ab7-4231-bef6-9bf95f9fe4d9",
   "metadata": {},
   "source": [
    "## Predicting income by using nn regression and linear regression"
   ]
  },
  {
   "cell_type": "code",
   "execution_count": 18,
   "id": "842e8ddf-d419-4bde-a82f-512dee435fff",
   "metadata": {
    "scrolled": true
   },
   "outputs": [],
   "source": [
    "data_select = income_above_0_below_150k[['job', 'age', 'sex', 'income', 'smokes', 'offspring', 'body_type', 'diet','drugs', 'drinks','education']]\n",
    "\n",
    "data_select = pd.get_dummies(\n",
    "    data_select,\n",
    "    columns = ['job', 'sex', 'smokes', 'offspring', 'body_type', 'diet', 'drugs','drinks', 'education'], # I could manually code the values for drink and drug frequency\n",
    "    dtype = int\n",
    ")\n",
    "\n",
    "\n"
   ]
  },
  {
   "cell_type": "code",
   "execution_count": 19,
   "id": "6713a450-ec0f-4350-a0ce-d617f1776301",
   "metadata": {},
   "outputs": [
    {
     "name": "stdout",
     "output_type": "stream",
     "text": [
      "age                                            0.363489\n",
      "job_student                                    0.315614\n",
      "education_working on college/university        0.298840\n",
      "job_computer / hardware / software             0.278501\n",
      "education_graduated from masters program       0.247680\n",
      "job_science / tech / engineering               0.221980\n",
      "education_graduated from college/university    0.211110\n",
      "smokes_no                                      0.179141\n",
      "education_working on two-year college          0.171890\n",
      "job_other                                      0.158844\n",
      "drugs_sometimes                                0.156068\n",
      "smokes_yes                                     0.148266\n",
      "job_executive / management                     0.147834\n",
      "sex_f                                          0.144300\n",
      "sex_m                                          0.144300\n",
      "body_type_athletic                             0.140668\n",
      "education_graduated from high school           0.139140\n",
      "body_type_fit                                  0.112636\n",
      "drugs_never                                    0.112140\n",
      "education_graduated from ph.d program          0.108990\n",
      "Name: income, dtype: float64\n",
      "offspring_might want kids                            0.011493\n",
      "education_graduated from space camp                  0.011384\n",
      "diet_strictly kosher                                 0.010868\n",
      "diet_kosher                                          0.009706\n",
      "diet_mostly other                                    0.008975\n",
      "offspring_wants kids                                 0.008871\n",
      "offspring_doesn&rsquo;t have kids, but wants them    0.008373\n",
      "diet_anything                                        0.007923\n",
      "offspring_has kids, and wants more                   0.007347\n",
      "education_dropped out of med school                  0.006226\n",
      "education_dropped out of college/university          0.006012\n",
      "offspring_doesn&rsquo;t have kids                    0.005368\n",
      "body_type_jacked                                     0.004178\n",
      "education_dropped out of masters program             0.003396\n",
      "diet_mostly kosher                                   0.002578\n",
      "offspring_has a kid, and might want more             0.001831\n",
      "education_dropped out of law school                  0.001641\n",
      "offspring_has a kid, and wants more                  0.001209\n",
      "diet_strictly halal                                  0.001098\n",
      "education_two-year college                           0.000919\n",
      "Name: income, dtype: float64\n"
     ]
    }
   ],
   "source": [
    "# Calculate correlation matrix for all columns\n",
    "corr_matrix = data_select.corr()\n",
    "\n",
    "# Extract correlations of all features with the target column\n",
    "corr_with_target = corr_matrix['income'].drop('income')  # drop self-correlation\n",
    "\n",
    "# Sort correlations by absolute value descending\n",
    "corr_with_target_sorted = corr_with_target.abs().sort_values(ascending=False)\n",
    "\n",
    "print(corr_with_target_sorted.head(20))\n",
    "print(corr_with_target_sorted.tail(20))"
   ]
  },
  {
   "cell_type": "code",
   "execution_count": 20,
   "id": "51d9903e-8687-495e-8dc0-d4f4014dc454",
   "metadata": {
    "scrolled": true
   },
   "outputs": [],
   "source": [
    "X_col_list = [col for col in data_select.columns if col != 'income']\n",
    "y_col_list = ['income']"
   ]
  },
  {
   "cell_type": "code",
   "execution_count": 21,
   "id": "1164db8a-d335-4283-9426-5425378eb036",
   "metadata": {},
   "outputs": [],
   "source": [
    "from sklearn.preprocessing import StandardScaler\n",
    "\n",
    "scaler = StandardScaler()\n",
    "X = data_select[X_col_list]\n",
    "y_scaled = scaler.fit_transform(data_select[y_col_list])"
   ]
  },
  {
   "cell_type": "code",
   "execution_count": 22,
   "id": "99dbc6ef-5763-4bc6-aa3d-a47cef6cb689",
   "metadata": {},
   "outputs": [],
   "source": [
    "#Creating tensors\n",
    "import torch\n",
    "X_tensor = torch.tensor(X.values, dtype = torch.float)\n",
    "y_tensor = torch.tensor(y_scaled, dtype = torch.float)"
   ]
  },
  {
   "cell_type": "code",
   "execution_count": 23,
   "id": "4aec9670-dc78-4b34-ae33-6920235d4fdf",
   "metadata": {},
   "outputs": [],
   "source": [
    "#Splitting data\n",
    "from sklearn.model_selection import train_test_split\n",
    "X_tensor_train, X_tensor_test, y_tensor_train, y_tensor_test = train_test_split(X_tensor, y_tensor, test_size = 0.2)"
   ]
  },
  {
   "cell_type": "code",
   "execution_count": 24,
   "id": "262d2095-9cd1-475c-97c0-b7a106b75ce6",
   "metadata": {},
   "outputs": [
    {
     "data": {
      "text/plain": [
       "torch.Size([8124, 114])"
      ]
     },
     "execution_count": 24,
     "metadata": {},
     "output_type": "execute_result"
    }
   ],
   "source": [
    "X_tensor_train.shape"
   ]
  },
  {
   "cell_type": "code",
   "execution_count": 25,
   "id": "2980e826-f447-4db7-813f-088fe3a4128b",
   "metadata": {},
   "outputs": [
    {
     "data": {
      "text/plain": [
       "torch.Size([2031, 114])"
      ]
     },
     "execution_count": 25,
     "metadata": {},
     "output_type": "execute_result"
    }
   ],
   "source": [
    "X_tensor_test.shape"
   ]
  },
  {
   "cell_type": "code",
   "execution_count": 26,
   "id": "4d9a7e9a-f021-4b59-b136-720438053fad",
   "metadata": {},
   "outputs": [
    {
     "data": {
      "text/plain": [
       "torch.Size([8124, 1])"
      ]
     },
     "execution_count": 26,
     "metadata": {},
     "output_type": "execute_result"
    }
   ],
   "source": [
    "y_tensor_train.shape"
   ]
  },
  {
   "cell_type": "code",
   "execution_count": 27,
   "id": "8f80867a-0080-46c3-a1f1-4ae2534c6377",
   "metadata": {},
   "outputs": [
    {
     "data": {
      "text/plain": [
       "torch.Size([2031, 1])"
      ]
     },
     "execution_count": 27,
     "metadata": {},
     "output_type": "execute_result"
    }
   ],
   "source": [
    "y_tensor_test.shape"
   ]
  },
  {
   "cell_type": "code",
   "execution_count": 28,
   "id": "a08394de-4441-4465-9ac2-dd1b5677cde0",
   "metadata": {},
   "outputs": [],
   "source": [
    "from torch import nn\n",
    "nn_regmodel = nn.Sequential(\n",
    "    nn.Linear(114,114),\n",
    "    nn.ReLU(),\n",
    "    nn.Linear(114,48),\n",
    "    nn.ReLU(),\n",
    "    nn.Linear(48,24),\n",
    "    nn.ReLU(),\n",
    "    nn.Linear(24,1)\n",
    ")"
   ]
  },
  {
   "cell_type": "code",
   "execution_count": 29,
   "id": "2927b245-eba9-48c7-8712-d6dcc1c34731",
   "metadata": {},
   "outputs": [
    {
     "name": "stdout",
     "output_type": "stream",
     "text": [
      "Epoch [100/1000], MSELoss: 1.0019\n",
      "Epoch [200/1000], MSELoss: 1.0019\n",
      "Epoch [300/1000], MSELoss: 1.0019\n",
      "Epoch [400/1000], MSELoss: 1.0019\n",
      "Epoch [500/1000], MSELoss: 1.0019\n",
      "Epoch [600/1000], MSELoss: 1.0019\n",
      "Epoch [700/1000], MSELoss: 1.0019\n",
      "Epoch [800/1000], MSELoss: 1.0019\n",
      "Epoch [900/1000], MSELoss: 1.0019\n",
      "Epoch [1000/1000], MSELoss: 1.0019\n"
     ]
    }
   ],
   "source": [
    "import torch.optim as optim\n",
    "from torch.nn import MSELoss\n",
    "from sklearn.metrics import accuracy_score, recall_score, precision_score\n",
    "import torch.optim as optim\n",
    "\n",
    "loss = MSELoss()\n",
    "optimizer = optim.Adam(nn_regmodel.parameters(), lr= 0.08)\n",
    "\n",
    "num_epochs = 1000\n",
    "for epoch in range(num_epochs):\n",
    "    optimizer.zero_grad()\n",
    "    predictions = nn_regmodel(X_tensor_train)\n",
    "    MSE = loss(predictions, y_tensor_train)\n",
    "    \n",
    "\n",
    "    MSE.backward()\n",
    "    optimizer.step()\n",
    "\n",
    "     \n",
    "    if (epoch + 1) % 100 == 0:\n",
    "\n",
    "        print(f'Epoch [{epoch+1}/{num_epochs}], MSELoss: {MSE.item():.4f}')\n",
    "\n",
    "\n"
   ]
  },
  {
   "cell_type": "code",
   "execution_count": 30,
   "id": "c2e72618-fd5f-4754-a174-3a8ba1eb7631",
   "metadata": {},
   "outputs": [
    {
     "name": "stdout",
     "output_type": "stream",
     "text": [
      "tensor(1.0010, grad_fn=<SqrtBackward0>)\n"
     ]
    }
   ],
   "source": [
    "predictions = nn_regmodel(X_tensor_train)\n",
    "loss = MSELoss()\n",
    "mse = loss(predictions, y_tensor_train)\n",
    "rmse = torch.sqrt(mse)\n",
    "print(rmse)"
   ]
  },
  {
   "cell_type": "code",
   "execution_count": 31,
   "id": "83a0241e-255d-4c3f-88d4-342797450874",
   "metadata": {},
   "outputs": [],
   "source": [
    "nn_reg_model = nn.Sequential(\n",
    "    nn.Linear(114, 114),\n",
    "    nn.ReLU(),\n",
    "    nn.Linear(114,48),\n",
    "    nn.ReLU(),\n",
    "    nn.Linear(48,24),\n",
    "    nn.ReLU(),\n",
    "    nn.Linear(24,1)\n",
    ")\n",
    "\n",
    "loss_fn = nn.L1Loss()  # MAE = Mean Absolute Error\n",
    "optimizer = optim.Adam(nn_reg_model.parameters(), lr= 0.01)\n",
    "\n",
    "num_epochs = 100 #DECREASED \n",
    "for epoch in range(num_epochs):\n",
    "    optimizer.zero_grad()\n",
    "    predictions = nn_reg_model(X_tensor_train)\n",
    "    MAE = loss_fn(predictions, y_tensor_train)\n",
    "    \n",
    "\n",
    "    MAE.backward()\n",
    "    optimizer.step()\n",
    "\n",
    "     \n",
    "    if (epoch + 1) % 1000 == 0:\n",
    "\n",
    "        print(f'Epoch [{epoch+1}/{num_epochs}], MAELoss: {MAE.item():.4f}')\n",
    "\n"
   ]
  },
  {
   "cell_type": "code",
   "execution_count": 32,
   "id": "9d04d821-cb0b-4190-922b-82ff70227eb1",
   "metadata": {},
   "outputs": [],
   "source": [
    "#torch.save(nn_reg_model, 'nn_regression_y_scaled')"
   ]
  },
  {
   "cell_type": "code",
   "execution_count": 33,
   "id": "2dd53b48-42b1-4ba7-911d-16be23612f1e",
   "metadata": {
    "scrolled": true
   },
   "outputs": [],
   "source": [
    "# #Evaluating\n",
    "# nn_regression_y_scaled = torch.load('nn_regression_y_scaled', weights_only=False)\n",
    "# MAEloss = nn.L1Loss()\n",
    "# MSEloss = MSEloss()\n",
    "\n",
    "# #Calculating the Mean Average Error\n",
    "# nn_regression_y_scaled.eval()\n",
    "# with torch.no_grad():\n",
    "#     predictions = nn_regression_y_scaled(X_tensor_train)\n",
    "#     train_MAE = MAEloss(predictions, y_tensor_train)\n",
    "\n",
    "# nn_regression_y_scaled.eval()\n",
    "# with torch.no_grad():\n",
    "#     predictions = nn_regression_y_scaled(X_tensor_train)\n",
    "#     train_MSE = MSEloss(predictions, y_tensor_train)\n",
    "\n",
    "\n",
    "# ### What does this do really????\n",
    "# import math\n",
    "# train_MSE # = 896,490,000\n",
    "# train_RMSE = math.sqrt(test_MSE) #  29,941.460752608582\n",
    "\n",
    "# print(train_MSE)\n",
    "# print(train_MAE)"
   ]
  },
  {
   "cell_type": "code",
   "execution_count": 34,
   "id": "841b58eb-bea3-4e3e-8ca7-fd6174662655",
   "metadata": {
    "scrolled": true
   },
   "outputs": [
    {
     "name": "stdout",
     "output_type": "stream",
     "text": [
      "tensor(0.2671)\n",
      "0.5430083774953112\n"
     ]
    }
   ],
   "source": [
    "#Evaluating\n",
    "nn_regression_y_scaled = torch.load('nn_regression_y_scaled', weights_only=False)\n",
    "MAEloss = nn.L1Loss()\n",
    "MSEloss = MSELoss()\n",
    "\n",
    "#Calculating the Mean Average Error\n",
    "nn_regression_y_scaled.eval()\n",
    "with torch.no_grad():\n",
    "    predictions = nn_regression_y_scaled(X_tensor_test)\n",
    "    test_MAE = MAEloss(predictions, y_tensor_test)\n",
    "\n",
    "#Calculating the Mean Squared Error\n",
    "nn_regression_y_scaled.eval()\n",
    "with torch.no_grad():\n",
    "    predictions = nn_regression_y_scaled(X_tensor_test)\n",
    "    test_MSE = MSEloss(predictions, y_tensor_test)\n",
    "\n",
    "#Taking the root for interpretability\n",
    "import math\n",
    "test_RMSE = math.sqrt(test_MSE) \n",
    "\n",
    "print(test_MAE)\n",
    "print(test_RMSE)"
   ]
  },
  {
   "cell_type": "code",
   "execution_count": 35,
   "id": "52666fa1-e89d-4f0f-b65a-6b00df3d9cc9",
   "metadata": {},
   "outputs": [
    {
     "name": "stdout",
     "output_type": "stream",
     "text": [
      "MAE (original scale): 20168.40\n",
      "RMSE (original scale): 28419.24\n"
     ]
    }
   ],
   "source": [
    "from sklearn.preprocessing import StandardScaler\n",
    "import numpy as np\n",
    "\n",
    "# Suppose y is a 1D NumPy array or Series\n",
    "y = data_select[y_col_list].values.reshape(-1, 1)  # ensure it's 2D\n",
    "\n",
    "scaler_y = StandardScaler()\n",
    "y_scaled = scaler_y.fit_transform(y)  # now scaler_y is fitted!\n",
    "\n",
    "# Now this will work:\n",
    "mae_original = 0.6947 * scaler_y.scale_[0]\n",
    "rmse_original = 0.9789 * scaler_y.scale_[0]\n",
    "\n",
    "print(f\"MAE (original scale): {mae_original:.2f}\")\n",
    "print(f\"RMSE (original scale): {rmse_original:.2f}\")\n",
    "\n"
   ]
  },
  {
   "cell_type": "markdown",
   "id": "e415cedc-7bd3-4001-b398-312134ed5533",
   "metadata": {},
   "source": [
    "A mean average loss of 20,168.40 with a data set with the minimum of 20.000 and a maximum of 100.000 isn't that good. I wonder how a simple multiple linear regression would do. "
   ]
  },
  {
   "cell_type": "code",
   "execution_count": 37,
   "id": "0f7f6774-5430-41bc-b9bb-f5747b5e2b2c",
   "metadata": {},
   "outputs": [
    {
     "name": "stdout",
     "output_type": "stream",
     "text": [
      "0.4534044764667349\n",
      "-5.312684880218012e+27\n"
     ]
    }
   ],
   "source": [
    "from sklearn.linear_model import LinearRegression\n",
    "from sklearn.preprocessing import StandardScaler\n",
    "\n",
    "X = data_select[X_col_list]\n",
    "y = data_select[y_col_list]\n",
    "\n",
    "from sklearn.preprocessing import PolynomialFeatures\n",
    "\n",
    "poly = PolynomialFeatures(degree=2)\n",
    "X_poly = poly.fit_transform(X)\n",
    "\n",
    "scaler = StandardScaler()\n",
    "X_scaled = scaler.fit_transform(X_poly)\n",
    "\n",
    "X_train, X_test, y_train, y_test = train_test_split(X_scaled, y, test_size = 0.2)\n",
    "lm = LinearRegression()\n",
    "\n",
    "lm.fit(X_train, y_train)\n",
    "\n",
    "print(lm.score(X_train, y_train))\n",
    "print(lm.score(X_test, y_test))"
   ]
  },
  {
   "cell_type": "code",
   "execution_count": 38,
   "id": "9fb0c4fe-480c-4caa-a81d-293ddde1ea56",
   "metadata": {},
   "outputs": [
    {
     "name": "stdout",
     "output_type": "stream",
     "text": [
      "16092.617535708849\n",
      "16517.16949420702\n",
      "0.5087327715870946\n",
      "0.4858862910690105\n"
     ]
    }
   ],
   "source": [
    "from sklearn.linear_model import LinearRegression\n",
    "from sklearn.preprocessing import StandardScaler\n",
    "from sklearn.metrics import mean_squared_error\n",
    "from sklearn.metrics import mean_absolute_error\n",
    "\n",
    "import numpy as np\n",
    "\n",
    "X = data_select[X_col_list]\n",
    "y = data_select[y_col_list]\n",
    "\n",
    "from sklearn.preprocessing import PolynomialFeatures\n",
    "\n",
    "#Standardize data\n",
    "scaler = StandardScaler()\n",
    "X_scaled = scaler.fit_transform(X)\n",
    "\n",
    "#Split data\n",
    "X_train, X_test, y_train, y_test = train_test_split(X_scaled, y, test_size = 0.2)\n",
    "lm = LinearRegression()\n",
    "\n",
    "#Train model\n",
    "lm.fit(X_train, y_train)\n",
    "\n",
    "#Make predictions on train data\n",
    "predictions = lm.predict(X_train)\n",
    "\n",
    "#Calculate loss on train data\n",
    "loss_train = mean_absolute_error(y_train, predictions)\n",
    "\n",
    "#Make predictions on test data\n",
    "predictions = lm.predict(X_test)\n",
    "\n",
    "#Calculate loss on test data\n",
    "loss_test = mean_absolute_error(y_test, predictions)\n",
    "\n",
    "#print results\n",
    "print(loss_train)\n",
    "print(loss_test)\n",
    "print(lm.score(X_train, y_train))\n",
    "print(lm.score(X_test, y_test))"
   ]
  },
  {
   "cell_type": "markdown",
   "id": "300a05b5-856c-4305-be21-7656752c4207",
   "metadata": {},
   "source": [
    "# Predicting smokers non-smokers "
   ]
  },
  {
   "cell_type": "markdown",
   "id": "f9860aae-d863-4ffd-adf4-ab9547806986",
   "metadata": {},
   "source": [
    "I assign all the smoker values, from 'yes' (I smoke) to 'when drinking' to '1' and the non-smoker value 'no' to 'o'"
   ]
  },
  {
   "cell_type": "code",
   "execution_count": 242,
   "id": "2144b4d5-8bf4-4398-a257-b200ffa21bee",
   "metadata": {},
   "outputs": [
    {
     "name": "stderr",
     "output_type": "stream",
     "text": [
      "C:\\Users\\Frank\\AppData\\Local\\Temp\\ipykernel_3508\\750655858.py:8: FutureWarning: Downcasting behavior in `replace` is deprecated and will be removed in a future version. To retain the old behavior, explicitly call `result.infer_objects(copy=False)`. To opt-in to the future behavior, set `pd.set_option('future.no_silent_downcasting', True)`\n",
      "  data_select['smokes'] = data_select['smokes'].replace({'yes': 1, 'trying to quit':1, 'sometimes': 1, 'when drinking': 1, 'no':0})\n"
     ]
    }
   ],
   "source": [
    "data_select = income_above_0_below_150k[['job', 'age', 'sex', 'income', 'smokes', 'offspring', 'body_type', 'diet','drugs', 'drinks','education']]\n",
    "\n",
    "data_select = pd.get_dummies(\n",
    "    data_select,\n",
    "    columns = ['job', 'sex', 'income', 'offspring', 'body_type', 'diet','drugs', 'drinks','education'], # I could manually code the values for drink and drug frequency\n",
    "    dtype = int\n",
    ")\n",
    "data_select['smokes'] = data_select['smokes'].replace({'yes': 1, 'trying to quit':1, 'sometimes': 1, 'when drinking': 1, 'no':0})"
   ]
  },
  {
   "cell_type": "code",
   "execution_count": 243,
   "id": "760c3912-8593-4f87-9a5c-82fea80e69fb",
   "metadata": {},
   "outputs": [],
   "source": [
    "# data_select['smokes'].value_counts(normalize=True)"
   ]
  },
  {
   "cell_type": "code",
   "execution_count": 259,
   "id": "75db54c9-601f-480b-bd9a-105aaf837e79",
   "metadata": {},
   "outputs": [
    {
     "data": {
      "text/html": [
       "<div>\n",
       "<style scoped>\n",
       "    .dataframe tbody tr th:only-of-type {\n",
       "        vertical-align: middle;\n",
       "    }\n",
       "\n",
       "    .dataframe tbody tr th {\n",
       "        vertical-align: top;\n",
       "    }\n",
       "\n",
       "    .dataframe thead th {\n",
       "        text-align: right;\n",
       "    }\n",
       "</style>\n",
       "<table border=\"1\" class=\"dataframe\">\n",
       "  <thead>\n",
       "    <tr style=\"text-align: right;\">\n",
       "      <th></th>\n",
       "      <th>age</th>\n",
       "      <th>job_artistic / musical / writer</th>\n",
       "      <th>job_banking / financial / real estate</th>\n",
       "      <th>job_clerical / administrative</th>\n",
       "      <th>job_computer / hardware / software</th>\n",
       "      <th>job_construction / craftsmanship</th>\n",
       "      <th>job_education / academia</th>\n",
       "      <th>job_entertainment / media</th>\n",
       "      <th>job_executive / management</th>\n",
       "      <th>job_hospitality / travel</th>\n",
       "      <th>...</th>\n",
       "      <th>education_space camp</th>\n",
       "      <th>education_two-year college</th>\n",
       "      <th>education_working on college/university</th>\n",
       "      <th>education_working on high school</th>\n",
       "      <th>education_working on law school</th>\n",
       "      <th>education_working on masters program</th>\n",
       "      <th>education_working on med school</th>\n",
       "      <th>education_working on ph.d program</th>\n",
       "      <th>education_working on space camp</th>\n",
       "      <th>education_working on two-year college</th>\n",
       "    </tr>\n",
       "  </thead>\n",
       "  <tbody>\n",
       "    <tr>\n",
       "      <th>1</th>\n",
       "      <td>35</td>\n",
       "      <td>0</td>\n",
       "      <td>0</td>\n",
       "      <td>0</td>\n",
       "      <td>0</td>\n",
       "      <td>0</td>\n",
       "      <td>0</td>\n",
       "      <td>0</td>\n",
       "      <td>0</td>\n",
       "      <td>1</td>\n",
       "      <td>...</td>\n",
       "      <td>0</td>\n",
       "      <td>0</td>\n",
       "      <td>0</td>\n",
       "      <td>0</td>\n",
       "      <td>0</td>\n",
       "      <td>0</td>\n",
       "      <td>0</td>\n",
       "      <td>0</td>\n",
       "      <td>1</td>\n",
       "      <td>0</td>\n",
       "    </tr>\n",
       "    <tr>\n",
       "      <th>3</th>\n",
       "      <td>23</td>\n",
       "      <td>0</td>\n",
       "      <td>0</td>\n",
       "      <td>0</td>\n",
       "      <td>0</td>\n",
       "      <td>0</td>\n",
       "      <td>0</td>\n",
       "      <td>0</td>\n",
       "      <td>0</td>\n",
       "      <td>0</td>\n",
       "      <td>...</td>\n",
       "      <td>0</td>\n",
       "      <td>0</td>\n",
       "      <td>1</td>\n",
       "      <td>0</td>\n",
       "      <td>0</td>\n",
       "      <td>0</td>\n",
       "      <td>0</td>\n",
       "      <td>0</td>\n",
       "      <td>0</td>\n",
       "      <td>0</td>\n",
       "    </tr>\n",
       "    <tr>\n",
       "      <th>11</th>\n",
       "      <td>28</td>\n",
       "      <td>0</td>\n",
       "      <td>1</td>\n",
       "      <td>0</td>\n",
       "      <td>0</td>\n",
       "      <td>0</td>\n",
       "      <td>0</td>\n",
       "      <td>0</td>\n",
       "      <td>0</td>\n",
       "      <td>0</td>\n",
       "      <td>...</td>\n",
       "      <td>0</td>\n",
       "      <td>0</td>\n",
       "      <td>0</td>\n",
       "      <td>0</td>\n",
       "      <td>0</td>\n",
       "      <td>0</td>\n",
       "      <td>0</td>\n",
       "      <td>0</td>\n",
       "      <td>0</td>\n",
       "      <td>0</td>\n",
       "    </tr>\n",
       "    <tr>\n",
       "      <th>13</th>\n",
       "      <td>30</td>\n",
       "      <td>0</td>\n",
       "      <td>0</td>\n",
       "      <td>0</td>\n",
       "      <td>0</td>\n",
       "      <td>0</td>\n",
       "      <td>0</td>\n",
       "      <td>0</td>\n",
       "      <td>0</td>\n",
       "      <td>0</td>\n",
       "      <td>...</td>\n",
       "      <td>0</td>\n",
       "      <td>0</td>\n",
       "      <td>0</td>\n",
       "      <td>0</td>\n",
       "      <td>0</td>\n",
       "      <td>0</td>\n",
       "      <td>0</td>\n",
       "      <td>0</td>\n",
       "      <td>0</td>\n",
       "      <td>0</td>\n",
       "    </tr>\n",
       "    <tr>\n",
       "      <th>14</th>\n",
       "      <td>29</td>\n",
       "      <td>0</td>\n",
       "      <td>0</td>\n",
       "      <td>0</td>\n",
       "      <td>0</td>\n",
       "      <td>0</td>\n",
       "      <td>0</td>\n",
       "      <td>0</td>\n",
       "      <td>0</td>\n",
       "      <td>0</td>\n",
       "      <td>...</td>\n",
       "      <td>0</td>\n",
       "      <td>0</td>\n",
       "      <td>1</td>\n",
       "      <td>0</td>\n",
       "      <td>0</td>\n",
       "      <td>0</td>\n",
       "      <td>0</td>\n",
       "      <td>0</td>\n",
       "      <td>0</td>\n",
       "      <td>0</td>\n",
       "    </tr>\n",
       "    <tr>\n",
       "      <th>...</th>\n",
       "      <td>...</td>\n",
       "      <td>...</td>\n",
       "      <td>...</td>\n",
       "      <td>...</td>\n",
       "      <td>...</td>\n",
       "      <td>...</td>\n",
       "      <td>...</td>\n",
       "      <td>...</td>\n",
       "      <td>...</td>\n",
       "      <td>...</td>\n",
       "      <td>...</td>\n",
       "      <td>...</td>\n",
       "      <td>...</td>\n",
       "      <td>...</td>\n",
       "      <td>...</td>\n",
       "      <td>...</td>\n",
       "      <td>...</td>\n",
       "      <td>...</td>\n",
       "      <td>...</td>\n",
       "      <td>...</td>\n",
       "      <td>...</td>\n",
       "    </tr>\n",
       "    <tr>\n",
       "      <th>59917</th>\n",
       "      <td>26</td>\n",
       "      <td>0</td>\n",
       "      <td>0</td>\n",
       "      <td>0</td>\n",
       "      <td>0</td>\n",
       "      <td>0</td>\n",
       "      <td>0</td>\n",
       "      <td>0</td>\n",
       "      <td>0</td>\n",
       "      <td>0</td>\n",
       "      <td>...</td>\n",
       "      <td>0</td>\n",
       "      <td>0</td>\n",
       "      <td>0</td>\n",
       "      <td>0</td>\n",
       "      <td>0</td>\n",
       "      <td>0</td>\n",
       "      <td>0</td>\n",
       "      <td>0</td>\n",
       "      <td>0</td>\n",
       "      <td>0</td>\n",
       "    </tr>\n",
       "    <tr>\n",
       "      <th>59927</th>\n",
       "      <td>26</td>\n",
       "      <td>0</td>\n",
       "      <td>0</td>\n",
       "      <td>0</td>\n",
       "      <td>0</td>\n",
       "      <td>0</td>\n",
       "      <td>0</td>\n",
       "      <td>0</td>\n",
       "      <td>0</td>\n",
       "      <td>0</td>\n",
       "      <td>...</td>\n",
       "      <td>0</td>\n",
       "      <td>0</td>\n",
       "      <td>0</td>\n",
       "      <td>0</td>\n",
       "      <td>0</td>\n",
       "      <td>0</td>\n",
       "      <td>0</td>\n",
       "      <td>0</td>\n",
       "      <td>0</td>\n",
       "      <td>0</td>\n",
       "    </tr>\n",
       "    <tr>\n",
       "      <th>59930</th>\n",
       "      <td>41</td>\n",
       "      <td>0</td>\n",
       "      <td>0</td>\n",
       "      <td>0</td>\n",
       "      <td>0</td>\n",
       "      <td>0</td>\n",
       "      <td>0</td>\n",
       "      <td>0</td>\n",
       "      <td>0</td>\n",
       "      <td>0</td>\n",
       "      <td>...</td>\n",
       "      <td>0</td>\n",
       "      <td>0</td>\n",
       "      <td>0</td>\n",
       "      <td>0</td>\n",
       "      <td>0</td>\n",
       "      <td>0</td>\n",
       "      <td>0</td>\n",
       "      <td>0</td>\n",
       "      <td>0</td>\n",
       "      <td>0</td>\n",
       "    </tr>\n",
       "    <tr>\n",
       "      <th>59934</th>\n",
       "      <td>43</td>\n",
       "      <td>0</td>\n",
       "      <td>0</td>\n",
       "      <td>0</td>\n",
       "      <td>0</td>\n",
       "      <td>0</td>\n",
       "      <td>0</td>\n",
       "      <td>0</td>\n",
       "      <td>0</td>\n",
       "      <td>0</td>\n",
       "      <td>...</td>\n",
       "      <td>0</td>\n",
       "      <td>0</td>\n",
       "      <td>0</td>\n",
       "      <td>0</td>\n",
       "      <td>0</td>\n",
       "      <td>0</td>\n",
       "      <td>0</td>\n",
       "      <td>0</td>\n",
       "      <td>0</td>\n",
       "      <td>0</td>\n",
       "    </tr>\n",
       "    <tr>\n",
       "      <th>59943</th>\n",
       "      <td>42</td>\n",
       "      <td>0</td>\n",
       "      <td>0</td>\n",
       "      <td>0</td>\n",
       "      <td>0</td>\n",
       "      <td>1</td>\n",
       "      <td>0</td>\n",
       "      <td>0</td>\n",
       "      <td>0</td>\n",
       "      <td>0</td>\n",
       "      <td>...</td>\n",
       "      <td>0</td>\n",
       "      <td>0</td>\n",
       "      <td>0</td>\n",
       "      <td>0</td>\n",
       "      <td>0</td>\n",
       "      <td>0</td>\n",
       "      <td>0</td>\n",
       "      <td>0</td>\n",
       "      <td>0</td>\n",
       "      <td>0</td>\n",
       "    </tr>\n",
       "  </tbody>\n",
       "</table>\n",
       "<p>10155 rows × 117 columns</p>\n",
       "</div>"
      ],
      "text/plain": [
       "       age  job_artistic / musical / writer  \\\n",
       "1       35                                0   \n",
       "3       23                                0   \n",
       "11      28                                0   \n",
       "13      30                                0   \n",
       "14      29                                0   \n",
       "...    ...                              ...   \n",
       "59917   26                                0   \n",
       "59927   26                                0   \n",
       "59930   41                                0   \n",
       "59934   43                                0   \n",
       "59943   42                                0   \n",
       "\n",
       "       job_banking / financial / real estate  job_clerical / administrative  \\\n",
       "1                                          0                              0   \n",
       "3                                          0                              0   \n",
       "11                                         1                              0   \n",
       "13                                         0                              0   \n",
       "14                                         0                              0   \n",
       "...                                      ...                            ...   \n",
       "59917                                      0                              0   \n",
       "59927                                      0                              0   \n",
       "59930                                      0                              0   \n",
       "59934                                      0                              0   \n",
       "59943                                      0                              0   \n",
       "\n",
       "       job_computer / hardware / software  job_construction / craftsmanship  \\\n",
       "1                                       0                                 0   \n",
       "3                                       0                                 0   \n",
       "11                                      0                                 0   \n",
       "13                                      0                                 0   \n",
       "14                                      0                                 0   \n",
       "...                                   ...                               ...   \n",
       "59917                                   0                                 0   \n",
       "59927                                   0                                 0   \n",
       "59930                                   0                                 0   \n",
       "59934                                   0                                 0   \n",
       "59943                                   0                                 1   \n",
       "\n",
       "       job_education / academia  job_entertainment / media  \\\n",
       "1                             0                          0   \n",
       "3                             0                          0   \n",
       "11                            0                          0   \n",
       "13                            0                          0   \n",
       "14                            0                          0   \n",
       "...                         ...                        ...   \n",
       "59917                         0                          0   \n",
       "59927                         0                          0   \n",
       "59930                         0                          0   \n",
       "59934                         0                          0   \n",
       "59943                         0                          0   \n",
       "\n",
       "       job_executive / management  job_hospitality / travel  ...  \\\n",
       "1                               0                         1  ...   \n",
       "3                               0                         0  ...   \n",
       "11                              0                         0  ...   \n",
       "13                              0                         0  ...   \n",
       "14                              0                         0  ...   \n",
       "...                           ...                       ...  ...   \n",
       "59917                           0                         0  ...   \n",
       "59927                           0                         0  ...   \n",
       "59930                           0                         0  ...   \n",
       "59934                           0                         0  ...   \n",
       "59943                           0                         0  ...   \n",
       "\n",
       "       education_space camp  education_two-year college  \\\n",
       "1                         0                           0   \n",
       "3                         0                           0   \n",
       "11                        0                           0   \n",
       "13                        0                           0   \n",
       "14                        0                           0   \n",
       "...                     ...                         ...   \n",
       "59917                     0                           0   \n",
       "59927                     0                           0   \n",
       "59930                     0                           0   \n",
       "59934                     0                           0   \n",
       "59943                     0                           0   \n",
       "\n",
       "       education_working on college/university  \\\n",
       "1                                            0   \n",
       "3                                            1   \n",
       "11                                           0   \n",
       "13                                           0   \n",
       "14                                           1   \n",
       "...                                        ...   \n",
       "59917                                        0   \n",
       "59927                                        0   \n",
       "59930                                        0   \n",
       "59934                                        0   \n",
       "59943                                        0   \n",
       "\n",
       "       education_working on high school  education_working on law school  \\\n",
       "1                                     0                                0   \n",
       "3                                     0                                0   \n",
       "11                                    0                                0   \n",
       "13                                    0                                0   \n",
       "14                                    0                                0   \n",
       "...                                 ...                              ...   \n",
       "59917                                 0                                0   \n",
       "59927                                 0                                0   \n",
       "59930                                 0                                0   \n",
       "59934                                 0                                0   \n",
       "59943                                 0                                0   \n",
       "\n",
       "       education_working on masters program  education_working on med school  \\\n",
       "1                                         0                                0   \n",
       "3                                         0                                0   \n",
       "11                                        0                                0   \n",
       "13                                        0                                0   \n",
       "14                                        0                                0   \n",
       "...                                     ...                              ...   \n",
       "59917                                     0                                0   \n",
       "59927                                     0                                0   \n",
       "59930                                     0                                0   \n",
       "59934                                     0                                0   \n",
       "59943                                     0                                0   \n",
       "\n",
       "       education_working on ph.d program  education_working on space camp  \\\n",
       "1                                      0                                1   \n",
       "3                                      0                                0   \n",
       "11                                     0                                0   \n",
       "13                                     0                                0   \n",
       "14                                     0                                0   \n",
       "...                                  ...                              ...   \n",
       "59917                                  0                                0   \n",
       "59927                                  0                                0   \n",
       "59930                                  0                                0   \n",
       "59934                                  0                                0   \n",
       "59943                                  0                                0   \n",
       "\n",
       "       education_working on two-year college  \n",
       "1                                          0  \n",
       "3                                          0  \n",
       "11                                         0  \n",
       "13                                         0  \n",
       "14                                         0  \n",
       "...                                      ...  \n",
       "59917                                      0  \n",
       "59927                                      0  \n",
       "59930                                      0  \n",
       "59934                                      0  \n",
       "59943                                      0  \n",
       "\n",
       "[10155 rows x 117 columns]"
      ]
     },
     "execution_count": 259,
     "metadata": {},
     "output_type": "execute_result"
    }
   ],
   "source": [
    "X_col_list = [col for col in data_select.columns if col != 'smokes']\n",
    "y_col_list = ['smokes']\n",
    "\n",
    "from sklearn.preprocessing import StandardScaler\n",
    "\n",
    "nn_bin_X = data_select[X_col_list]\n",
    "nn_bin_y= data_select[y_col_list]\n",
    "\n",
    "nn_bin_X"
   ]
  },
  {
   "cell_type": "code",
   "execution_count": 297,
   "id": "f9ecb678-ff07-4db5-8106-eddbc87f59b3",
   "metadata": {},
   "outputs": [],
   "source": [
    "import torch\n",
    "X_tensor = torch.tensor(nn_bin_X.values, dtype = torch.float)\n",
    "y_tensor = torch.tensor(nn_bin_y.values, dtype = torch.float)"
   ]
  },
  {
   "cell_type": "code",
   "execution_count": 357,
   "id": "e2c67a85-b134-4f40-ae6e-bdd8adcbc25b",
   "metadata": {},
   "outputs": [],
   "source": [
    "from sklearn.model_selection import train_test_split\n",
    "nn_bin_X_train, nn_bin_X_test, nn_bin_y_train, nn_bin_y_test = train_test_split(X_tensor, y_tensor, test_size = 0.2)"
   ]
  },
  {
   "cell_type": "code",
   "execution_count": 358,
   "id": "cc8acc62-ad22-403a-aec8-812105027127",
   "metadata": {},
   "outputs": [
    {
     "data": {
      "text/plain": [
       "(10155, 1)"
      ]
     },
     "execution_count": 358,
     "metadata": {},
     "output_type": "execute_result"
    }
   ],
   "source": [
    "nn_bin_y.shape"
   ]
  },
  {
   "cell_type": "code",
   "execution_count": 359,
   "id": "d7bc338f-7f94-422d-b596-018c7d17da4e",
   "metadata": {},
   "outputs": [
    {
     "data": {
      "text/plain": [
       "(10155, 117)"
      ]
     },
     "execution_count": 359,
     "metadata": {},
     "output_type": "execute_result"
    }
   ],
   "source": [
    "X_tensor = torch.tensor(nn_bin_X.values, dtype = torch.float)\n",
    "nn_bin_X.shape"
   ]
  },
  {
   "cell_type": "code",
   "execution_count": 360,
   "id": "307ce722-5595-484e-9c5f-c66651ecf5c9",
   "metadata": {},
   "outputs": [],
   "source": [
    "nn_bin_classifier = nn.Sequential(\n",
    "    nn.Linear(117,117),\n",
    "    nn.ReLU(),\n",
    "    nn.Linear(117,58),\n",
    "    nn.ReLU(),\n",
    "    nn.Linear(58,1)\n",
    ")"
   ]
  },
  {
   "cell_type": "code",
   "execution_count": 361,
   "id": "207f8c8f-d603-463b-9eec-2234433ad0c2",
   "metadata": {},
   "outputs": [
    {
     "name": "stdout",
     "output_type": "stream",
     "text": [
      "NaNs in inputs: False\n",
      "Infs in inputs: False\n",
      "NaNs in targets: True\n",
      "Infs in targets: False\n"
     ]
    }
   ],
   "source": [
    "print(\"NaNs in inputs:\", torch.isnan(nn_bin_X_train).any().item())\n",
    "print(\"Infs in inputs:\", torch.isinf(nn_bin_X_train).any().item())\n",
    "print(\"NaNs in targets:\", torch.isnan(nn_bin_y_train).any().item())\n",
    "print(\"Infs in targets:\", torch.isinf(nn_bin_y_train).any().item())\n"
   ]
  },
  {
   "cell_type": "code",
   "execution_count": 362,
   "id": "df647db8-b5e3-4b1d-8415-e0ea5a5865d4",
   "metadata": {},
   "outputs": [
    {
     "data": {
      "text/plain": [
       "torch.Size([8124, 117])"
      ]
     },
     "execution_count": 362,
     "metadata": {},
     "output_type": "execute_result"
    }
   ],
   "source": [
    "nn_bin_X_train.shape"
   ]
  },
  {
   "cell_type": "code",
   "execution_count": 363,
   "id": "85e4697b-82ef-437d-97e1-28e83e399618",
   "metadata": {},
   "outputs": [
    {
     "name": "stdout",
     "output_type": "stream",
     "text": [
      "torch.Size([8124, 117])\n",
      "torch.Size([2031, 117])\n"
     ]
    }
   ],
   "source": [
    "print(nn_bin_X_train.shape)  # Should be (2031, 117)\n",
    "print(nn_bin_X_test.shape)  # Should be (2031, 117)\n"
   ]
  },
  {
   "cell_type": "code",
   "execution_count": 364,
   "id": "7be6bca6-e22e-4fe3-9af5-36a3dcc93f44",
   "metadata": {
    "scrolled": true
   },
   "outputs": [],
   "source": [
    "# import torch.optim as optim\n",
    "# import torch.nn as nn\n",
    "\n",
    "# mask = ~torch.isnan(nn_bin_y_train).squeeze()\n",
    "# nn_bin_y_train = nn_bin_y_train[mask]\n",
    "# nn_bin_X_train = nn_bin_X_train[mask]  \n",
    "\n",
    "\n",
    "# loss_fn = torch.nn.BCEWithLogitsLoss()\n",
    "# optimizer = optim.SGD(nn_bin_classifier.parameters(), lr=0.001)\n",
    "\n",
    "# num_epochs = 3000\n",
    "# for epoch in range(num_epochs):\n",
    "#     optimizer.zero_grad()\n",
    "\n",
    "#     # Forward pass\n",
    "#     predictions = nn_bin_classifier(nn_bin_X_train)\n",
    "\n",
    "#     # Compute loss\n",
    "#     loss = loss_fn(predictions, nn_bin_y_train)\n",
    "\n",
    "#     # Backpropagation\n",
    "#     loss.backward()\n",
    "#     optimizer.step()\n",
    "\n",
    "#     # Print loss every 100 epochs\n",
    "#     if (epoch + 1) % 100 == 0:\n",
    "#         print(f'Epoch [{epoch+1}/{num_epochs}], Loss: {loss.item():.4f}')"
   ]
  },
  {
   "cell_type": "code",
   "execution_count": 365,
   "id": "52055743-8684-49db-bc92-1d77030ff59b",
   "metadata": {},
   "outputs": [],
   "source": [
    "torch.save(nn_bin_classifier, 'nn_bin_classifier')"
   ]
  },
  {
   "cell_type": "code",
   "execution_count": 379,
   "id": "dbcd45c1-2658-45fd-a2f8-096190aa10e5",
   "metadata": {},
   "outputs": [],
   "source": [
    "# Set model to eval mode\n",
    "nn_bin_classifier.eval()\n",
    "\n",
    "with torch.no_grad():\n",
    "    y_logits = nn_bin_classifier(nn_bin_X_test)\n",
    "    y_probs = torch.sigmoid(y_logits)              # Convert logits to probabilities\n",
    "    y_pred = (y_probs >= 0.5).float()               # Convert to binary labels (0 or 1)\n",
    "\n"
   ]
  },
  {
   "cell_type": "code",
   "execution_count": 403,
   "id": "3e6d8f83-5d0e-41b6-bbc2-64d370ad9100",
   "metadata": {},
   "outputs": [],
   "source": [
    "mask = ~torch.isnan(nn_bin_y_test).squeeze()\n",
    "nn_bin_y_test = nn_bin_y_test[mask]\n"
   ]
  },
  {
   "cell_type": "code",
   "execution_count": 401,
   "id": "5dbcaf00-5e98-41d8-b354-981afb87118b",
   "metadata": {},
   "outputs": [
    {
     "ename": "AttributeError",
     "evalue": "'numpy.ndarray' object has no attribute 'cpu'",
     "output_type": "error",
     "traceback": [
      "\u001b[1;31m---------------------------------------------------------------------------\u001b[0m",
      "\u001b[1;31mAttributeError\u001b[0m                            Traceback (most recent call last)",
      "Cell \u001b[1;32mIn[401], line 2\u001b[0m\n\u001b[0;32m      1\u001b[0m y_true \u001b[38;5;241m=\u001b[39m nn_bin_y_test\u001b[38;5;241m.\u001b[39mcpu()\u001b[38;5;241m.\u001b[39mnumpy()\n\u001b[1;32m----> 2\u001b[0m y_pred \u001b[38;5;241m=\u001b[39m y_pred\u001b[38;5;241m.\u001b[39mcpu()\u001b[38;5;241m.\u001b[39mnumpy()\n",
      "\u001b[1;31mAttributeError\u001b[0m: 'numpy.ndarray' object has no attribute 'cpu'"
     ]
    }
   ],
   "source": [
    "y_true = nn_bin_y_test.cpu().numpy()\n",
    "y_pred = y_pred.cpu().numpy()\n"
   ]
  },
  {
   "cell_type": "code",
   "execution_count": 405,
   "id": "32f81d7f-c156-47b8-a745-7e161714ffda",
   "metadata": {},
   "outputs": [
    {
     "ename": "ValueError",
     "evalue": "Found input variables with inconsistent numbers of samples: [1930, 2031]",
     "output_type": "error",
     "traceback": [
      "\u001b[1;31m---------------------------------------------------------------------------\u001b[0m",
      "\u001b[1;31mValueError\u001b[0m                                Traceback (most recent call last)",
      "Cell \u001b[1;32mIn[405], line 3\u001b[0m\n\u001b[0;32m      1\u001b[0m \u001b[38;5;28;01mfrom\u001b[39;00m \u001b[38;5;21;01msklearn\u001b[39;00m\u001b[38;5;21;01m.\u001b[39;00m\u001b[38;5;21;01mmetrics\u001b[39;00m \u001b[38;5;28;01mimport\u001b[39;00m accuracy_score, precision_score, recall_score, f1_score, confusion_matrix\n\u001b[1;32m----> 3\u001b[0m acc \u001b[38;5;241m=\u001b[39m accuracy_score(y_true, y_pred)\n\u001b[0;32m      4\u001b[0m prec \u001b[38;5;241m=\u001b[39m precision_score(y_true, y_pred, zero_division\u001b[38;5;241m=\u001b[39m\u001b[38;5;241m0\u001b[39m)\n\u001b[0;32m      5\u001b[0m rec \u001b[38;5;241m=\u001b[39m recall_score(y_true, y_pred)\n",
      "File \u001b[1;32m~\\anaconda3\\Lib\\site-packages\\sklearn\\utils\\_param_validation.py:213\u001b[0m, in \u001b[0;36mvalidate_params.<locals>.decorator.<locals>.wrapper\u001b[1;34m(*args, **kwargs)\u001b[0m\n\u001b[0;32m    207\u001b[0m \u001b[38;5;28;01mtry\u001b[39;00m:\n\u001b[0;32m    208\u001b[0m     \u001b[38;5;28;01mwith\u001b[39;00m config_context(\n\u001b[0;32m    209\u001b[0m         skip_parameter_validation\u001b[38;5;241m=\u001b[39m(\n\u001b[0;32m    210\u001b[0m             prefer_skip_nested_validation \u001b[38;5;129;01mor\u001b[39;00m global_skip_validation\n\u001b[0;32m    211\u001b[0m         )\n\u001b[0;32m    212\u001b[0m     ):\n\u001b[1;32m--> 213\u001b[0m         \u001b[38;5;28;01mreturn\u001b[39;00m func(\u001b[38;5;241m*\u001b[39margs, \u001b[38;5;241m*\u001b[39m\u001b[38;5;241m*\u001b[39mkwargs)\n\u001b[0;32m    214\u001b[0m \u001b[38;5;28;01mexcept\u001b[39;00m InvalidParameterError \u001b[38;5;28;01mas\u001b[39;00m e:\n\u001b[0;32m    215\u001b[0m     \u001b[38;5;66;03m# When the function is just a wrapper around an estimator, we allow\u001b[39;00m\n\u001b[0;32m    216\u001b[0m     \u001b[38;5;66;03m# the function to delegate validation to the estimator, but we replace\u001b[39;00m\n\u001b[0;32m    217\u001b[0m     \u001b[38;5;66;03m# the name of the estimator by the name of the function in the error\u001b[39;00m\n\u001b[0;32m    218\u001b[0m     \u001b[38;5;66;03m# message to avoid confusion.\u001b[39;00m\n\u001b[0;32m    219\u001b[0m     msg \u001b[38;5;241m=\u001b[39m re\u001b[38;5;241m.\u001b[39msub(\n\u001b[0;32m    220\u001b[0m         \u001b[38;5;124mr\u001b[39m\u001b[38;5;124m\"\u001b[39m\u001b[38;5;124mparameter of \u001b[39m\u001b[38;5;124m\\\u001b[39m\u001b[38;5;124mw+ must be\u001b[39m\u001b[38;5;124m\"\u001b[39m,\n\u001b[0;32m    221\u001b[0m         \u001b[38;5;124mf\u001b[39m\u001b[38;5;124m\"\u001b[39m\u001b[38;5;124mparameter of \u001b[39m\u001b[38;5;132;01m{\u001b[39;00mfunc\u001b[38;5;241m.\u001b[39m\u001b[38;5;18m__qualname__\u001b[39m\u001b[38;5;132;01m}\u001b[39;00m\u001b[38;5;124m must be\u001b[39m\u001b[38;5;124m\"\u001b[39m,\n\u001b[0;32m    222\u001b[0m         \u001b[38;5;28mstr\u001b[39m(e),\n\u001b[0;32m    223\u001b[0m     )\n",
      "File \u001b[1;32m~\\anaconda3\\Lib\\site-packages\\sklearn\\metrics\\_classification.py:231\u001b[0m, in \u001b[0;36maccuracy_score\u001b[1;34m(y_true, y_pred, normalize, sample_weight)\u001b[0m\n\u001b[0;32m    229\u001b[0m xp, _, device \u001b[38;5;241m=\u001b[39m get_namespace_and_device(y_true, y_pred, sample_weight)\n\u001b[0;32m    230\u001b[0m \u001b[38;5;66;03m# Compute accuracy for each possible representation\u001b[39;00m\n\u001b[1;32m--> 231\u001b[0m y_type, y_true, y_pred \u001b[38;5;241m=\u001b[39m _check_targets(y_true, y_pred)\n\u001b[0;32m    232\u001b[0m check_consistent_length(y_true, y_pred, sample_weight)\n\u001b[0;32m    233\u001b[0m \u001b[38;5;28;01mif\u001b[39;00m y_type\u001b[38;5;241m.\u001b[39mstartswith(\u001b[38;5;124m\"\u001b[39m\u001b[38;5;124mmultilabel\u001b[39m\u001b[38;5;124m\"\u001b[39m):\n",
      "File \u001b[1;32m~\\anaconda3\\Lib\\site-packages\\sklearn\\metrics\\_classification.py:103\u001b[0m, in \u001b[0;36m_check_targets\u001b[1;34m(y_true, y_pred)\u001b[0m\n\u001b[0;32m     76\u001b[0m \u001b[38;5;250m\u001b[39m\u001b[38;5;124;03m\"\"\"Check that y_true and y_pred belong to the same classification task.\u001b[39;00m\n\u001b[0;32m     77\u001b[0m \n\u001b[0;32m     78\u001b[0m \u001b[38;5;124;03mThis converts multiclass or binary types to a common shape, and raises a\u001b[39;00m\n\u001b[1;32m   (...)\u001b[0m\n\u001b[0;32m    100\u001b[0m \u001b[38;5;124;03my_pred : array or indicator matrix\u001b[39;00m\n\u001b[0;32m    101\u001b[0m \u001b[38;5;124;03m\"\"\"\u001b[39;00m\n\u001b[0;32m    102\u001b[0m xp, _ \u001b[38;5;241m=\u001b[39m get_namespace(y_true, y_pred)\n\u001b[1;32m--> 103\u001b[0m check_consistent_length(y_true, y_pred)\n\u001b[0;32m    104\u001b[0m type_true \u001b[38;5;241m=\u001b[39m type_of_target(y_true, input_name\u001b[38;5;241m=\u001b[39m\u001b[38;5;124m\"\u001b[39m\u001b[38;5;124my_true\u001b[39m\u001b[38;5;124m\"\u001b[39m)\n\u001b[0;32m    105\u001b[0m type_pred \u001b[38;5;241m=\u001b[39m type_of_target(y_pred, input_name\u001b[38;5;241m=\u001b[39m\u001b[38;5;124m\"\u001b[39m\u001b[38;5;124my_pred\u001b[39m\u001b[38;5;124m\"\u001b[39m)\n",
      "File \u001b[1;32m~\\anaconda3\\Lib\\site-packages\\sklearn\\utils\\validation.py:457\u001b[0m, in \u001b[0;36mcheck_consistent_length\u001b[1;34m(*arrays)\u001b[0m\n\u001b[0;32m    455\u001b[0m uniques \u001b[38;5;241m=\u001b[39m np\u001b[38;5;241m.\u001b[39munique(lengths)\n\u001b[0;32m    456\u001b[0m \u001b[38;5;28;01mif\u001b[39;00m \u001b[38;5;28mlen\u001b[39m(uniques) \u001b[38;5;241m>\u001b[39m \u001b[38;5;241m1\u001b[39m:\n\u001b[1;32m--> 457\u001b[0m     \u001b[38;5;28;01mraise\u001b[39;00m \u001b[38;5;167;01mValueError\u001b[39;00m(\n\u001b[0;32m    458\u001b[0m         \u001b[38;5;124m\"\u001b[39m\u001b[38;5;124mFound input variables with inconsistent numbers of samples: \u001b[39m\u001b[38;5;132;01m%r\u001b[39;00m\u001b[38;5;124m\"\u001b[39m\n\u001b[0;32m    459\u001b[0m         \u001b[38;5;241m%\u001b[39m [\u001b[38;5;28mint\u001b[39m(l) \u001b[38;5;28;01mfor\u001b[39;00m l \u001b[38;5;129;01min\u001b[39;00m lengths]\n\u001b[0;32m    460\u001b[0m     )\n",
      "\u001b[1;31mValueError\u001b[0m: Found input variables with inconsistent numbers of samples: [1930, 2031]"
     ]
    }
   ],
   "source": [
    "from sklearn.metrics import accuracy_score, precision_score, recall_score, f1_score, confusion_matrix\n",
    "\n",
    "acc = accuracy_score(y_true, y_pred)\n",
    "prec = precision_score(y_true, y_pred, zero_division=0)\n",
    "rec = recall_score(y_true, y_pred)\n",
    "f1 = f1_score(y_true, y_pred)\n",
    "\n",
    "print(f\"Accuracy:  {acc:.3f}\")\n",
    "print(f\"Precision: {prec:.3f}\")\n",
    "print(f\"Recall:    {rec:.3f}\")\n",
    "print(f\"F1 Score:  {f1:.3f}\")\n"
   ]
  }
 ],
 "metadata": {
  "kernelspec": {
   "display_name": "Python [conda env:base] *",
   "language": "python",
   "name": "conda-base-py"
  },
  "language_info": {
   "codemirror_mode": {
    "name": "ipython",
    "version": 3
   },
   "file_extension": ".py",
   "mimetype": "text/x-python",
   "name": "python",
   "nbconvert_exporter": "python",
   "pygments_lexer": "ipython3",
   "version": "3.12.7"
  }
 },
 "nbformat": 4,
 "nbformat_minor": 5
}
