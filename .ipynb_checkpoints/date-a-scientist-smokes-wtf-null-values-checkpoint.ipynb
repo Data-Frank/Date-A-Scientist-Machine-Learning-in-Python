{
 "cells": [
  {
   "cell_type": "code",
   "execution_count": 453,
   "id": "b29b3f60-d752-423d-8909-68f28302db4a",
   "metadata": {},
   "outputs": [],
   "source": [
    "import pandas as pd"
   ]
  },
  {
   "cell_type": "code",
   "execution_count": 454,
   "id": "f06347f9-d0a5-4d59-988e-02505c0ae221",
   "metadata": {},
   "outputs": [],
   "source": [
    "data = pd.read_csv(\"profiles.csv\")"
   ]
  },
  {
   "cell_type": "code",
   "execution_count": 455,
   "id": "b8c906fa-0366-4239-9075-97deb5d1d92b",
   "metadata": {},
   "outputs": [
    {
     "data": {
      "text/html": [
       "<div>\n",
       "<style scoped>\n",
       "    .dataframe tbody tr th:only-of-type {\n",
       "        vertical-align: middle;\n",
       "    }\n",
       "\n",
       "    .dataframe tbody tr th {\n",
       "        vertical-align: top;\n",
       "    }\n",
       "\n",
       "    .dataframe thead th {\n",
       "        text-align: right;\n",
       "    }\n",
       "</style>\n",
       "<table border=\"1\" class=\"dataframe\">\n",
       "  <thead>\n",
       "    <tr style=\"text-align: right;\">\n",
       "      <th></th>\n",
       "      <th>age</th>\n",
       "      <th>body_type</th>\n",
       "      <th>diet</th>\n",
       "      <th>drinks</th>\n",
       "      <th>drugs</th>\n",
       "      <th>education</th>\n",
       "      <th>essay0</th>\n",
       "      <th>essay1</th>\n",
       "      <th>essay2</th>\n",
       "      <th>essay3</th>\n",
       "      <th>...</th>\n",
       "      <th>location</th>\n",
       "      <th>offspring</th>\n",
       "      <th>orientation</th>\n",
       "      <th>pets</th>\n",
       "      <th>religion</th>\n",
       "      <th>sex</th>\n",
       "      <th>sign</th>\n",
       "      <th>smokes</th>\n",
       "      <th>speaks</th>\n",
       "      <th>status</th>\n",
       "    </tr>\n",
       "  </thead>\n",
       "  <tbody>\n",
       "    <tr>\n",
       "      <th>0</th>\n",
       "      <td>22</td>\n",
       "      <td>a little extra</td>\n",
       "      <td>strictly anything</td>\n",
       "      <td>socially</td>\n",
       "      <td>never</td>\n",
       "      <td>working on college/university</td>\n",
       "      <td>about me:&lt;br /&gt;\\n&lt;br /&gt;\\ni would love to think...</td>\n",
       "      <td>currently working as an international agent fo...</td>\n",
       "      <td>making people laugh.&lt;br /&gt;\\nranting about a go...</td>\n",
       "      <td>the way i look. i am a six foot half asian, ha...</td>\n",
       "      <td>...</td>\n",
       "      <td>south san francisco, california</td>\n",
       "      <td>doesn&amp;rsquo;t have kids, but might want them</td>\n",
       "      <td>straight</td>\n",
       "      <td>likes dogs and likes cats</td>\n",
       "      <td>agnosticism and very serious about it</td>\n",
       "      <td>m</td>\n",
       "      <td>gemini</td>\n",
       "      <td>sometimes</td>\n",
       "      <td>english</td>\n",
       "      <td>single</td>\n",
       "    </tr>\n",
       "    <tr>\n",
       "      <th>1</th>\n",
       "      <td>35</td>\n",
       "      <td>average</td>\n",
       "      <td>mostly other</td>\n",
       "      <td>often</td>\n",
       "      <td>sometimes</td>\n",
       "      <td>working on space camp</td>\n",
       "      <td>i am a chef: this is what that means.&lt;br /&gt;\\n1...</td>\n",
       "      <td>dedicating everyday to being an unbelievable b...</td>\n",
       "      <td>being silly. having ridiculous amonts of fun w...</td>\n",
       "      <td>NaN</td>\n",
       "      <td>...</td>\n",
       "      <td>oakland, california</td>\n",
       "      <td>doesn&amp;rsquo;t have kids, but might want them</td>\n",
       "      <td>straight</td>\n",
       "      <td>likes dogs and likes cats</td>\n",
       "      <td>agnosticism but not too serious about it</td>\n",
       "      <td>m</td>\n",
       "      <td>cancer</td>\n",
       "      <td>no</td>\n",
       "      <td>english (fluently), spanish (poorly), french (...</td>\n",
       "      <td>single</td>\n",
       "    </tr>\n",
       "    <tr>\n",
       "      <th>2</th>\n",
       "      <td>38</td>\n",
       "      <td>thin</td>\n",
       "      <td>anything</td>\n",
       "      <td>socially</td>\n",
       "      <td>NaN</td>\n",
       "      <td>graduated from masters program</td>\n",
       "      <td>i'm not ashamed of much, but writing public te...</td>\n",
       "      <td>i make nerdy software for musicians, artists, ...</td>\n",
       "      <td>improvising in different contexts. alternating...</td>\n",
       "      <td>my large jaw and large glasses are the physica...</td>\n",
       "      <td>...</td>\n",
       "      <td>san francisco, california</td>\n",
       "      <td>NaN</td>\n",
       "      <td>straight</td>\n",
       "      <td>has cats</td>\n",
       "      <td>NaN</td>\n",
       "      <td>m</td>\n",
       "      <td>pisces but it doesn&amp;rsquo;t matter</td>\n",
       "      <td>no</td>\n",
       "      <td>english, french, c++</td>\n",
       "      <td>available</td>\n",
       "    </tr>\n",
       "    <tr>\n",
       "      <th>3</th>\n",
       "      <td>23</td>\n",
       "      <td>thin</td>\n",
       "      <td>vegetarian</td>\n",
       "      <td>socially</td>\n",
       "      <td>NaN</td>\n",
       "      <td>working on college/university</td>\n",
       "      <td>i work in a library and go to school. . .</td>\n",
       "      <td>reading things written by old dead people</td>\n",
       "      <td>playing synthesizers and organizing books acco...</td>\n",
       "      <td>socially awkward but i do my best</td>\n",
       "      <td>...</td>\n",
       "      <td>berkeley, california</td>\n",
       "      <td>doesn&amp;rsquo;t want kids</td>\n",
       "      <td>straight</td>\n",
       "      <td>likes cats</td>\n",
       "      <td>NaN</td>\n",
       "      <td>m</td>\n",
       "      <td>pisces</td>\n",
       "      <td>no</td>\n",
       "      <td>english, german (poorly)</td>\n",
       "      <td>single</td>\n",
       "    </tr>\n",
       "    <tr>\n",
       "      <th>4</th>\n",
       "      <td>29</td>\n",
       "      <td>athletic</td>\n",
       "      <td>NaN</td>\n",
       "      <td>socially</td>\n",
       "      <td>never</td>\n",
       "      <td>graduated from college/university</td>\n",
       "      <td>hey how's it going? currently vague on the pro...</td>\n",
       "      <td>work work work work + play</td>\n",
       "      <td>creating imagery to look at:&lt;br /&gt;\\nhttp://bag...</td>\n",
       "      <td>i smile a lot and my inquisitive nature</td>\n",
       "      <td>...</td>\n",
       "      <td>san francisco, california</td>\n",
       "      <td>NaN</td>\n",
       "      <td>straight</td>\n",
       "      <td>likes dogs and likes cats</td>\n",
       "      <td>NaN</td>\n",
       "      <td>m</td>\n",
       "      <td>aquarius</td>\n",
       "      <td>no</td>\n",
       "      <td>english</td>\n",
       "      <td>single</td>\n",
       "    </tr>\n",
       "  </tbody>\n",
       "</table>\n",
       "<p>5 rows × 31 columns</p>\n",
       "</div>"
      ],
      "text/plain": [
       "   age       body_type               diet    drinks      drugs  \\\n",
       "0   22  a little extra  strictly anything  socially      never   \n",
       "1   35         average       mostly other     often  sometimes   \n",
       "2   38            thin           anything  socially        NaN   \n",
       "3   23            thin         vegetarian  socially        NaN   \n",
       "4   29        athletic                NaN  socially      never   \n",
       "\n",
       "                           education  \\\n",
       "0      working on college/university   \n",
       "1              working on space camp   \n",
       "2     graduated from masters program   \n",
       "3      working on college/university   \n",
       "4  graduated from college/university   \n",
       "\n",
       "                                              essay0  \\\n",
       "0  about me:<br />\\n<br />\\ni would love to think...   \n",
       "1  i am a chef: this is what that means.<br />\\n1...   \n",
       "2  i'm not ashamed of much, but writing public te...   \n",
       "3          i work in a library and go to school. . .   \n",
       "4  hey how's it going? currently vague on the pro...   \n",
       "\n",
       "                                              essay1  \\\n",
       "0  currently working as an international agent fo...   \n",
       "1  dedicating everyday to being an unbelievable b...   \n",
       "2  i make nerdy software for musicians, artists, ...   \n",
       "3          reading things written by old dead people   \n",
       "4                         work work work work + play   \n",
       "\n",
       "                                              essay2  \\\n",
       "0  making people laugh.<br />\\nranting about a go...   \n",
       "1  being silly. having ridiculous amonts of fun w...   \n",
       "2  improvising in different contexts. alternating...   \n",
       "3  playing synthesizers and organizing books acco...   \n",
       "4  creating imagery to look at:<br />\\nhttp://bag...   \n",
       "\n",
       "                                              essay3  ...  \\\n",
       "0  the way i look. i am a six foot half asian, ha...  ...   \n",
       "1                                                NaN  ...   \n",
       "2  my large jaw and large glasses are the physica...  ...   \n",
       "3                  socially awkward but i do my best  ...   \n",
       "4            i smile a lot and my inquisitive nature  ...   \n",
       "\n",
       "                          location  \\\n",
       "0  south san francisco, california   \n",
       "1              oakland, california   \n",
       "2        san francisco, california   \n",
       "3             berkeley, california   \n",
       "4        san francisco, california   \n",
       "\n",
       "                                      offspring orientation  \\\n",
       "0  doesn&rsquo;t have kids, but might want them    straight   \n",
       "1  doesn&rsquo;t have kids, but might want them    straight   \n",
       "2                                           NaN    straight   \n",
       "3                       doesn&rsquo;t want kids    straight   \n",
       "4                                           NaN    straight   \n",
       "\n",
       "                        pets                                  religion sex  \\\n",
       "0  likes dogs and likes cats     agnosticism and very serious about it   m   \n",
       "1  likes dogs and likes cats  agnosticism but not too serious about it   m   \n",
       "2                   has cats                                       NaN   m   \n",
       "3                 likes cats                                       NaN   m   \n",
       "4  likes dogs and likes cats                                       NaN   m   \n",
       "\n",
       "                                 sign     smokes  \\\n",
       "0                              gemini  sometimes   \n",
       "1                              cancer         no   \n",
       "2  pisces but it doesn&rsquo;t matter         no   \n",
       "3                              pisces         no   \n",
       "4                            aquarius         no   \n",
       "\n",
       "                                              speaks     status  \n",
       "0                                            english     single  \n",
       "1  english (fluently), spanish (poorly), french (...     single  \n",
       "2                               english, french, c++  available  \n",
       "3                           english, german (poorly)     single  \n",
       "4                                            english     single  \n",
       "\n",
       "[5 rows x 31 columns]"
      ]
     },
     "execution_count": 455,
     "metadata": {},
     "output_type": "execute_result"
    }
   ],
   "source": [
    "data.head()"
   ]
  },
  {
   "cell_type": "code",
   "execution_count": 456,
   "id": "560f9685-2e63-4f49-ba12-2c8423c0cb14",
   "metadata": {
    "scrolled": true
   },
   "outputs": [
    {
     "name": "stdout",
     "output_type": "stream",
     "text": [
      "<class 'pandas.core.frame.DataFrame'>\n",
      "RangeIndex: 59946 entries, 0 to 59945\n",
      "Data columns (total 31 columns):\n",
      " #   Column       Non-Null Count  Dtype  \n",
      "---  ------       --------------  -----  \n",
      " 0   age          59946 non-null  int64  \n",
      " 1   body_type    54650 non-null  object \n",
      " 2   diet         35551 non-null  object \n",
      " 3   drinks       56961 non-null  object \n",
      " 4   drugs        45866 non-null  object \n",
      " 5   education    53318 non-null  object \n",
      " 6   essay0       54458 non-null  object \n",
      " 7   essay1       52374 non-null  object \n",
      " 8   essay2       50308 non-null  object \n",
      " 9   essay3       48470 non-null  object \n",
      " 10  essay4       49409 non-null  object \n",
      " 11  essay5       49096 non-null  object \n",
      " 12  essay6       46175 non-null  object \n",
      " 13  essay7       47495 non-null  object \n",
      " 14  essay8       40721 non-null  object \n",
      " 15  essay9       47343 non-null  object \n",
      " 16  ethnicity    54266 non-null  object \n",
      " 17  height       59943 non-null  float64\n",
      " 18  income       59946 non-null  int64  \n",
      " 19  job          51748 non-null  object \n",
      " 20  last_online  59946 non-null  object \n",
      " 21  location     59946 non-null  object \n",
      " 22  offspring    24385 non-null  object \n",
      " 23  orientation  59946 non-null  object \n",
      " 24  pets         40025 non-null  object \n",
      " 25  religion     39720 non-null  object \n",
      " 26  sex          59946 non-null  object \n",
      " 27  sign         48890 non-null  object \n",
      " 28  smokes       54434 non-null  object \n",
      " 29  speaks       59896 non-null  object \n",
      " 30  status       59946 non-null  object \n",
      "dtypes: float64(1), int64(2), object(28)\n",
      "memory usage: 14.2+ MB\n"
     ]
    }
   ],
   "source": [
    "data.info()"
   ]
  },
  {
   "cell_type": "code",
   "execution_count": 457,
   "id": "d214230f-7485-4134-b610-0fa5afabde68",
   "metadata": {},
   "outputs": [
    {
     "data": {
      "image/png": "[encoded data removed]",
      "text/plain": [
       "<Figure size 640x480 with 1 Axes>"
      ]
     },
     "metadata": {},
     "output_type": "display_data"
    }
   ],
   "source": [
    "import matplotlib.pyplot as plt\n",
    "\n",
    "# Scatter plot height vs age\n",
    "plt.scatter(data['age'], data['height'], alpha=0.7)\n",
    "\n",
    "plt.title('Height vs Age')\n",
    "plt.xlabel('Age')\n",
    "plt.ylabel('Height')\n",
    "plt.show()\n"
   ]
  },
  {
   "cell_type": "code",
   "execution_count": 458,
   "id": "e296eb9f-3a24-402a-a50b-3cb5bfdab21f",
   "metadata": {},
   "outputs": [
    {
     "name": "stdout",
     "output_type": "stream",
     "text": [
      "age: 100.00% non-null values \n",
      "body_type: 91.17% non-null values \n",
      "diet: 59.31% non-null values \n",
      "drinks: 95.02% non-null values \n",
      "drugs: 76.51% non-null values \n",
      "education: 88.94% non-null values \n",
      "essay0: 90.85% non-null values \n",
      "essay1: 87.37% non-null values \n",
      "essay2: 83.92% non-null values \n",
      "essay3: 80.86% non-null values \n",
      "essay4: 82.42% non-null values \n",
      "essay5: 81.90% non-null values \n",
      "essay6: 77.03% non-null values \n",
      "essay7: 79.23% non-null values \n",
      "essay8: 67.93% non-null values \n",
      "essay9: 78.98% non-null values \n",
      "ethnicity: 90.52% non-null values \n",
      "height: 99.99% non-null values \n",
      "income: 100.00% non-null values \n",
      "job: 86.32% non-null values \n",
      "last_online: 100.00% non-null values \n",
      "location: 100.00% non-null values \n",
      "offspring: 40.68% non-null values \n",
      "orientation: 100.00% non-null values \n",
      "pets: 66.77% non-null values \n",
      "religion: 66.26% non-null values \n",
      "sex: 100.00% non-null values \n",
      "sign: 81.56% non-null values \n",
      "smokes: 90.81% non-null values \n",
      "speaks: 99.92% non-null values \n",
      "status: 100.00% non-null values \n"
     ]
    }
   ],
   "source": [
    "for col in data.columns:\n",
    "        non_null_percentage = data[col].count()/59946\n",
    "        print(f\"{col}: {non_null_percentage:.2%} {'non-null values'} \")"
   ]
  },
  {
   "cell_type": "code",
   "execution_count": 459,
   "id": "b4d3ba0c-755f-4f5a-8f08-b4799ff3f8cf",
   "metadata": {},
   "outputs": [
    {
     "name": "stdout",
     "output_type": "stream",
     "text": [
      " 0.433 %\n"
     ]
    }
   ],
   "source": [
    "total = 100\n",
    "for col in data.columns:\n",
    "        non_null_percentage = data[col].count()/59946\n",
    "        total *= non_null_percentage\n",
    "\n",
    "print(f\" {total:.3f} {\"%\"}\")"
   ]
  },
  {
   "cell_type": "markdown",
   "id": "20bad496-b17f-4d63-8a9e-a33055b13459",
   "metadata": {},
   "source": [
    "\n",
    "'job', 'age', 'sex', 'income', 'smokes', 'offspring', 'body_type', 'diet','drugs', 'drinks','education"
   ]
  },
  {
   "cell_type": "markdown",
   "id": "2cd0d9c5-d0ce-4f2d-9da8-f08fbd48ceab",
   "metadata": {},
   "source": [
    "Input variables: age, body_type, diet, drinks, drugs, education, ethnicity, height, job, offspring, orientation, pets, religion, sex, sign, smokes, \n",
    "\n",
    "I am not incuding the 'essay' columns, because these are very hard to quantify. I could use text classification to categorize them and quentify them, but that will be for another projects\n",
    "I am not incuding the 'speaks' column, because there are too many values with too little frequency, which could lead to overfitting.\n",
    "\n",
    "\n",
    "Target values: Status misschien wel het meest interessante, aangezien dit het doel is van de app. Ongeveer 4,2% van vrouwen is seeing someone en 3,4% van de mannen. \n",
    "Zou het nog kunnen uitsplitsen per man/vrouwe"
   ]
  },
  {
   "cell_type": "markdown",
   "id": "efed0ad8-3b15-45be-a99a-d2a830d1efb2",
   "metadata": {},
   "source": [
    "Lets keep it simple and only use 'job', 'age' and 'sex' to predict 'income'."
   ]
  },
  {
   "cell_type": "code",
   "execution_count": 463,
   "id": "622542a5-a203-4f53-9bfd-8144fdd85d11",
   "metadata": {
    "scrolled": true
   },
   "outputs": [
    {
     "data": {
      "text/plain": [
       "job\n",
       "other                                7589\n",
       "student                              4882\n",
       "science / tech / engineering         4848\n",
       "computer / hardware / software       4709\n",
       "artistic / musical / writer          4439\n",
       "sales / marketing / biz dev          4391\n",
       "medicine / health                    3680\n",
       "education / academia                 3513\n",
       "executive / management               2373\n",
       "banking / financial / real estate    2266\n",
       "entertainment / media                2250\n",
       "law / legal services                 1381\n",
       "hospitality / travel                 1364\n",
       "construction / craftsmanship         1021\n",
       "clerical / administrative             805\n",
       "political / government                708\n",
       "rather not say                        436\n",
       "transportation                        366\n",
       "unemployed                            273\n",
       "retired                               250\n",
       "military                              204\n",
       "Name: count, dtype: int64"
      ]
     },
     "execution_count": 463,
     "metadata": {},
     "output_type": "execute_result"
    }
   ],
   "source": [
    "data.job.value_counts()"
   ]
  },
  {
   "cell_type": "code",
   "execution_count": 464,
   "id": "57623749-3759-4b10-b667-1dcf003c0ad1",
   "metadata": {},
   "outputs": [
    {
     "data": {
      "image/png": "[encoded data removed]",
      "text/plain": [
       "<Figure size 640x480 with 1 Axes>"
      ]
     },
     "metadata": {},
     "output_type": "display_data"
    }
   ],
   "source": [
    "import matplotlib.pyplot as plt\n",
    "\n",
    "# Plot histogram\n",
    "data['age'].plot(kind='hist', bins=30, edgecolor='black')\n",
    "\n",
    "plt.title('Age Distribution')\n",
    "plt.xlabel('Age')\n",
    "plt.ylabel('Frequency')\n",
    "plt.show()"
   ]
  },
  {
   "cell_type": "code",
   "execution_count": 465,
   "id": "cb8ff1a6-830f-498b-a7d7-66172e7dab99",
   "metadata": {
    "scrolled": true
   },
   "outputs": [
    {
     "data": {
      "image/png": "[encoded data removed]",
      "text/plain": [
       "<Figure size 640x480 with 1 Axes>"
      ]
     },
     "metadata": {},
     "output_type": "display_data"
    }
   ],
   "source": [
    "import matplotlib.pyplot as plt\n",
    "\n",
    "# Plot histogram\n",
    "data['income'].plot(kind='hist', bins=30, edgecolor='black')\n",
    "\n",
    "plt.title('Income Distribution')\n",
    "plt.xlabel('Income')\n",
    "plt.ylabel('Frequency')\n",
    "plt.show()"
   ]
  },
  {
   "cell_type": "code",
   "execution_count": 466,
   "id": "e62ee500-6629-431f-9eea-05c35f6b9e68",
   "metadata": {},
   "outputs": [
    {
     "data": {
      "text/plain": [
       "count      59946.000000\n",
       "mean       20033.222534\n",
       "std        97346.192104\n",
       "min           -1.000000\n",
       "25%           -1.000000\n",
       "50%           -1.000000\n",
       "75%           -1.000000\n",
       "max      1000000.000000\n",
       "Name: income, dtype: float64"
      ]
     },
     "execution_count": 466,
     "metadata": {},
     "output_type": "execute_result"
    }
   ],
   "source": [
    "data.income.describe()"
   ]
  },
  {
   "cell_type": "code",
   "execution_count": 467,
   "id": "36349c48-9167-42d5-8d0d-6d44e44efd75",
   "metadata": {},
   "outputs": [
    {
     "data": {
      "text/plain": [
       "11504"
      ]
     },
     "execution_count": 467,
     "metadata": {},
     "output_type": "execute_result"
    }
   ],
   "source": [
    "income_above_0 = data[data['income'] > 0 ]\n",
    "len(income_above_0)"
   ]
  },
  {
   "cell_type": "code",
   "execution_count": 468,
   "id": "8fe0dc52-9455-46df-b793-9b45ad365511",
   "metadata": {
    "scrolled": true
   },
   "outputs": [
    {
     "data": {
      "image/png": "[encoded data removed]",
      "text/plain": [
       "<Figure size 640x480 with 1 Axes>"
      ]
     },
     "metadata": {},
     "output_type": "display_data"
    }
   ],
   "source": [
    "import matplotlib.pyplot as plt\n",
    "\n",
    "# Plot histogram\n",
    "income_above_0['income'].plot(kind='hist', bins=30, edgecolor='black')\n",
    "\n",
    "plt.title('Income Distribution')\n",
    "plt.xlabel('Income')\n",
    "plt.ylabel('Frequency')\n",
    "plt.show()"
   ]
  },
  {
   "cell_type": "code",
   "execution_count": 469,
   "id": "23ec0f1d-2115-4dea-a018-6c4c89b31769",
   "metadata": {},
   "outputs": [
    {
     "data": {
      "text/plain": [
       "29773      20000\n",
       "50068      20000\n",
       "50037      20000\n",
       "50018      20000\n",
       "50001      20000\n",
       "          ...   \n",
       "29935    1000000\n",
       "18588    1000000\n",
       "18593    1000000\n",
       "15052    1000000\n",
       "32080    1000000\n",
       "Name: income, Length: 11504, dtype: int64"
      ]
     },
     "execution_count": 469,
     "metadata": {},
     "output_type": "execute_result"
    }
   ],
   "source": [
    "income_above_0['income'].sort_values()"
   ]
  },
  {
   "cell_type": "code",
   "execution_count": 470,
   "id": "a8c7ffb6-4204-43d4-8c77-16296aca5952",
   "metadata": {},
   "outputs": [
    {
     "data": {
      "image/png": "[encoded data removed]",
      "text/plain": [
       "<Figure size 640x480 with 1 Axes>"
      ]
     },
     "metadata": {},
     "output_type": "display_data"
    }
   ],
   "source": [
    "income_above_0_below_150k = income_above_0[income_above_0['income'] < 150000]\n",
    "# Plot histogram\n",
    "income_above_0_below_150k['income'].plot(kind='hist', bins=30, edgecolor='black')\n",
    "\n",
    "plt.title('Income Distribution')\n",
    "plt.xlabel('Income')\n",
    "plt.ylabel('Frequency')\n",
    "plt.show()"
   ]
  },
  {
   "cell_type": "code",
   "execution_count": 471,
   "id": "2ef6bc10-4817-49e9-9f44-c87d253b9c25",
   "metadata": {},
   "outputs": [
    {
     "data": {
      "text/plain": [
       "count     10155.000000\n",
       "mean      51606.105367\n",
       "std       29033.245262\n",
       "min       20000.000000\n",
       "25%       20000.000000\n",
       "50%       50000.000000\n",
       "75%       80000.000000\n",
       "max      100000.000000\n",
       "Name: income, dtype: float64"
      ]
     },
     "execution_count": 471,
     "metadata": {},
     "output_type": "execute_result"
    }
   ],
   "source": [
    "income_above_0_below_150k['income'].describe()"
   ]
  },
  {
   "cell_type": "markdown",
   "id": "33fc7b3b-ae39-4371-b641-3aa4f4331100",
   "metadata": {},
   "source": [
    "Lets keep it simple and only use 'job', 'age' and 'sex' to predict 'income'."
   ]
  },
  {
   "cell_type": "markdown",
   "id": "441d7109-2ab7-4231-bef6-9bf95f9fe4d9",
   "metadata": {},
   "source": [
    "## Predicting income by using nn regression and linear regression"
   ]
  },
  {
   "cell_type": "code",
   "execution_count": 474,
   "id": "2d96d753-6b09-46da-af03-daba018cb26d",
   "metadata": {
    "scrolled": true
   },
   "outputs": [
    {
     "name": "stdout",
     "output_type": "stream",
     "text": [
      "age: 100.00%\n",
      "body_type: 91.17%\n",
      "diet: 59.31%\n",
      "drinks: 95.02%\n",
      "drugs: 76.51%\n",
      "education: 88.94%\n",
      "income: 100.00%\n",
      "job: 86.32%\n",
      "offspring: 40.68%\n",
      "sex: 100.00%\n",
      "smokes: 90.81%\n"
     ]
    }
   ],
   "source": [
    "for col in data.columns:\n",
    "    if col in ['job', 'age', 'sex', 'income', 'smokes', 'offspring', 'body_type', 'diet','drugs', 'drinks','education']:\n",
    "        non_null_percentage = data[col].count()/59946\n",
    "        print(f\"{col}: {non_null_percentage:.2%}\")\n"
   ]
  },
  {
   "cell_type": "code",
   "execution_count": 475,
   "id": "842e8ddf-d419-4bde-a82f-512dee435fff",
   "metadata": {
    "scrolled": true
   },
   "outputs": [
    {
     "name": "stdout",
     "output_type": "stream",
     "text": [
      "0.1694024622159944\n",
      "0.12302739131885364\n",
      "10155\n",
      "7375\n"
     ]
    }
   ],
   "source": [
    "data_select = income_above_0_below_150k[['job', 'age', 'sex', 'income', 'smokes', 'body_type', 'drugs', 'drinks','education']]\n",
    "data_cleaned = data_select.dropna()\n",
    "\n",
    "data_one_hot_encoded = pd.get_dummies(\n",
    "    data_cleaned,\n",
    "    columns = ['job', 'sex', 'smokes', 'body_type', 'drugs','drinks', 'education'], # I could manually code the values for drink and drug frequency\n",
    "    dtype = int\n",
    ")\n",
    "\n",
    "print(len(income_above_0_below_150k)/len(data))\n",
    "print(len(data_one_hot_encoded)/len(data))\n",
    "print(len(income_above_0_below_150k))\n",
    "print(len(data_one_hot_encoded))"
   ]
  },
  {
   "cell_type": "code",
   "execution_count": 476,
   "id": "57bd634a-b03b-4b4f-bbf2-569edcfe52d2",
   "metadata": {},
   "outputs": [
    {
     "name": "stdout",
     "output_type": "stream",
     "text": [
      "46.209902346454534\n"
     ]
    }
   ],
   "source": [
    "total = 100\n",
    "for col in data_select.columns:\n",
    "        non_null_percentage = data[col].count()/59946\n",
    "        total *= non_null_percentage\n",
    "\n",
    "print(total)"
   ]
  },
  {
   "cell_type": "code",
   "execution_count": 477,
   "id": "6713a450-ec0f-4350-a0ce-d617f1776301",
   "metadata": {},
   "outputs": [
    {
     "name": "stdout",
     "output_type": "stream",
     "text": [
      "age                                            0.371337\n",
      "job_student                                    0.328826\n",
      "education_working on college/university        0.316385\n",
      "job_computer / hardware / software             0.277395\n",
      "education_graduated from masters program       0.261862\n",
      "job_science / tech / engineering               0.227512\n",
      "education_graduated from college/university    0.219512\n",
      "smokes_no                                      0.196594\n",
      "drugs_never                                    0.187773\n",
      "education_working on two-year college          0.176040\n",
      "drugs_sometimes                                0.166286\n",
      "job_executive / management                     0.156001\n",
      "job_other                                      0.153004\n",
      "sex_m                                          0.144315\n",
      "sex_f                                          0.144315\n",
      "smokes_yes                                     0.144043\n",
      "education_graduated from high school           0.141394\n",
      "body_type_athletic                             0.139298\n",
      "body_type_fit                                  0.122254\n",
      "job_banking / financial / real estate          0.117102\n",
      "Name: income, dtype: float64\n",
      "education_graduated from two-year college      0.025802\n",
      "job_rather not say                             0.023203\n",
      "education_law school                           0.019636\n",
      "education_dropped out of high school           0.019393\n",
      "education_ph.d program                         0.019204\n",
      "drinks_desperately                             0.018846\n",
      "job_construction / craftsmanship               0.017497\n",
      "education_graduated from space camp            0.017409\n",
      "education_graduated from med school            0.016806\n",
      "education_college/university                   0.016381\n",
      "education_dropped out of space camp            0.015448\n",
      "body_type_jacked                               0.013312\n",
      "job_transportation                             0.012903\n",
      "education_masters program                      0.011173\n",
      "education_dropped out of law school            0.007593\n",
      "education_dropped out of med school            0.006295\n",
      "job_entertainment / media                      0.005719\n",
      "education_dropped out of college/university    0.005304\n",
      "education_two-year college                     0.004738\n",
      "education_dropped out of masters program       0.001835\n",
      "Name: income, dtype: float64\n"
     ]
    }
   ],
   "source": [
    "# Calculate correlation matrix for all columns\n",
    "corr_matrix = data_one_hot_encoded.corr()\n",
    "\n",
    "# Extract correlations of all features with the target column\n",
    "corr_with_target = corr_matrix['income'].drop('income')  # drop self-correlation\n",
    "\n",
    "# Sort correlations by absolute value descending\n",
    "corr_with_target_sorted = corr_with_target.abs().sort_values(ascending=False)\n",
    "\n",
    "print(corr_with_target_sorted.head(20))\n",
    "print(corr_with_target_sorted.tail(20))"
   ]
  },
  {
   "cell_type": "code",
   "execution_count": 478,
   "id": "51d9903e-8687-495e-8dc0-d4f4014dc454",
   "metadata": {
    "scrolled": true
   },
   "outputs": [],
   "source": [
    "X_col_list = [col for col in data_one_hot_encoded.columns if col != 'income']\n",
    "y_col_list = ['income']"
   ]
  },
  {
   "cell_type": "code",
   "execution_count": 479,
   "id": "1164db8a-d335-4283-9426-5425378eb036",
   "metadata": {},
   "outputs": [],
   "source": [
    "from sklearn.preprocessing import StandardScaler\n",
    "\n",
    "scaler = StandardScaler()\n",
    "X = data_one_hot_encoded[X_col_list]\n",
    "y_scaled = scaler.fit_transform(data_one_hot_encoded[y_col_list])"
   ]
  },
  {
   "cell_type": "code",
   "execution_count": 480,
   "id": "99dbc6ef-5763-4bc6-aa3d-a47cef6cb689",
   "metadata": {},
   "outputs": [],
   "source": [
    "#Creating tensors\n",
    "import torch\n",
    "X_tensor = torch.tensor(X.values, dtype = torch.float)\n",
    "y_tensor = torch.tensor(y_scaled, dtype = torch.float)"
   ]
  },
  {
   "cell_type": "code",
   "execution_count": 481,
   "id": "4aec9670-dc78-4b34-ae33-6920235d4fdf",
   "metadata": {},
   "outputs": [],
   "source": [
    "#Splitting data\n",
    "from sklearn.model_selection import train_test_split\n",
    "X_tensor_train, X_tensor_test, y_tensor_train, y_tensor_test = train_test_split(X_tensor, y_tensor, test_size = 0.2)"
   ]
  },
  {
   "cell_type": "code",
   "execution_count": 482,
   "id": "262d2095-9cd1-475c-97c0-b7a106b75ce6",
   "metadata": {},
   "outputs": [
    {
     "data": {
      "text/plain": [
       "torch.Size([5900, 81])"
      ]
     },
     "execution_count": 482,
     "metadata": {},
     "output_type": "execute_result"
    }
   ],
   "source": [
    "X_tensor_train.shape"
   ]
  },
  {
   "cell_type": "code",
   "execution_count": 483,
   "id": "2980e826-f447-4db7-813f-088fe3a4128b",
   "metadata": {},
   "outputs": [
    {
     "data": {
      "text/plain": [
       "torch.Size([1475, 81])"
      ]
     },
     "execution_count": 483,
     "metadata": {},
     "output_type": "execute_result"
    }
   ],
   "source": [
    "X_tensor_test.shape"
   ]
  },
  {
   "cell_type": "code",
   "execution_count": 484,
   "id": "4d9a7e9a-f021-4b59-b136-720438053fad",
   "metadata": {},
   "outputs": [
    {
     "data": {
      "text/plain": [
       "torch.Size([5900, 1])"
      ]
     },
     "execution_count": 484,
     "metadata": {},
     "output_type": "execute_result"
    }
   ],
   "source": [
    "y_tensor_train.shape"
   ]
  },
  {
   "cell_type": "code",
   "execution_count": 485,
   "id": "8f80867a-0080-46c3-a1f1-4ae2534c6377",
   "metadata": {},
   "outputs": [
    {
     "data": {
      "text/plain": [
       "torch.Size([1475, 1])"
      ]
     },
     "execution_count": 485,
     "metadata": {},
     "output_type": "execute_result"
    }
   ],
   "source": [
    "y_tensor_test.shape"
   ]
  },
  {
   "cell_type": "code",
   "execution_count": 486,
   "id": "a08394de-4441-4465-9ac2-dd1b5677cde0",
   "metadata": {},
   "outputs": [],
   "source": [
    "from torch import nn\n",
    "nn_regmodel = nn.Sequential(\n",
    "    nn.Linear(81,81),\n",
    "    nn.ReLU(),\n",
    "    nn.Linear(81,40),\n",
    "    nn.ReLU(),\n",
    "    nn.Linear(40,20),\n",
    "    nn.ReLU(),\n",
    "    nn.Linear(20,1)\n",
    ")"
   ]
  },
  {
   "cell_type": "code",
   "execution_count": 487,
   "id": "2927b245-eba9-48c7-8712-d6dcc1c34731",
   "metadata": {},
   "outputs": [
    {
     "name": "stdout",
     "output_type": "stream",
     "text": [
      "Epoch [100/1000], MSELoss: 0.4659\n",
      "Epoch [200/1000], MSELoss: 0.4716\n",
      "Epoch [300/1000], MSELoss: 0.4607\n",
      "Epoch [400/1000], MSELoss: 0.4520\n",
      "Epoch [500/1000], MSELoss: 0.4492\n",
      "Epoch [600/1000], MSELoss: 0.4465\n",
      "Epoch [700/1000], MSELoss: 0.4410\n",
      "Epoch [800/1000], MSELoss: 0.4385\n",
      "Epoch [900/1000], MSELoss: 0.4401\n"
     ]
    },
    {
     "ename": "KeyboardInterrupt",
     "evalue": "",
     "output_type": "error",
     "traceback": [
      "\u001b[1;31m---------------------------------------------------------------------------\u001b[0m",
      "\u001b[1;31mKeyboardInterrupt\u001b[0m                         Traceback (most recent call last)",
      "Cell \u001b[1;32mIn[487], line 26\u001b[0m\n\u001b[0;32m     22\u001b[0m predictions \u001b[38;5;241m=\u001b[39m nn_regmodel(X_tensor_train)\n\u001b[0;32m     23\u001b[0m MSE \u001b[38;5;241m=\u001b[39m loss(predictions, y_tensor_train)\n\u001b[1;32m---> 26\u001b[0m MSE\u001b[38;5;241m.\u001b[39mbackward()\n\u001b[0;32m     27\u001b[0m optimizer\u001b[38;5;241m.\u001b[39mstep()\n\u001b[0;32m     30\u001b[0m \u001b[38;5;28;01mif\u001b[39;00m (epoch \u001b[38;5;241m+\u001b[39m \u001b[38;5;241m1\u001b[39m) \u001b[38;5;241m%\u001b[39m \u001b[38;5;241m100\u001b[39m \u001b[38;5;241m==\u001b[39m \u001b[38;5;241m0\u001b[39m:\n",
      "File \u001b[1;32m~\\anaconda3\\Lib\\site-packages\\torch\\_tensor.py:648\u001b[0m, in \u001b[0;36mTensor.backward\u001b[1;34m(self, gradient, retain_graph, create_graph, inputs)\u001b[0m\n\u001b[0;32m    638\u001b[0m \u001b[38;5;28;01mif\u001b[39;00m has_torch_function_unary(\u001b[38;5;28mself\u001b[39m):\n\u001b[0;32m    639\u001b[0m     \u001b[38;5;28;01mreturn\u001b[39;00m handle_torch_function(\n\u001b[0;32m    640\u001b[0m         Tensor\u001b[38;5;241m.\u001b[39mbackward,\n\u001b[0;32m    641\u001b[0m         (\u001b[38;5;28mself\u001b[39m,),\n\u001b[1;32m   (...)\u001b[0m\n\u001b[0;32m    646\u001b[0m         inputs\u001b[38;5;241m=\u001b[39minputs,\n\u001b[0;32m    647\u001b[0m     )\n\u001b[1;32m--> 648\u001b[0m torch\u001b[38;5;241m.\u001b[39mautograd\u001b[38;5;241m.\u001b[39mbackward(\n\u001b[0;32m    649\u001b[0m     \u001b[38;5;28mself\u001b[39m, gradient, retain_graph, create_graph, inputs\u001b[38;5;241m=\u001b[39minputs\n\u001b[0;32m    650\u001b[0m )\n",
      "File \u001b[1;32m~\\anaconda3\\Lib\\site-packages\\torch\\autograd\\__init__.py:353\u001b[0m, in \u001b[0;36mbackward\u001b[1;34m(tensors, grad_tensors, retain_graph, create_graph, grad_variables, inputs)\u001b[0m\n\u001b[0;32m    348\u001b[0m     retain_graph \u001b[38;5;241m=\u001b[39m create_graph\n\u001b[0;32m    350\u001b[0m \u001b[38;5;66;03m# The reason we repeat the same comment below is that\u001b[39;00m\n\u001b[0;32m    351\u001b[0m \u001b[38;5;66;03m# some Python versions print out the first line of a multi-line function\u001b[39;00m\n\u001b[0;32m    352\u001b[0m \u001b[38;5;66;03m# calls in the traceback and some print out the last line\u001b[39;00m\n\u001b[1;32m--> 353\u001b[0m _engine_run_backward(\n\u001b[0;32m    354\u001b[0m     tensors,\n\u001b[0;32m    355\u001b[0m     grad_tensors_,\n\u001b[0;32m    356\u001b[0m     retain_graph,\n\u001b[0;32m    357\u001b[0m     create_graph,\n\u001b[0;32m    358\u001b[0m     inputs,\n\u001b[0;32m    359\u001b[0m     allow_unreachable\u001b[38;5;241m=\u001b[39m\u001b[38;5;28;01mTrue\u001b[39;00m,\n\u001b[0;32m    360\u001b[0m     accumulate_grad\u001b[38;5;241m=\u001b[39m\u001b[38;5;28;01mTrue\u001b[39;00m,\n\u001b[0;32m    361\u001b[0m )\n",
      "File \u001b[1;32m~\\anaconda3\\Lib\\site-packages\\torch\\autograd\\graph.py:824\u001b[0m, in \u001b[0;36m_engine_run_backward\u001b[1;34m(t_outputs, *args, **kwargs)\u001b[0m\n\u001b[0;32m    822\u001b[0m     unregister_hooks \u001b[38;5;241m=\u001b[39m _register_logging_hooks_on_whole_graph(t_outputs)\n\u001b[0;32m    823\u001b[0m \u001b[38;5;28;01mtry\u001b[39;00m:\n\u001b[1;32m--> 824\u001b[0m     \u001b[38;5;28;01mreturn\u001b[39;00m Variable\u001b[38;5;241m.\u001b[39m_execution_engine\u001b[38;5;241m.\u001b[39mrun_backward(  \u001b[38;5;66;03m# Calls into the C++ engine to run the backward pass\u001b[39;00m\n\u001b[0;32m    825\u001b[0m         t_outputs, \u001b[38;5;241m*\u001b[39margs, \u001b[38;5;241m*\u001b[39m\u001b[38;5;241m*\u001b[39mkwargs\n\u001b[0;32m    826\u001b[0m     )  \u001b[38;5;66;03m# Calls into the C++ engine to run the backward pass\u001b[39;00m\n\u001b[0;32m    827\u001b[0m \u001b[38;5;28;01mfinally\u001b[39;00m:\n\u001b[0;32m    828\u001b[0m     \u001b[38;5;28;01mif\u001b[39;00m attach_logging_hooks:\n",
      "\u001b[1;31mKeyboardInterrupt\u001b[0m: "
     ]
    }
   ],
   "source": [
    "import torch.optim as optim\n",
    "from torch.nn import MSELoss\n",
    "from sklearn.metrics import accuracy_score, recall_score, precision_score\n",
    "import torch.optim as optim\n",
    "\n",
    "nn_regmodel = nn.Sequential(\n",
    "    nn.Linear(81,81),\n",
    "    nn.ReLU(),\n",
    "    nn.Linear(81,40),\n",
    "    nn.ReLU(),\n",
    "    nn.Linear(40,20),\n",
    "    nn.ReLU(),\n",
    "    nn.Linear(20,1)\n",
    ")\n",
    "\n",
    "loss = MSELoss()\n",
    "optimizer = optim.Adam(nn_regmodel.parameters(), lr= 0.05)\n",
    "\n",
    "num_epochs = 1000\n",
    "for epoch in range(num_epochs):\n",
    "    optimizer.zero_grad()\n",
    "    predictions = nn_regmodel(X_tensor_train)\n",
    "    MSE = loss(predictions, y_tensor_train)\n",
    "    \n",
    "\n",
    "    MSE.backward()\n",
    "    optimizer.step()\n",
    "\n",
    "     \n",
    "    if (epoch + 1) % 100 == 0:\n",
    "\n",
    "        print(f'Epoch [{epoch+1}/{num_epochs}], MSELoss: {MSE.item():.4f}')\n",
    "\n",
    "\n"
   ]
  },
  {
   "cell_type": "code",
   "execution_count": null,
   "id": "c2e72618-fd5f-4754-a174-3a8ba1eb7631",
   "metadata": {},
   "outputs": [],
   "source": [
    "predictions = nn_regmodel(X_tensor_train)\n",
    "loss = MSELoss()\n",
    "mse = loss(predictions, y_tensor_train)\n",
    "rmse = torch.sqrt(mse)\n",
    "print(rmse)"
   ]
  },
  {
   "cell_type": "code",
   "execution_count": null,
   "id": "83a0241e-255d-4c3f-88d4-342797450874",
   "metadata": {},
   "outputs": [],
   "source": [
    "nn_reg_model = nn.Sequential(\n",
    "    nn.Linear(81,81),\n",
    "    nn.ReLU(),\n",
    "    nn.Linear(81,40),\n",
    "    nn.ReLU(),\n",
    "    nn.Linear(40,20),\n",
    "    nn.ReLU(),\n",
    "    nn.Linear(20,1)\n",
    ")\n",
    "\n",
    "loss_fn = nn.L1Loss()  # MAE = Mean Absolute Error\n",
    "optimizer = optim.Adam(nn_reg_model.parameters(), lr= 0.05)\n",
    "\n",
    "num_epochs = 1000 #DECREASED \n",
    "for epoch in range(num_epochs):\n",
    "    optimizer.zero_grad()\n",
    "    predictions = nn_reg_model(X_tensor_train)\n",
    "    MAE = loss_fn(predictions, y_tensor_train)\n",
    "    \n",
    "\n",
    "    MAE.backward()\n",
    "    optimizer.step()\n",
    "\n",
    "     \n",
    "    if (epoch + 1) % 100 == 0:\n",
    "\n",
    "        print(f'Epoch [{epoch+1}/{num_epochs}], MAELoss: {MAE.item():.4f}')\n",
    "\n"
   ]
  },
  {
   "cell_type": "code",
   "execution_count": null,
   "id": "9d04d821-cb0b-4190-922b-82ff70227eb1",
   "metadata": {},
   "outputs": [],
   "source": [
    "torch.save(nn_reg_model, 'nn_regression_y_scaled_cleaned')"
   ]
  },
  {
   "cell_type": "code",
   "execution_count": null,
   "id": "2dd53b48-42b1-4ba7-911d-16be23612f1e",
   "metadata": {
    "scrolled": true
   },
   "outputs": [],
   "source": [
    "#Evaluating\n",
    "nn_regression_y_scaled = torch.load('nn_regression_y_scaled_cleaned', weights_only=False)\n",
    "MAEloss = nn.L1Loss()\n",
    "MSEloss = MSELoss()\n",
    "\n",
    "#Calculating the Mean Average Error\n",
    "nn_regression_y_scaled.eval()\n",
    "with torch.no_grad():\n",
    "    predictions = nn_regression_y_scaled(X_tensor_train)\n",
    "    train_MAE = MAEloss(predictions, y_tensor_train)\n",
    "\n",
    "nn_regression_y_scaled.eval()\n",
    "with torch.no_grad():\n",
    "    predictions = nn_regression_y_scaled(X_tensor_train)\n",
    "    train_MSE = MSEloss(predictions, y_tensor_train)\n",
    "\n",
    "\n",
    "import math\n",
    "train_MSE # = 0.4776\n",
    "train_RMSE = math.sqrt(train_MSE) # = 0.4682\n",
    "\n",
    "print(train_MSE)\n",
    "print(train_MAE)"
   ]
  },
  {
   "cell_type": "code",
   "execution_count": null,
   "id": "841b58eb-bea3-4e3e-8ca7-fd6174662655",
   "metadata": {
    "scrolled": true
   },
   "outputs": [],
   "source": [
    "#Evaluating\n",
    "nn_regression_y_scaled = torch.load('nn_regression_y_scaled_cleaned', weights_only=False)\n",
    "MAEloss = nn.L1Loss()\n",
    "MSEloss = MSELoss()\n",
    "\n",
    "#Calculating the Mean Average Error\n",
    "nn_regression_y_scaled.eval()\n",
    "with torch.no_grad():\n",
    "    predictions = nn_regression_y_scaled(X_tensor_test)\n",
    "    test_MAE = MAEloss(predictions, y_tensor_test)\n",
    "\n",
    "#Calculating the Mean Squared Error\n",
    "nn_regression_y_scaled.eval()\n",
    "with torch.no_grad():\n",
    "    predictions = nn_regression_y_scaled(X_tensor_test)\n",
    "    test_MSE = MSEloss(predictions, y_tensor_test)\n",
    "\n",
    "#Taking the root for interpretability\n",
    "import math\n",
    "test_RMSE = math.sqrt(test_MSE) \n",
    "\n",
    "print(test_MAE)\n",
    "print(test_RMSE)"
   ]
  },
  {
   "cell_type": "code",
   "execution_count": null,
   "id": "52666fa1-e89d-4f0f-b65a-6b00df3d9cc9",
   "metadata": {},
   "outputs": [],
   "source": [
    "from sklearn.preprocessing import StandardScaler\n",
    "import numpy as np\n",
    "\n",
    "# Suppose y is a 1D NumPy array or Series\n",
    "y = data_one_hot_encoded [y_col_list].values.reshape(-1, 1)  # ensure it's 2D\n",
    "\n",
    "scaler_y = StandardScaler()\n",
    "y_scaled = scaler_y.fit_transform(y)  # now scaler_y is fitted!\n",
    "\n",
    "# Now this will work:\n",
    "mae_original = 0.6947 * scaler_y.scale_[0]\n",
    "rmse_original = 0.9789 * scaler_y.scale_[0]\n",
    "\n",
    "print(f\"MAE (original scale): {mae_original:.2f}\")\n",
    "print(f\"RMSE (original scale): {rmse_original:.2f}\")\n",
    "\n"
   ]
  },
  {
   "cell_type": "markdown",
   "id": "e415cedc-7bd3-4001-b398-312134ed5533",
   "metadata": {},
   "source": [
    "A mean average error of 20,151.34 with a data set with the minimum of 20.000 and a maximum of 100.000 isn't that good. I wonder how a simple multiple linear regression would do. "
   ]
  },
  {
   "cell_type": "code",
   "execution_count": null,
   "id": "0f7f6774-5430-41bc-b9bb-f5747b5e2b2c",
   "metadata": {},
   "outputs": [],
   "source": [
    "from sklearn.linear_model import LinearRegression\n",
    "from sklearn.preprocessing import StandardScaler\n",
    "\n",
    "X = data_one_hot_encoded[X_col_list]\n",
    "y = data_one_hot_encoded[y_col_list]\n",
    "\n",
    "from sklearn.preprocessing import PolynomialFeatures\n",
    "\n",
    "poly = PolynomialFeatures(degree=2)\n",
    "X_poly = poly.fit_transform(X)\n",
    "\n",
    "scaler = StandardScaler()\n",
    "X_scaled = scaler.fit_transform(X_poly)\n",
    "\n",
    "X_train, X_test, y_train, y_test = train_test_split(X, y_scaled, test_size = 0.2)\n",
    "lm = LinearRegression()\n",
    "\n",
    "lm.fit(X_train, y_train)\n",
    "\n",
    "print(lm.score(X_train, y_train))\n",
    "print(lm.score(X_test, y_test))"
   ]
  },
  {
   "cell_type": "code",
   "execution_count": null,
   "id": "9fb0c4fe-480c-4caa-a81d-293ddde1ea56",
   "metadata": {},
   "outputs": [],
   "source": [
    "from sklearn.linear_model import LinearRegression\n",
    "from sklearn.preprocessing import StandardScaler\n",
    "from sklearn.metrics import mean_squared_error\n",
    "from sklearn.metrics import mean_absolute_error\n",
    "\n",
    "import numpy as np\n",
    "\n",
    "X = data_one_hot_encoded [X_col_list]\n",
    "y = data_one_hot_encoded [y_col_list]\n",
    "\n",
    "from sklearn.preprocessing import PolynomialFeatures\n",
    "\n",
    "#Standardize data\n",
    "scaler = StandardScaler()\n",
    "X_scaled = scaler.fit_transform(X)\n",
    "\n",
    "#Split data\n",
    "X_train, X_test, y_train, y_test = train_test_split(X_scaled, y, test_size = 0.2)\n",
    "lm = LinearRegression()\n",
    "\n",
    "#Train model\n",
    "lm.fit(X_train, y_train)\n",
    "\n",
    "#Make predictions on train data\n",
    "predictions = lm.predict(X_train)\n",
    "\n",
    "#Calculate loss on train data\n",
    "loss_train = mean_absolute_error(y_train, predictions)\n",
    "\n",
    "#Make predictions on test data\n",
    "predictions = lm.predict(X_test)\n",
    "\n",
    "#Calculate loss on test data\n",
    "loss_test = mean_absolute_error(y_test, predictions)\n",
    "\n",
    "#print results\n",
    "print(loss_train)\n",
    "print(loss_test)\n",
    "print(lm.score(X_train, y_train))\n",
    "print(lm.score(X_test, y_test))"
   ]
  },
  {
   "cell_type": "markdown",
   "id": "300a05b5-856c-4305-be21-7656752c4207",
   "metadata": {},
   "source": [
    "# Predicting smokers non-smokers "
   ]
  },
  {
   "cell_type": "markdown",
   "id": "f9860aae-d863-4ffd-adf4-ab9547806986",
   "metadata": {},
   "source": [
    "I assign all the smoker values, from 'yes' (I smoke) to 'when drinking' to '1' and the non-smoker value 'no' to 'o'"
   ]
  },
  {
   "cell_type": "code",
   "execution_count": null,
   "id": "1e366442-de1a-4365-841d-2df056d2017a",
   "metadata": {},
   "outputs": [],
   "source": [
    "for col in data.columns:\n",
    "    if col in ['job', 'age', 'sex', 'income', 'smokes', 'offspring', 'body_type', 'diet','drugs', 'drinks','education']:\n",
    "        non_null_percentage = data[col].count()/59946\n",
    "        print(f\"{col}: {non_null_percentage:.2%}\")\n"
   ]
  },
  {
   "cell_type": "markdown",
   "id": "f80cf2ae-39d1-41d9-a561-37f7144aee6f",
   "metadata": {},
   "source": [
    "I will remove diet and off spring from the features, because they have too many null-values. "
   ]
  },
  {
   "cell_type": "code",
   "execution_count": null,
   "id": "2144b4d5-8bf4-4398-a257-b200ffa21bee",
   "metadata": {},
   "outputs": [],
   "source": [
    "smoke_data_select = income_above_0_below_150k[['job', 'age', 'sex', 'income', 'smokes', 'body_type','drugs', 'drinks','education']]\n",
    "\n",
    "smoke_data_cleaned = smoke_data_select.dropna()\n",
    "\n",
    "smoke_one_hot_encoded = pd.get_dummies(\n",
    "    smoke_data_cleaned,\n",
    "    columns = ['job', 'sex', 'income', 'body_type', 'drugs', 'drinks','education'], # I could manually code the values for drink and drug frequency\n",
    "    dtype = int\n",
    ")\n",
    "smoke_one_hot_encoded['smokes'] = smoke_one_hot_encoded['smokes'].replace({'yes': 1, 'trying to quit':1, 'sometimes': 1, 'when drinking': 1, 'no':0})"
   ]
  },
  {
   "cell_type": "code",
   "execution_count": null,
   "id": "760c3912-8593-4f87-9a5c-82fea80e69fb",
   "metadata": {},
   "outputs": [],
   "source": [
    "data_select['smokes'].value_counts(normalize=True)"
   ]
  },
  {
   "cell_type": "code",
   "execution_count": null,
   "id": "75db54c9-601f-480b-bd9a-105aaf837e79",
   "metadata": {},
   "outputs": [],
   "source": [
    "X_col_list = [col for col in smoke_one_hot_encoded.columns if col != 'smokes']\n",
    "y_col_list = ['smokes']\n",
    "\n",
    "from sklearn.preprocessing import StandardScaler\n",
    "\n",
    "nn_bin_X = smoke_one_hot_encoded[X_col_list]\n",
    "nn_bin_y= smoke_one_hot_encoded[y_col_list]\n",
    "\n",
    "nn_bin_X"
   ]
  },
  {
   "cell_type": "code",
   "execution_count": null,
   "id": "f9ecb678-ff07-4db5-8106-eddbc87f59b3",
   "metadata": {},
   "outputs": [],
   "source": [
    "import torch\n",
    "X_tensor = torch.tensor(nn_bin_X.values, dtype = torch.float)\n",
    "y_tensor = torch.tensor(nn_bin_y.values, dtype = torch.float)"
   ]
  },
  {
   "cell_type": "code",
   "execution_count": null,
   "id": "e2c67a85-b134-4f40-ae6e-bdd8adcbc25b",
   "metadata": {},
   "outputs": [],
   "source": [
    "from sklearn.model_selection import train_test_split\n",
    "nn_bin_X_train, nn_bin_X_test, nn_bin_y_train, nn_bin_y_test = train_test_split(X_tensor, y_tensor, test_size = 0.2)"
   ]
  },
  {
   "cell_type": "code",
   "execution_count": null,
   "id": "cc8acc62-ad22-403a-aec8-812105027127",
   "metadata": {},
   "outputs": [],
   "source": [
    "nn_bin_y.shape"
   ]
  },
  {
   "cell_type": "code",
   "execution_count": null,
   "id": "d7bc338f-7f94-422d-b596-018c7d17da4e",
   "metadata": {},
   "outputs": [],
   "source": [
    "X_tensor = torch.tensor(nn_bin_X.values, dtype = torch.float)\n",
    "nn_bin_X.shape"
   ]
  },
  {
   "cell_type": "code",
   "execution_count": null,
   "id": "307ce722-5595-484e-9c5f-c66651ecf5c9",
   "metadata": {},
   "outputs": [],
   "source": [
    "nn_bin_classifier = nn.Sequential(\n",
    "    nn.Linear(84,84),\n",
    "    nn.ReLU(),\n",
    "    nn.Linear(84,42),\n",
    "    nn.ReLU(),\n",
    "    nn.Linear(42,21)\n",
    ")"
   ]
  },
  {
   "cell_type": "code",
   "execution_count": null,
   "id": "207f8c8f-d603-463b-9eec-2234433ad0c2",
   "metadata": {},
   "outputs": [],
   "source": [
    "print(\"NaNs in inputs:\", torch.isnan(nn_bin_X_train).any().item())\n",
    "print(\"Infs in inputs:\", torch.isinf(nn_bin_X_train).any().item())\n",
    "print(\"NaNs in targets:\", torch.isnan(nn_bin_y_train).any().item())\n",
    "print(\"Infs in targets:\", torch.isinf(nn_bin_y_train).any().item())\n"
   ]
  },
  {
   "cell_type": "code",
   "execution_count": null,
   "id": "df647db8-b5e3-4b1d-8415-e0ea5a5865d4",
   "metadata": {},
   "outputs": [],
   "source": [
    "nn_bin_X_train.shape"
   ]
  },
  {
   "cell_type": "code",
   "execution_count": null,
   "id": "85e4697b-82ef-437d-97e1-28e83e399618",
   "metadata": {
    "scrolled": true
   },
   "outputs": [],
   "source": [
    "print(nn_bin_X_train.shape)  # Should be (2031, 117)\n",
    "print(nn_bin_X_test.shape)  # Should be (2031, 117)\n"
   ]
  },
  {
   "cell_type": "code",
   "execution_count": null,
   "id": "7be6bca6-e22e-4fe3-9af5-36a3dcc93f44",
   "metadata": {
    "scrolled": true
   },
   "outputs": [],
   "source": [
    "import torch\n",
    "import torch.nn as nn\n",
    "import torch.optim as optim\n",
    "import numpy as np\n",
    "from sklearn.utils.class_weight import compute_class_weight\n",
    "\n",
    "\n",
    "nn_bin_y_train = nn_bin_y_train.squeeze()\n",
    "\n",
    "# Compute class weights\n",
    "class_weights = compute_class_weight(\n",
    "    class_weight='balanced',\n",
    "    classes=np.array([0.0, 1.0]),\n",
    "    y=np.array(nn_bin_y).ravel()\n",
    ")\n",
    "\n",
    "# Convert to PyTorch pos_weight (only positive class is weighted in BCEWithLogitsLoss)\n",
    "pos_weight = torch.tensor([class_weights[1] / class_weights[0]], dtype=torch.float32)\n",
    "\n",
    "# Define model\n",
    "nn_bin_classifier = nn.Sequential(\n",
    "    nn.Linear(84, 84),\n",
    "    nn.ReLU(),\n",
    "    nn.Linear(84, 42),\n",
    "    nn.ReLU(),\n",
    "    nn.Linear(42, 1)\n",
    ")\n",
    "\n",
    "# Clean the data: remove NaNs\n",
    "mask = ~torch.isnan(nn_bin_y_train).squeeze()\n",
    "nn_bin_X_train = nn_bin_X_train[mask]\n",
    "nn_bin_y_train = nn_bin_y_train[mask].float()\n",
    "\n",
    "# Define loss function with pos_weight\n",
    "loss_fn = nn.BCEWithLogitsLoss(pos_weight=pos_weight)\n",
    "\n",
    "# Optimizer\n",
    "optimizer = optim.SGD(nn_bin_classifier.parameters(), lr=0.01)\n",
    "\n",
    "# Training loop\n",
    "num_epochs = 5000\n",
    "for epoch in range(num_epochs):\n",
    "    optimizer.zero_grad()\n",
    "\n",
    "    # Forward pass\n",
    "    predictions = nn_bin_classifier(nn_bin_X_train).squeeze()  # Ensure shape matches y\n",
    "\n",
    "    # Compute loss\n",
    "    loss = loss_fn(predictions, nn_bin_y_train)\n",
    "\n",
    "    # Backpropagation\n",
    "    loss.backward()\n",
    "    optimizer.step()\n",
    "\n",
    "    # Print loss every 100 epochs\n",
    "    if (epoch + 1) % 100 == 0:\n",
    "        print(f'Epoch [{epoch+1}/{num_epochs}], Loss: {loss.item():.4f}')\n",
    "\n"
   ]
  },
  {
   "cell_type": "code",
   "execution_count": null,
   "id": "52055743-8684-49db-bc92-1d77030ff59b",
   "metadata": {},
   "outputs": [],
   "source": [
    "torch.save(nn_bin_classifier, 'nn_bin_classifier')"
   ]
  },
  {
   "cell_type": "code",
   "execution_count": null,
   "id": "dbcd45c1-2658-45fd-a2f8-096190aa10e5",
   "metadata": {},
   "outputs": [],
   "source": [
    "# Set model to eval mode\n",
    "nn_bin_classifier.eval()\n",
    "\n",
    "with torch.no_grad():\n",
    "    y_logits = nn_bin_classifier(nn_bin_X_test)\n",
    "    y_probs = torch.sigmoid(y_logits)              # Convert logits to probabilities\n",
    "    y_pred = (y_probs >= 0.5).float()               # Convert to binary labels (0 or 1)\n",
    "\n"
   ]
  },
  {
   "cell_type": "code",
   "execution_count": null,
   "id": "3e6d8f83-5d0e-41b6-bbc2-64d370ad9100",
   "metadata": {},
   "outputs": [],
   "source": [
    "mask = ~torch.isnan(nn_bin_y_test).squeeze()\n",
    "nn_bin_y_test = nn_bin_y_test[mask]\n"
   ]
  },
  {
   "cell_type": "code",
   "execution_count": null,
   "id": "5dbcaf00-5e98-41d8-b354-981afb87118b",
   "metadata": {},
   "outputs": [],
   "source": [
    "y_true = nn_bin_y_test.cpu().numpy()\n",
    "y_pred = y_pred.cpu().numpy()\n"
   ]
  },
  {
   "cell_type": "code",
   "execution_count": null,
   "id": "32f81d7f-c156-47b8-a745-7e161714ffda",
   "metadata": {
    "scrolled": true
   },
   "outputs": [],
   "source": [
    "from sklearn.metrics import accuracy_score, precision_score, recall_score, f1_score, confusion_matrix\n",
    "\n",
    "acc = accuracy_score(y_true, y_pred)\n",
    "prec = precision_score(y_true, y_pred, zero_division=0)\n",
    "rec = recall_score(y_true, y_pred)\n",
    "f1 = f1_score(y_true, y_pred)\n",
    "\n",
    "print(f\"Accuracy:  {acc:.3f}\")\n",
    "print(f\"Precision: {prec:.3f}\")\n",
    "print(f\"Recall:    {rec:.3f}\")\n",
    "print(f\"F1 Score:  {f1:.3f}\")\n"
   ]
  },
  {
   "cell_type": "markdown",
   "id": "5b662245-d297-4fd1-912f-65ea3e423819",
   "metadata": {},
   "source": [
    "I have used weighted classes, to prevent the model from only predicting non-smokers (which is 73,4%). How it's accuracy is still 73,4%, but the F1 score is a lot higher (0.53 instead of 0). \n",
    "Also I have tweaked the learning rate to get as much of a accuracy and a F1 score as possible. "
   ]
  },
  {
   "cell_type": "markdown",
   "id": "b6e56a3d-93d4-43d9-92d2-8e175d6a7783",
   "metadata": {},
   "source": [
    "lr=0.0005  \n",
    "Accuracy:  0.744  \n",
    "Precision: 0.518    \n",
    "Recall:    0.188  \n",
    "F1 Score:  0.276  \n",
    "\n",
    "lr=0.001  \n",
    "Accuracy:  0.742   \n",
    "Precision: 0.504  \n",
    "Recall:    0.351  \n",
    "F1 Score:  0.414  \n",
    "\n",
    "lr = 0.005  \n",
    "Accuracy:  0.743  \n",
    "Precision: 0.503  \n",
    "Recall:    0.568  \n",
    "F1 Score:  0.534  \n",
    "\n",
    "lr=0.01    \n",
    "Accuracy:  0.742  \n",
    "Precision: 0.501    \n",
    "Recall:    0.555  \n",
    "F1 Score:  0.527  \n",
    "\n",
    "\n",
    "\n",
    "\n"
   ]
  },
  {
   "cell_type": "markdown",
   "id": "45aca123-1c98-4dc3-b87c-4e769fb226a6",
   "metadata": {},
   "source": [
    "Explain this score.\n"
   ]
  },
  {
   "cell_type": "code",
   "execution_count": null,
   "id": "3d714739-f335-4a20-b6d9-e0b0adeb7acf",
   "metadata": {
    "scrolled": true
   },
   "outputs": [],
   "source": [
    "data"
   ]
  },
  {
   "cell_type": "markdown",
   "id": "965c59fe-7479-401c-9e07-d4d6cca7a32e",
   "metadata": {},
   "source": [
    "# Support Vector Machine"
   ]
  },
  {
   "cell_type": "code",
   "execution_count": 488,
   "id": "cb5c4acf-a877-4ca5-9e3b-cbf5cb5ca30e",
   "metadata": {},
   "outputs": [],
   "source": [
    "from sklearn.svm import SVC"
   ]
  },
  {
   "cell_type": "code",
   "execution_count": 489,
   "id": "8cd632c7-7b96-43f7-b3bb-5f271462d71d",
   "metadata": {
    "scrolled": true
   },
   "outputs": [
    {
     "name": "stdout",
     "output_type": "stream",
     "text": [
      "(5531, 84) (1844, 84) (5531, 1) (1844, 1)\n"
     ]
    }
   ],
   "source": [
    "X_train, X_val, y_train, y_val = train_test_split(nn_bin_X, nn_bin_y)\n",
    "print(X_train.shape,X_val.shape,y_train.shape,y_val.shape)\n",
    "\n"
   ]
  },
  {
   "cell_type": "code",
   "execution_count": 490,
   "id": "5f140fbb-2c10-4ffa-b781-2e354205043d",
   "metadata": {},
   "outputs": [
    {
     "data": {
      "text/html": [
       "<style>#sk-container-id-17 {\n",
       "  /* Definition of color scheme common for light and dark mode */\n",
       "  --sklearn-color-text: black;\n",
       "  --sklearn-color-line: gray;\n",
       "  /* Definition of color scheme for unfitted estimators */\n",
       "  --sklearn-color-unfitted-level-0: #fff5e6;\n",
       "  --sklearn-color-unfitted-level-1: #f6e4d2;\n",
       "  --sklearn-color-unfitted-level-2: #ffe0b3;\n",
       "  --sklearn-color-unfitted-level-3: chocolate;\n",
       "  /* Definition of color scheme for fitted estimators */\n",
       "  --sklearn-color-fitted-level-0: #f0f8ff;\n",
       "  --sklearn-color-fitted-level-1: #d4ebff;\n",
       "  --sklearn-color-fitted-level-2: #b3dbfd;\n",
       "  --sklearn-color-fitted-level-3: cornflowerblue;\n",
       "\n",
       "  /* Specific color for light theme */\n",
       "  --sklearn-color-text-on-default-background: var(--sg-text-color, var(--theme-code-foreground, var(--jp-content-font-color1, black)));\n",
       "  --sklearn-color-background: var(--sg-background-color, var(--theme-background, var(--jp-layout-color0, white)));\n",
       "  --sklearn-color-border-box: var(--sg-text-color, var(--theme-code-foreground, var(--jp-content-font-color1, black)));\n",
       "  --sklearn-color-icon: #696969;\n",
       "\n",
       "  @media (prefers-color-scheme: dark) {\n",
       "    /* Redefinition of color scheme for dark theme */\n",
       "    --sklearn-color-text-on-default-background: var(--sg-text-color, var(--theme-code-foreground, var(--jp-content-font-color1, white)));\n",
       "    --sklearn-color-background: var(--sg-background-color, var(--theme-background, var(--jp-layout-color0, #111)));\n",
       "    --sklearn-color-border-box: var(--sg-text-color, var(--theme-code-foreground, var(--jp-content-font-color1, white)));\n",
       "    --sklearn-color-icon: #878787;\n",
       "  }\n",
       "}\n",
       "\n",
       "#sk-container-id-17 {\n",
       "  color: var(--sklearn-color-text);\n",
       "}\n",
       "\n",
       "#sk-container-id-17 pre {\n",
       "  padding: 0;\n",
       "}\n",
       "\n",
       "#sk-container-id-17 input.sk-hidden--visually {\n",
       "  border: 0;\n",
       "  clip: rect(1px 1px 1px 1px);\n",
       "  clip: rect(1px, 1px, 1px, 1px);\n",
       "  height: 1px;\n",
       "  margin: -1px;\n",
       "  overflow: hidden;\n",
       "  padding: 0;\n",
       "  position: absolute;\n",
       "  width: 1px;\n",
       "}\n",
       "\n",
       "#sk-container-id-17 div.sk-dashed-wrapped {\n",
       "  border: 1px dashed var(--sklearn-color-line);\n",
       "  margin: 0 0.4em 0.5em 0.4em;\n",
       "  box-sizing: border-box;\n",
       "  padding-bottom: 0.4em;\n",
       "  background-color: var(--sklearn-color-background);\n",
       "}\n",
       "\n",
       "#sk-container-id-17 div.sk-container {\n",
       "  /* jupyter's `normalize.less` sets `[hidden] { display: none; }`\n",
       "     but bootstrap.min.css set `[hidden] { display: none !important; }`\n",
       "     so we also need the `!important` here to be able to override the\n",
       "     default hidden behavior on the sphinx rendered scikit-learn.org.\n",
       "     See: https://github.com/scikit-learn/scikit-learn/issues/21755 */\n",
       "  display: inline-block !important;\n",
       "  position: relative;\n",
       "}\n",
       "\n",
       "#sk-container-id-17 div.sk-text-repr-fallback {\n",
       "  display: none;\n",
       "}\n",
       "\n",
       "div.sk-parallel-item,\n",
       "div.sk-serial,\n",
       "div.sk-item {\n",
       "  /* draw centered vertical line to link estimators */\n",
       "  background-image: linear-gradient(var(--sklearn-color-text-on-default-background), var(--sklearn-color-text-on-default-background));\n",
       "  background-size: 2px 100%;\n",
       "  background-repeat: no-repeat;\n",
       "  background-position: center center;\n",
       "}\n",
       "\n",
       "/* Parallel-specific style estimator block */\n",
       "\n",
       "#sk-container-id-17 div.sk-parallel-item::after {\n",
       "  content: \"\";\n",
       "  width: 100%;\n",
       "  border-bottom: 2px solid var(--sklearn-color-text-on-default-background);\n",
       "  flex-grow: 1;\n",
       "}\n",
       "\n",
       "#sk-container-id-17 div.sk-parallel {\n",
       "  display: flex;\n",
       "  align-items: stretch;\n",
       "  justify-content: center;\n",
       "  background-color: var(--sklearn-color-background);\n",
       "  position: relative;\n",
       "}\n",
       "\n",
       "#sk-container-id-17 div.sk-parallel-item {\n",
       "  display: flex;\n",
       "  flex-direction: column;\n",
       "}\n",
       "\n",
       "#sk-container-id-17 div.sk-parallel-item:first-child::after {\n",
       "  align-self: flex-end;\n",
       "  width: 50%;\n",
       "}\n",
       "\n",
       "#sk-container-id-17 div.sk-parallel-item:last-child::after {\n",
       "  align-self: flex-start;\n",
       "  width: 50%;\n",
       "}\n",
       "\n",
       "#sk-container-id-17 div.sk-parallel-item:only-child::after {\n",
       "  width: 0;\n",
       "}\n",
       "\n",
       "/* Serial-specific style estimator block */\n",
       "\n",
       "#sk-container-id-17 div.sk-serial {\n",
       "  display: flex;\n",
       "  flex-direction: column;\n",
       "  align-items: center;\n",
       "  background-color: var(--sklearn-color-background);\n",
       "  padding-right: 1em;\n",
       "  padding-left: 1em;\n",
       "}\n",
       "\n",
       "\n",
       "/* Toggleable style: style used for estimator/Pipeline/ColumnTransformer box that is\n",
       "clickable and can be expanded/collapsed.\n",
       "- Pipeline and ColumnTransformer use this feature and define the default style\n",
       "- Estimators will overwrite some part of the style using the `sk-estimator` class\n",
       "*/\n",
       "\n",
       "/* Pipeline and ColumnTransformer style (default) */\n",
       "\n",
       "#sk-container-id-17 div.sk-toggleable {\n",
       "  /* Default theme specific background. It is overwritten whether we have a\n",
       "  specific estimator or a Pipeline/ColumnTransformer */\n",
       "  background-color: var(--sklearn-color-background);\n",
       "}\n",
       "\n",
       "/* Toggleable label */\n",
       "#sk-container-id-17 label.sk-toggleable__label {\n",
       "  cursor: pointer;\n",
       "  display: block;\n",
       "  width: 100%;\n",
       "  margin-bottom: 0;\n",
       "  padding: 0.5em;\n",
       "  box-sizing: border-box;\n",
       "  text-align: center;\n",
       "}\n",
       "\n",
       "#sk-container-id-17 label.sk-toggleable__label-arrow:before {\n",
       "  /* Arrow on the left of the label */\n",
       "  content: \"▸\";\n",
       "  float: left;\n",
       "  margin-right: 0.25em;\n",
       "  color: var(--sklearn-color-icon);\n",
       "}\n",
       "\n",
       "#sk-container-id-17 label.sk-toggleable__label-arrow:hover:before {\n",
       "  color: var(--sklearn-color-text);\n",
       "}\n",
       "\n",
       "/* Toggleable content - dropdown */\n",
       "\n",
       "#sk-container-id-17 div.sk-toggleable__content {\n",
       "  max-height: 0;\n",
       "  max-width: 0;\n",
       "  overflow: hidden;\n",
       "  text-align: left;\n",
       "  /* unfitted */\n",
       "  background-color: var(--sklearn-color-unfitted-level-0);\n",
       "}\n",
       "\n",
       "#sk-container-id-17 div.sk-toggleable__content.fitted {\n",
       "  /* fitted */\n",
       "  background-color: var(--sklearn-color-fitted-level-0);\n",
       "}\n",
       "\n",
       "#sk-container-id-17 div.sk-toggleable__content pre {\n",
       "  margin: 0.2em;\n",
       "  border-radius: 0.25em;\n",
       "  color: var(--sklearn-color-text);\n",
       "  /* unfitted */\n",
       "  background-color: var(--sklearn-color-unfitted-level-0);\n",
       "}\n",
       "\n",
       "#sk-container-id-17 div.sk-toggleable__content.fitted pre {\n",
       "  /* unfitted */\n",
       "  background-color: var(--sklearn-color-fitted-level-0);\n",
       "}\n",
       "\n",
       "#sk-container-id-17 input.sk-toggleable__control:checked~div.sk-toggleable__content {\n",
       "  /* Expand drop-down */\n",
       "  max-height: 200px;\n",
       "  max-width: 100%;\n",
       "  overflow: auto;\n",
       "}\n",
       "\n",
       "#sk-container-id-17 input.sk-toggleable__control:checked~label.sk-toggleable__label-arrow:before {\n",
       "  content: \"▾\";\n",
       "}\n",
       "\n",
       "/* Pipeline/ColumnTransformer-specific style */\n",
       "\n",
       "#sk-container-id-17 div.sk-label input.sk-toggleable__control:checked~label.sk-toggleable__label {\n",
       "  color: var(--sklearn-color-text);\n",
       "  background-color: var(--sklearn-color-unfitted-level-2);\n",
       "}\n",
       "\n",
       "#sk-container-id-17 div.sk-label.fitted input.sk-toggleable__control:checked~label.sk-toggleable__label {\n",
       "  background-color: var(--sklearn-color-fitted-level-2);\n",
       "}\n",
       "\n",
       "/* Estimator-specific style */\n",
       "\n",
       "/* Colorize estimator box */\n",
       "#sk-container-id-17 div.sk-estimator input.sk-toggleable__control:checked~label.sk-toggleable__label {\n",
       "  /* unfitted */\n",
       "  background-color: var(--sklearn-color-unfitted-level-2);\n",
       "}\n",
       "\n",
       "#sk-container-id-17 div.sk-estimator.fitted input.sk-toggleable__control:checked~label.sk-toggleable__label {\n",
       "  /* fitted */\n",
       "  background-color: var(--sklearn-color-fitted-level-2);\n",
       "}\n",
       "\n",
       "#sk-container-id-17 div.sk-label label.sk-toggleable__label,\n",
       "#sk-container-id-17 div.sk-label label {\n",
       "  /* The background is the default theme color */\n",
       "  color: var(--sklearn-color-text-on-default-background);\n",
       "}\n",
       "\n",
       "/* On hover, darken the color of the background */\n",
       "#sk-container-id-17 div.sk-label:hover label.sk-toggleable__label {\n",
       "  color: var(--sklearn-color-text);\n",
       "  background-color: var(--sklearn-color-unfitted-level-2);\n",
       "}\n",
       "\n",
       "/* Label box, darken color on hover, fitted */\n",
       "#sk-container-id-17 div.sk-label.fitted:hover label.sk-toggleable__label.fitted {\n",
       "  color: var(--sklearn-color-text);\n",
       "  background-color: var(--sklearn-color-fitted-level-2);\n",
       "}\n",
       "\n",
       "/* Estimator label */\n",
       "\n",
       "#sk-container-id-17 div.sk-label label {\n",
       "  font-family: monospace;\n",
       "  font-weight: bold;\n",
       "  display: inline-block;\n",
       "  line-height: 1.2em;\n",
       "}\n",
       "\n",
       "#sk-container-id-17 div.sk-label-container {\n",
       "  text-align: center;\n",
       "}\n",
       "\n",
       "/* Estimator-specific */\n",
       "#sk-container-id-17 div.sk-estimator {\n",
       "  font-family: monospace;\n",
       "  border: 1px dotted var(--sklearn-color-border-box);\n",
       "  border-radius: 0.25em;\n",
       "  box-sizing: border-box;\n",
       "  margin-bottom: 0.5em;\n",
       "  /* unfitted */\n",
       "  background-color: var(--sklearn-color-unfitted-level-0);\n",
       "}\n",
       "\n",
       "#sk-container-id-17 div.sk-estimator.fitted {\n",
       "  /* fitted */\n",
       "  background-color: var(--sklearn-color-fitted-level-0);\n",
       "}\n",
       "\n",
       "/* on hover */\n",
       "#sk-container-id-17 div.sk-estimator:hover {\n",
       "  /* unfitted */\n",
       "  background-color: var(--sklearn-color-unfitted-level-2);\n",
       "}\n",
       "\n",
       "#sk-container-id-17 div.sk-estimator.fitted:hover {\n",
       "  /* fitted */\n",
       "  background-color: var(--sklearn-color-fitted-level-2);\n",
       "}\n",
       "\n",
       "/* Specification for estimator info (e.g. \"i\" and \"?\") */\n",
       "\n",
       "/* Common style for \"i\" and \"?\" */\n",
       "\n",
       ".sk-estimator-doc-link,\n",
       "a:link.sk-estimator-doc-link,\n",
       "a:visited.sk-estimator-doc-link {\n",
       "  float: right;\n",
       "  font-size: smaller;\n",
       "  line-height: 1em;\n",
       "  font-family: monospace;\n",
       "  background-color: var(--sklearn-color-background);\n",
       "  border-radius: 1em;\n",
       "  height: 1em;\n",
       "  width: 1em;\n",
       "  text-decoration: none !important;\n",
       "  margin-left: 1ex;\n",
       "  /* unfitted */\n",
       "  border: var(--sklearn-color-unfitted-level-1) 1pt solid;\n",
       "  color: var(--sklearn-color-unfitted-level-1);\n",
       "}\n",
       "\n",
       ".sk-estimator-doc-link.fitted,\n",
       "a:link.sk-estimator-doc-link.fitted,\n",
       "a:visited.sk-estimator-doc-link.fitted {\n",
       "  /* fitted */\n",
       "  border: var(--sklearn-color-fitted-level-1) 1pt solid;\n",
       "  color: var(--sklearn-color-fitted-level-1);\n",
       "}\n",
       "\n",
       "/* On hover */\n",
       "div.sk-estimator:hover .sk-estimator-doc-link:hover,\n",
       ".sk-estimator-doc-link:hover,\n",
       "div.sk-label-container:hover .sk-estimator-doc-link:hover,\n",
       ".sk-estimator-doc-link:hover {\n",
       "  /* unfitted */\n",
       "  background-color: var(--sklearn-color-unfitted-level-3);\n",
       "  color: var(--sklearn-color-background);\n",
       "  text-decoration: none;\n",
       "}\n",
       "\n",
       "div.sk-estimator.fitted:hover .sk-estimator-doc-link.fitted:hover,\n",
       ".sk-estimator-doc-link.fitted:hover,\n",
       "div.sk-label-container:hover .sk-estimator-doc-link.fitted:hover,\n",
       ".sk-estimator-doc-link.fitted:hover {\n",
       "  /* fitted */\n",
       "  background-color: var(--sklearn-color-fitted-level-3);\n",
       "  color: var(--sklearn-color-background);\n",
       "  text-decoration: none;\n",
       "}\n",
       "\n",
       "/* Span, style for the box shown on hovering the info icon */\n",
       ".sk-estimator-doc-link span {\n",
       "  display: none;\n",
       "  z-index: 9999;\n",
       "  position: relative;\n",
       "  font-weight: normal;\n",
       "  right: .2ex;\n",
       "  padding: .5ex;\n",
       "  margin: .5ex;\n",
       "  width: min-content;\n",
       "  min-width: 20ex;\n",
       "  max-width: 50ex;\n",
       "  color: var(--sklearn-color-text);\n",
       "  box-shadow: 2pt 2pt 4pt #999;\n",
       "  /* unfitted */\n",
       "  background: var(--sklearn-color-unfitted-level-0);\n",
       "  border: .5pt solid var(--sklearn-color-unfitted-level-3);\n",
       "}\n",
       "\n",
       ".sk-estimator-doc-link.fitted span {\n",
       "  /* fitted */\n",
       "  background: var(--sklearn-color-fitted-level-0);\n",
       "  border: var(--sklearn-color-fitted-level-3);\n",
       "}\n",
       "\n",
       ".sk-estimator-doc-link:hover span {\n",
       "  display: block;\n",
       "}\n",
       "\n",
       "/* \"?\"-specific style due to the `<a>` HTML tag */\n",
       "\n",
       "#sk-container-id-17 a.estimator_doc_link {\n",
       "  float: right;\n",
       "  font-size: 1rem;\n",
       "  line-height: 1em;\n",
       "  font-family: monospace;\n",
       "  background-color: var(--sklearn-color-background);\n",
       "  border-radius: 1rem;\n",
       "  height: 1rem;\n",
       "  width: 1rem;\n",
       "  text-decoration: none;\n",
       "  /* unfitted */\n",
       "  color: var(--sklearn-color-unfitted-level-1);\n",
       "  border: var(--sklearn-color-unfitted-level-1) 1pt solid;\n",
       "}\n",
       "\n",
       "#sk-container-id-17 a.estimator_doc_link.fitted {\n",
       "  /* fitted */\n",
       "  border: var(--sklearn-color-fitted-level-1) 1pt solid;\n",
       "  color: var(--sklearn-color-fitted-level-1);\n",
       "}\n",
       "\n",
       "/* On hover */\n",
       "#sk-container-id-17 a.estimator_doc_link:hover {\n",
       "  /* unfitted */\n",
       "  background-color: var(--sklearn-color-unfitted-level-3);\n",
       "  color: var(--sklearn-color-background);\n",
       "  text-decoration: none;\n",
       "}\n",
       "\n",
       "#sk-container-id-17 a.estimator_doc_link.fitted:hover {\n",
       "  /* fitted */\n",
       "  background-color: var(--sklearn-color-fitted-level-3);\n",
       "}\n",
       "</style><div id=\"sk-container-id-17\" class=\"sk-top-container\"><div class=\"sk-text-repr-fallback\"><pre>SVC(C=100, class_weight=&#x27;balanced&#x27;, gamma=0.1)</pre><b>In a Jupyter environment, please rerun this cell to show the HTML representation or trust the notebook. <br />On GitHub, the HTML representation is unable to render, please try loading this page with nbviewer.org.</b></div><div class=\"sk-container\" hidden><div class=\"sk-item\"><div class=\"sk-estimator fitted sk-toggleable\"><input class=\"sk-toggleable__control sk-hidden--visually\" id=\"sk-estimator-id-17\" type=\"checkbox\" checked><label for=\"sk-estimator-id-17\" class=\"sk-toggleable__label fitted sk-toggleable__label-arrow fitted\">&nbsp;&nbsp;SVC<a class=\"sk-estimator-doc-link fitted\" rel=\"noreferrer\" target=\"_blank\" href=\"https://scikit-learn.org/1.5/modules/generated/sklearn.svm.SVC.html\">?<span>Documentation for SVC</span></a><span class=\"sk-estimator-doc-link fitted\">i<span>Fitted</span></span></label><div class=\"sk-toggleable__content fitted\"><pre>SVC(C=100, class_weight=&#x27;balanced&#x27;, gamma=0.1)</pre></div> </div></div></div></div>"
      ],
      "text/plain": [
       "SVC(C=100, class_weight='balanced', gamma=0.1)"
      ]
     },
     "execution_count": 490,
     "metadata": {},
     "output_type": "execute_result"
    }
   ],
   "source": [
    "X_train = X_train.values  # Get the values directly from the DataFrame\n",
    "y = y_train.values.ravel()  # Convert DataFrame to numpy array, then to 1D array\n",
    "\n",
    "svm_model = svm.SVC(class_weight='balanced', C=100, gamma = 0.1)\n",
    "svm_model.fit(X_train, y)"
   ]
  },
  {
   "cell_type": "code",
   "execution_count": 491,
   "id": "a478cf01-4d17-40b0-b4e1-ce29a8a7fb9c",
   "metadata": {},
   "outputs": [
    {
     "name": "stderr",
     "output_type": "stream",
     "text": [
      "C:\\Users\\Frank\\anaconda3\\Lib\\site-packages\\sklearn\\base.py:486: UserWarning: X has feature names, but SVC was fitted without feature names\n",
      "  warnings.warn(\n"
     ]
    },
    {
     "data": {
      "text/plain": [
       "0.9316702819956616"
      ]
     },
     "execution_count": 491,
     "metadata": {},
     "output_type": "execute_result"
    }
   ],
   "source": [
    "X_values = X_val.values  # Get the values directly from the DataFrame\n",
    "y_values = y_val.values.ravel()  # Convert DataFrame to numpy array, then to 1D array\n",
    "\n",
    "classifier.score(X_val, y_val)"
   ]
  },
  {
   "cell_type": "code",
   "execution_count": 492,
   "id": "32fe5e1d-9e11-4b28-af44-58e6986c4768",
   "metadata": {
    "scrolled": true
   },
   "outputs": [
    {
     "name": "stderr",
     "output_type": "stream",
     "text": [
      "C:\\Users\\Frank\\anaconda3\\Lib\\site-packages\\sklearn\\base.py:486: UserWarning: X has feature names, but SVC was fitted without feature names\n",
      "  warnings.warn(\n"
     ]
    },
    {
     "data": {
      "text/plain": [
       "array([[1377,    6],\n",
       "       [ 120,  341]], dtype=int64)"
      ]
     },
     "execution_count": 492,
     "metadata": {},
     "output_type": "execute_result"
    }
   ],
   "source": [
    "y_pred = classifier.predict(X_val)\n",
    "cm = confusion_matrix(y_val, y_pred)\n",
    "cm"
   ]
  },
  {
   "cell_type": "code",
   "execution_count": 493,
   "id": "f9a0235a-61dc-4dcd-8d80-5d41337bdb5d",
   "metadata": {},
   "outputs": [
    {
     "name": "stderr",
     "output_type": "stream",
     "text": [
      "C:\\Users\\Frank\\anaconda3\\Lib\\site-packages\\sklearn\\base.py:486: UserWarning: X has feature names, but SVC was fitted without feature names\n",
      "  warnings.warn(\n"
     ]
    },
    {
     "name": "stdout",
     "output_type": "stream",
     "text": [
      "Accuracy:  0.932\n",
      "Precision: 0.983\n",
      "Recall:    0.740\n",
      "F1 Score:  0.844\n"
     ]
    }
   ],
   "source": [
    "y_true  = y_val\n",
    "y_pred = classifier.predict(X_val)\n",
    "\n",
    "\n",
    "acc = accuracy_score(y_true, y_pred)\n",
    "prec = precision_score(y_true, y_pred, zero_division=0)\n",
    "rec = recall_score(y_true, y_pred)\n",
    "f1 = f1_score(y_true, y_pred)\n",
    "\n",
    "print(f\"Accuracy:  {acc:.3f}\")\n",
    "print(f\"Precision: {prec:.3f}\")\n",
    "print(f\"Recall:    {rec:.3f}\")\n",
    "print(f\"F1 Score:  {f1:.3f}\")"
   ]
  },
  {
   "cell_type": "markdown",
   "id": "e3b03629-e92f-415b-8a86-0db151ed6abc",
   "metadata": {},
   "source": [
    "This score is a lot higher than the neural network! "
   ]
  },
  {
   "cell_type": "markdown",
   "id": "b396dbcc-91fd-47b2-8b6f-5cf4eb5f44e2",
   "metadata": {},
   "source": [
    "# Random Forest Classifier"
   ]
  },
  {
   "cell_type": "code",
   "execution_count": 526,
   "id": "0f8794e2-4cbd-4eda-8c2e-b0a5e6ad872d",
   "metadata": {},
   "outputs": [],
   "source": [
    "data_select = income_above_0_below_150k[['job', 'age', 'sex', 'income', 'smokes', 'body_type', 'drugs', 'drinks','education']]\n",
    "data_select = data_select.dropna()\n"
   ]
  },
  {
   "cell_type": "code",
   "execution_count": 528,
   "id": "133944eb-dd4a-455e-97ef-b318aedf020c",
   "metadata": {},
   "outputs": [],
   "source": [
    "X_col_list = [col for col in data_select.columns if col != 'smokes']\n",
    "y_col_list = 'smokes'"
   ]
  },
  {
   "cell_type": "code",
   "execution_count": 530,
   "id": "c5fffb3b-9a7b-46c2-bbc2-196ee9a37b90",
   "metadata": {},
   "outputs": [],
   "source": [
    "X_forest = data_select[X_col_list]\n",
    "y_forest = data_select[y_col_list]"
   ]
  },
  {
   "cell_type": "code",
   "execution_count": 546,
   "id": "e53c9fc5-4529-41c3-8d79-3015898c79fc",
   "metadata": {},
   "outputs": [
    {
     "data": {
      "text/html": [
       "<div>\n",
       "<style scoped>\n",
       "    .dataframe tbody tr th:only-of-type {\n",
       "        vertical-align: middle;\n",
       "    }\n",
       "\n",
       "    .dataframe tbody tr th {\n",
       "        vertical-align: top;\n",
       "    }\n",
       "\n",
       "    .dataframe thead th {\n",
       "        text-align: right;\n",
       "    }\n",
       "</style>\n",
       "<table border=\"1\" class=\"dataframe\">\n",
       "  <thead>\n",
       "    <tr style=\"text-align: right;\">\n",
       "      <th></th>\n",
       "      <th>age</th>\n",
       "      <th>income</th>\n",
       "      <th>job_artistic / musical / writer</th>\n",
       "      <th>job_banking / financial / real estate</th>\n",
       "      <th>job_clerical / administrative</th>\n",
       "      <th>job_computer / hardware / software</th>\n",
       "      <th>job_construction / craftsmanship</th>\n",
       "      <th>job_education / academia</th>\n",
       "      <th>job_entertainment / media</th>\n",
       "      <th>job_executive / management</th>\n",
       "      <th>...</th>\n",
       "      <th>education_space camp</th>\n",
       "      <th>education_two-year college</th>\n",
       "      <th>education_working on college/university</th>\n",
       "      <th>education_working on high school</th>\n",
       "      <th>education_working on law school</th>\n",
       "      <th>education_working on masters program</th>\n",
       "      <th>education_working on med school</th>\n",
       "      <th>education_working on ph.d program</th>\n",
       "      <th>education_working on space camp</th>\n",
       "      <th>education_working on two-year college</th>\n",
       "    </tr>\n",
       "  </thead>\n",
       "  <tbody>\n",
       "    <tr>\n",
       "      <th>1</th>\n",
       "      <td>35</td>\n",
       "      <td>80000</td>\n",
       "      <td>0</td>\n",
       "      <td>0</td>\n",
       "      <td>0</td>\n",
       "      <td>0</td>\n",
       "      <td>0</td>\n",
       "      <td>0</td>\n",
       "      <td>0</td>\n",
       "      <td>0</td>\n",
       "      <td>...</td>\n",
       "      <td>0</td>\n",
       "      <td>0</td>\n",
       "      <td>0</td>\n",
       "      <td>0</td>\n",
       "      <td>0</td>\n",
       "      <td>0</td>\n",
       "      <td>0</td>\n",
       "      <td>0</td>\n",
       "      <td>1</td>\n",
       "      <td>0</td>\n",
       "    </tr>\n",
       "    <tr>\n",
       "      <th>11</th>\n",
       "      <td>28</td>\n",
       "      <td>40000</td>\n",
       "      <td>0</td>\n",
       "      <td>1</td>\n",
       "      <td>0</td>\n",
       "      <td>0</td>\n",
       "      <td>0</td>\n",
       "      <td>0</td>\n",
       "      <td>0</td>\n",
       "      <td>0</td>\n",
       "      <td>...</td>\n",
       "      <td>0</td>\n",
       "      <td>0</td>\n",
       "      <td>0</td>\n",
       "      <td>0</td>\n",
       "      <td>0</td>\n",
       "      <td>0</td>\n",
       "      <td>0</td>\n",
       "      <td>0</td>\n",
       "      <td>0</td>\n",
       "      <td>0</td>\n",
       "    </tr>\n",
       "    <tr>\n",
       "      <th>13</th>\n",
       "      <td>30</td>\n",
       "      <td>30000</td>\n",
       "      <td>0</td>\n",
       "      <td>0</td>\n",
       "      <td>0</td>\n",
       "      <td>0</td>\n",
       "      <td>0</td>\n",
       "      <td>0</td>\n",
       "      <td>0</td>\n",
       "      <td>0</td>\n",
       "      <td>...</td>\n",
       "      <td>0</td>\n",
       "      <td>0</td>\n",
       "      <td>0</td>\n",
       "      <td>0</td>\n",
       "      <td>0</td>\n",
       "      <td>0</td>\n",
       "      <td>0</td>\n",
       "      <td>0</td>\n",
       "      <td>0</td>\n",
       "      <td>0</td>\n",
       "    </tr>\n",
       "    <tr>\n",
       "      <th>14</th>\n",
       "      <td>29</td>\n",
       "      <td>50000</td>\n",
       "      <td>0</td>\n",
       "      <td>0</td>\n",
       "      <td>0</td>\n",
       "      <td>0</td>\n",
       "      <td>0</td>\n",
       "      <td>0</td>\n",
       "      <td>0</td>\n",
       "      <td>0</td>\n",
       "      <td>...</td>\n",
       "      <td>0</td>\n",
       "      <td>0</td>\n",
       "      <td>1</td>\n",
       "      <td>0</td>\n",
       "      <td>0</td>\n",
       "      <td>0</td>\n",
       "      <td>0</td>\n",
       "      <td>0</td>\n",
       "      <td>0</td>\n",
       "      <td>0</td>\n",
       "    </tr>\n",
       "    <tr>\n",
       "      <th>66</th>\n",
       "      <td>22</td>\n",
       "      <td>20000</td>\n",
       "      <td>0</td>\n",
       "      <td>0</td>\n",
       "      <td>0</td>\n",
       "      <td>0</td>\n",
       "      <td>0</td>\n",
       "      <td>1</td>\n",
       "      <td>0</td>\n",
       "      <td>0</td>\n",
       "      <td>...</td>\n",
       "      <td>0</td>\n",
       "      <td>0</td>\n",
       "      <td>1</td>\n",
       "      <td>0</td>\n",
       "      <td>0</td>\n",
       "      <td>0</td>\n",
       "      <td>0</td>\n",
       "      <td>0</td>\n",
       "      <td>0</td>\n",
       "      <td>0</td>\n",
       "    </tr>\n",
       "    <tr>\n",
       "      <th>...</th>\n",
       "      <td>...</td>\n",
       "      <td>...</td>\n",
       "      <td>...</td>\n",
       "      <td>...</td>\n",
       "      <td>...</td>\n",
       "      <td>...</td>\n",
       "      <td>...</td>\n",
       "      <td>...</td>\n",
       "      <td>...</td>\n",
       "      <td>...</td>\n",
       "      <td>...</td>\n",
       "      <td>...</td>\n",
       "      <td>...</td>\n",
       "      <td>...</td>\n",
       "      <td>...</td>\n",
       "      <td>...</td>\n",
       "      <td>...</td>\n",
       "      <td>...</td>\n",
       "      <td>...</td>\n",
       "      <td>...</td>\n",
       "      <td>...</td>\n",
       "    </tr>\n",
       "    <tr>\n",
       "      <th>59909</th>\n",
       "      <td>37</td>\n",
       "      <td>50000</td>\n",
       "      <td>0</td>\n",
       "      <td>0</td>\n",
       "      <td>0</td>\n",
       "      <td>0</td>\n",
       "      <td>0</td>\n",
       "      <td>0</td>\n",
       "      <td>0</td>\n",
       "      <td>0</td>\n",
       "      <td>...</td>\n",
       "      <td>0</td>\n",
       "      <td>0</td>\n",
       "      <td>0</td>\n",
       "      <td>0</td>\n",
       "      <td>0</td>\n",
       "      <td>0</td>\n",
       "      <td>0</td>\n",
       "      <td>0</td>\n",
       "      <td>0</td>\n",
       "      <td>0</td>\n",
       "    </tr>\n",
       "    <tr>\n",
       "      <th>59914</th>\n",
       "      <td>26</td>\n",
       "      <td>30000</td>\n",
       "      <td>0</td>\n",
       "      <td>0</td>\n",
       "      <td>0</td>\n",
       "      <td>0</td>\n",
       "      <td>0</td>\n",
       "      <td>0</td>\n",
       "      <td>0</td>\n",
       "      <td>0</td>\n",
       "      <td>...</td>\n",
       "      <td>0</td>\n",
       "      <td>0</td>\n",
       "      <td>1</td>\n",
       "      <td>0</td>\n",
       "      <td>0</td>\n",
       "      <td>0</td>\n",
       "      <td>0</td>\n",
       "      <td>0</td>\n",
       "      <td>0</td>\n",
       "      <td>0</td>\n",
       "    </tr>\n",
       "    <tr>\n",
       "      <th>59917</th>\n",
       "      <td>26</td>\n",
       "      <td>100000</td>\n",
       "      <td>0</td>\n",
       "      <td>0</td>\n",
       "      <td>0</td>\n",
       "      <td>0</td>\n",
       "      <td>0</td>\n",
       "      <td>0</td>\n",
       "      <td>0</td>\n",
       "      <td>0</td>\n",
       "      <td>...</td>\n",
       "      <td>0</td>\n",
       "      <td>0</td>\n",
       "      <td>0</td>\n",
       "      <td>0</td>\n",
       "      <td>0</td>\n",
       "      <td>0</td>\n",
       "      <td>0</td>\n",
       "      <td>0</td>\n",
       "      <td>0</td>\n",
       "      <td>0</td>\n",
       "    </tr>\n",
       "    <tr>\n",
       "      <th>59930</th>\n",
       "      <td>41</td>\n",
       "      <td>70000</td>\n",
       "      <td>0</td>\n",
       "      <td>0</td>\n",
       "      <td>0</td>\n",
       "      <td>0</td>\n",
       "      <td>0</td>\n",
       "      <td>0</td>\n",
       "      <td>0</td>\n",
       "      <td>0</td>\n",
       "      <td>...</td>\n",
       "      <td>0</td>\n",
       "      <td>0</td>\n",
       "      <td>0</td>\n",
       "      <td>0</td>\n",
       "      <td>0</td>\n",
       "      <td>0</td>\n",
       "      <td>0</td>\n",
       "      <td>0</td>\n",
       "      <td>0</td>\n",
       "      <td>0</td>\n",
       "    </tr>\n",
       "    <tr>\n",
       "      <th>59943</th>\n",
       "      <td>42</td>\n",
       "      <td>100000</td>\n",
       "      <td>0</td>\n",
       "      <td>0</td>\n",
       "      <td>0</td>\n",
       "      <td>0</td>\n",
       "      <td>1</td>\n",
       "      <td>0</td>\n",
       "      <td>0</td>\n",
       "      <td>0</td>\n",
       "      <td>...</td>\n",
       "      <td>0</td>\n",
       "      <td>0</td>\n",
       "      <td>0</td>\n",
       "      <td>0</td>\n",
       "      <td>0</td>\n",
       "      <td>0</td>\n",
       "      <td>0</td>\n",
       "      <td>0</td>\n",
       "      <td>0</td>\n",
       "      <td>0</td>\n",
       "    </tr>\n",
       "  </tbody>\n",
       "</table>\n",
       "<p>7375 rows × 82 columns</p>\n",
       "</div>"
      ],
      "text/plain": [
       "       age  income  job_artistic / musical / writer  \\\n",
       "1       35   80000                                0   \n",
       "11      28   40000                                0   \n",
       "13      30   30000                                0   \n",
       "14      29   50000                                0   \n",
       "66      22   20000                                0   \n",
       "...    ...     ...                              ...   \n",
       "59909   37   50000                                0   \n",
       "59914   26   30000                                0   \n",
       "59917   26  100000                                0   \n",
       "59930   41   70000                                0   \n",
       "59943   42  100000                                0   \n",
       "\n",
       "       job_banking / financial / real estate  job_clerical / administrative  \\\n",
       "1                                          0                              0   \n",
       "11                                         1                              0   \n",
       "13                                         0                              0   \n",
       "14                                         0                              0   \n",
       "66                                         0                              0   \n",
       "...                                      ...                            ...   \n",
       "59909                                      0                              0   \n",
       "59914                                      0                              0   \n",
       "59917                                      0                              0   \n",
       "59930                                      0                              0   \n",
       "59943                                      0                              0   \n",
       "\n",
       "       job_computer / hardware / software  job_construction / craftsmanship  \\\n",
       "1                                       0                                 0   \n",
       "11                                      0                                 0   \n",
       "13                                      0                                 0   \n",
       "14                                      0                                 0   \n",
       "66                                      0                                 0   \n",
       "...                                   ...                               ...   \n",
       "59909                                   0                                 0   \n",
       "59914                                   0                                 0   \n",
       "59917                                   0                                 0   \n",
       "59930                                   0                                 0   \n",
       "59943                                   0                                 1   \n",
       "\n",
       "       job_education / academia  job_entertainment / media  \\\n",
       "1                             0                          0   \n",
       "11                            0                          0   \n",
       "13                            0                          0   \n",
       "14                            0                          0   \n",
       "66                            1                          0   \n",
       "...                         ...                        ...   \n",
       "59909                         0                          0   \n",
       "59914                         0                          0   \n",
       "59917                         0                          0   \n",
       "59930                         0                          0   \n",
       "59943                         0                          0   \n",
       "\n",
       "       job_executive / management  ...  education_space camp  \\\n",
       "1                               0  ...                     0   \n",
       "11                              0  ...                     0   \n",
       "13                              0  ...                     0   \n",
       "14                              0  ...                     0   \n",
       "66                              0  ...                     0   \n",
       "...                           ...  ...                   ...   \n",
       "59909                           0  ...                     0   \n",
       "59914                           0  ...                     0   \n",
       "59917                           0  ...                     0   \n",
       "59930                           0  ...                     0   \n",
       "59943                           0  ...                     0   \n",
       "\n",
       "       education_two-year college  education_working on college/university  \\\n",
       "1                               0                                        0   \n",
       "11                              0                                        0   \n",
       "13                              0                                        0   \n",
       "14                              0                                        1   \n",
       "66                              0                                        1   \n",
       "...                           ...                                      ...   \n",
       "59909                           0                                        0   \n",
       "59914                           0                                        1   \n",
       "59917                           0                                        0   \n",
       "59930                           0                                        0   \n",
       "59943                           0                                        0   \n",
       "\n",
       "       education_working on high school  education_working on law school  \\\n",
       "1                                     0                                0   \n",
       "11                                    0                                0   \n",
       "13                                    0                                0   \n",
       "14                                    0                                0   \n",
       "66                                    0                                0   \n",
       "...                                 ...                              ...   \n",
       "59909                                 0                                0   \n",
       "59914                                 0                                0   \n",
       "59917                                 0                                0   \n",
       "59930                                 0                                0   \n",
       "59943                                 0                                0   \n",
       "\n",
       "       education_working on masters program  education_working on med school  \\\n",
       "1                                         0                                0   \n",
       "11                                        0                                0   \n",
       "13                                        0                                0   \n",
       "14                                        0                                0   \n",
       "66                                        0                                0   \n",
       "...                                     ...                              ...   \n",
       "59909                                     0                                0   \n",
       "59914                                     0                                0   \n",
       "59917                                     0                                0   \n",
       "59930                                     0                                0   \n",
       "59943                                     0                                0   \n",
       "\n",
       "       education_working on ph.d program  education_working on space camp  \\\n",
       "1                                      0                                1   \n",
       "11                                     0                                0   \n",
       "13                                     0                                0   \n",
       "14                                     0                                0   \n",
       "66                                     0                                0   \n",
       "...                                  ...                              ...   \n",
       "59909                                  0                                0   \n",
       "59914                                  0                                0   \n",
       "59917                                  0                                0   \n",
       "59930                                  0                                0   \n",
       "59943                                  0                                0   \n",
       "\n",
       "       education_working on two-year college  \n",
       "1                                          0  \n",
       "11                                         0  \n",
       "13                                         0  \n",
       "14                                         0  \n",
       "66                                         0  \n",
       "...                                      ...  \n",
       "59909                                      0  \n",
       "59914                                      0  \n",
       "59917                                      0  \n",
       "59930                                      0  \n",
       "59943                                      0  \n",
       "\n",
       "[7375 rows x 82 columns]"
      ]
     },
     "execution_count": 546,
     "metadata": {},
     "output_type": "execute_result"
    }
   ],
   "source": [
    "data_one_hot_encoded"
   ]
  },
  {
   "cell_type": "code",
   "execution_count": 550,
   "id": "862d6a8c-483b-42ce-a3c5-c1f780a3b8c5",
   "metadata": {},
   "outputs": [],
   "source": [
    "X_f_train, X_f_val, y_f_train, y_f_val = train_test_split(nn_bin_X, nn_bin_y)\n"
   ]
  },
  {
   "cell_type": "markdown",
   "id": "bf0cece7-11f8-490b-98cd-92ca837c217d",
   "metadata": {},
   "source": [
    "## moet X_train en y betere namen geven"
   ]
  },
  {
   "cell_type": "code",
   "execution_count": 552,
   "id": "aa520276-4a6c-4e68-b679-6be8b233f2aa",
   "metadata": {},
   "outputs": [
    {
     "data": {
      "text/plain": [
       "(5531, 84)"
      ]
     },
     "execution_count": 552,
     "metadata": {},
     "output_type": "execute_result"
    }
   ],
   "source": [
    "X_f_train.shape\n"
   ]
  },
  {
   "cell_type": "code",
   "execution_count": 554,
   "id": "445fe128-4b11-4960-b112-a7a9581ed89c",
   "metadata": {
    "scrolled": true
   },
   "outputs": [
    {
     "data": {
      "text/plain": [
       "(5531, 1)"
      ]
     },
     "execution_count": 554,
     "metadata": {},
     "output_type": "execute_result"
    }
   ],
   "source": [
    "y_f_train.shape"
   ]
  },
  {
   "cell_type": "code",
   "execution_count": 576,
   "id": "ae60f125-9028-4d23-981a-787d800e8acb",
   "metadata": {},
   "outputs": [
    {
     "name": "stdout",
     "output_type": "stream",
     "text": [
      "0.9896944494666425\n"
     ]
    }
   ],
   "source": [
    "from sklearn.ensemble import RandomForestClassifier\n",
    "\n",
    "f_classifier = RandomForestClassifier(n_estimators=2000)\n",
    "f_classifier.fit(X_f_train, y_f_train.values.ravel()) ## moet X_train en y betere namen geven\n",
    "print(f_classifier.score(X_f_train, y_f_train.values.ravel()))\n",
    "      "
   ]
  },
  {
   "cell_type": "code",
   "execution_count": null,
   "id": "526632d1-a87f-43d2-bd50-9bd44f7bff33",
   "metadata": {},
   "outputs": [],
   "source": [
    "Weet je zeker dat je ravel moet gebruiken?"
   ]
  },
  {
   "cell_type": "markdown",
   "id": "1d511712-a22c-4658-b50f-4aa6a2d00e94",
   "metadata": {},
   "source": [
    "0.99 is a way higher score than two other two models!\n",
    "\n"
   ]
  },
  {
   "cell_type": "code",
   "execution_count": 580,
   "id": "a808a65f-431a-495f-bb8d-0e5c9f86c15c",
   "metadata": {},
   "outputs": [
    {
     "data": {
      "text/plain": [
       "array([[1228,  139],\n",
       "       [ 309,  168]], dtype=int64)"
      ]
     },
     "execution_count": 580,
     "metadata": {},
     "output_type": "execute_result"
    }
   ],
   "source": [
    "y_f_pred = f_classifier.predict(X_f_val)\n",
    "cm = confusion_matrix(y_f_val, y_f_pred)\n",
    "cm"
   ]
  },
  {
   "cell_type": "code",
   "execution_count": 582,
   "id": "6bb32a7c-d377-457a-9fba-c0cbac557615",
   "metadata": {},
   "outputs": [
    {
     "name": "stderr",
     "output_type": "stream",
     "text": [
      "C:\\Users\\Frank\\anaconda3\\Lib\\site-packages\\sklearn\\base.py:486: UserWarning: X has feature names, but SVC was fitted without feature names\n",
      "  warnings.warn(\n"
     ]
    },
    {
     "name": "stdout",
     "output_type": "stream",
     "text": [
      "Accuracy:  0.929\n",
      "Precision: 0.983\n",
      "Recall:    0.738\n",
      "F1 Score:  0.843\n"
     ]
    }
   ],
   "source": [
    "y_true  = y_f_val\n",
    "y_pred = classifier.predict(X_f_val)\n",
    "\n",
    "acc = accuracy_score(y_true, y_pred)\n",
    "prec = precision_score(y_true, y_pred, zero_division=0)\n",
    "rec = recall_score(y_true, y_pred)\n",
    "f1 = f1_score(y_true, y_pred)\n",
    "\n",
    "print(f\"Accuracy:  {acc:.3f}\")\n",
    "print(f\"Precision: {prec:.3f}\")\n",
    "print(f\"Recall:    {rec:.3f}\")\n",
    "print(f\"F1 Score:  {f1:.3f}\")"
   ]
  },
  {
   "cell_type": "markdown",
   "id": "fa4f9c45-73a3-4dbb-9594-7430cfdd6f21",
   "metadata": {},
   "source": [
    "Big difference between accuracy and score!"
   ]
  },
  {
   "cell_type": "markdown",
   "id": "0430325f-6589-4edf-8550-f40ae1406b80",
   "metadata": {},
   "source": [
    "# Logistic Regression"
   ]
  },
  {
   "cell_type": "code",
   "execution_count": 595,
   "id": "a3bc35bf-0cf4-479f-a1fd-602b67550f04",
   "metadata": {},
   "outputs": [],
   "source": [
    "X_l_train, X_l_val, y_l_train, y_l_val = train_test_split(nn_bin_X, nn_bin_y)"
   ]
  },
  {
   "cell_type": "code",
   "execution_count": 613,
   "id": "8ed24dbd-0b58-45e0-8da3-4a677384b3fe",
   "metadata": {},
   "outputs": [
    {
     "name": "stderr",
     "output_type": "stream",
     "text": [
      "C:\\Users\\Frank\\anaconda3\\Lib\\site-packages\\sklearn\\utils\\validation.py:1339: DataConversionWarning: A column-vector y was passed when a 1d array was expected. Please change the shape of y to (n_samples, ), for example using ravel().\n",
      "  y = column_or_1d(y, warn=True)\n"
     ]
    },
    {
     "name": "stdout",
     "output_type": "stream",
     "text": [
      "[[1289   92]\n",
      " [ 300  163]]\n"
     ]
    }
   ],
   "source": [
    "from sklearn.linear_model import LogisticRegression\n",
    "\n",
    "cc_lr = LogisticRegression(max_iter=1000)\n",
    "cc_lr.fit(X_l_train, y_l_train)\n",
    "\n",
    "y_pred = cc_lr.predict(X_l_val)\n",
    "y_true = y_l_val\n",
    "\n",
    "print(confusion_matrix(y_true, y_pred))"
   ]
  },
  {
   "cell_type": "code",
   "execution_count": 619,
   "id": "32d1a4ec-c2ab-4838-aa07-e567eec015ba",
   "metadata": {},
   "outputs": [
    {
     "name": "stderr",
     "output_type": "stream",
     "text": [
      "C:\\Users\\Frank\\anaconda3\\Lib\\site-packages\\sklearn\\base.py:486: UserWarning: X has feature names, but SVC was fitted without feature names\n",
      "  warnings.warn(\n"
     ]
    },
    {
     "name": "stdout",
     "output_type": "stream",
     "text": [
      "Accuracy:  0.928\n",
      "Precision: 0.994\n",
      "Recall:    0.719\n",
      "F1 Score:  0.835\n"
     ]
    }
   ],
   "source": [
    "y_true  = y_l_val\n",
    "y_pred = classifier.predict(X_l_val)\n",
    "\n",
    "acc = accuracy_score(y_true, y_pred)\n",
    "prec = precision_score(y_true, y_pred, zero_division=0)\n",
    "rec = recall_score(y_true, y_pred)\n",
    "f1 = f1_score(y_true, y_pred)\n",
    "\n",
    "print(f\"Accuracy:  {acc:.3f}\")\n",
    "print(f\"Precision: {prec:.3f}\")\n",
    "print(f\"Recall:    {rec:.3f}\")\n",
    "print(f\"F1 Score:  {f1:.3f}\")"
   ]
  },
  {
   "cell_type": "code",
   "execution_count": 617,
   "id": "94b87cb6-a675-4d7d-b5bd-316c94894515",
   "metadata": {},
   "outputs": [
    {
     "data": {
      "text/plain": [
       "0.7874186550976139"
      ]
     },
     "execution_count": 617,
     "metadata": {},
     "output_type": "execute_result"
    }
   ],
   "source": [
    "cc_lr.score(X_l_val, y_l_val)"
   ]
  }
 ],
 "metadata": {
  "kernelspec": {
   "display_name": "Python [conda env:base] *",
   "language": "python",
   "name": "conda-base-py"
  },
  "language_info": {
   "codemirror_mode": {
    "name": "ipython",
    "version": 3
   },
   "file_extension": ".py",
   "mimetype": "text/x-python",
   "name": "python",
   "nbconvert_exporter": "python",
   "pygments_lexer": "ipython3",
   "version": "3.12.7"
  }
 },
 "nbformat": 4,
 "nbformat_minor": 5
}
