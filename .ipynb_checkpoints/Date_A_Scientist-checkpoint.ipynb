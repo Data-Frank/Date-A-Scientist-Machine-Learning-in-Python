{
 "cells": [
  {
   "cell_type": "markdown",
   "id": "ed533392-0519-4f9b-9e7b-51030168aeca",
   "metadata": {},
   "source": [
    "# Introduction \n",
    "This project has anayzed data from the dating app OKCupid. Dating apps are relatively new and have a rich user base. These apps are a rich source user data new relations can be found through data analysis and machine learning \n",
    "\n",
    "\n",
    "**Data sources:**\n",
    "The data set used, `profiles.csv`, was provided by Codecademy.com."
   ]
  },
  {
   "cell_type": "markdown",
   "id": "d9b25550-fac9-4d71-b87d-29027daa910f",
   "metadata": {},
   "source": [
    "## Scoping\n",
    "### Project Goals\n",
    "Probably the most interesting data from such an app would be the matching choices by the users. However, since this wasn'in the data, the focus has been on whether one could predicts the income by the other variables. Since a lot of users have not stated their income and one would want to know it anyway, these models could be used to make a prediction yourself.  \n",
    "A second goal is to predict whether someone smokes or not. In this data set 90.81% of the smoker/non-smoker values were present and can be used to predict the last 9.19%. \n",
    "\n",
    "### Data\n",
    "The project uses one data set, which is provided by Codecademy called `profiles.csv`. In the data, each row represents an OkCupid user and the columns are the responses to their user profiles which include multi-choice and short answer questions.\n",
    "\n",
    "### Analysis \n",
    "This analysis will first focus on how the indivisual features are distributed and will later be prepared for several different machine learning models to predict income and whether someone smokes or not. The models include neural networks, multiple linear regression, support vector machine, random forest and logistic regression. \n",
    "\n",
    "### Evaluation\n",
    "Each model will be subjected to evaluation, to determine which one predicts the best. The models predicting income, which is an continous variable will be evaluated by the mean average error.\n",
    "\n",
    "The output of the models predicing smoker/non-smoker, which is a binary variable, will be evaluated through a confusion matrix and classification metrics accuracy, precision, recall, F1 score. "
   ]
  },
  {
   "cell_type": "markdown",
   "id": "88eb6ec2-a61e-41c1-b4e7-f2caac2e925f",
   "metadata": {},
   "source": [
    "## Loading the Data"
   ]
  },
  {
   "cell_type": "code",
   "execution_count": 340,
   "id": "f06347f9-d0a5-4d59-988e-02505c0ae221",
   "metadata": {},
   "outputs": [],
   "source": [
    "import pandas as pd\n",
    "data = pd.read_csv(\"profiles.csv\")"
   ]
  },
  {
   "cell_type": "markdown",
   "id": "ad2bc323-36ac-4dc2-8251-4377019aa2d9",
   "metadata": {},
   "source": [
    "### Data Characteristics"
   ]
  },
  {
   "cell_type": "markdown",
   "id": "235361ae-d5b4-44ba-8eb6-cb0c0d2392e2",
   "metadata": {},
   "source": [
    "Let's take a first glance at the data, to have an impression how the data set is structured."
   ]
  },
  {
   "cell_type": "code",
   "execution_count": 343,
   "id": "b8c906fa-0366-4239-9075-97deb5d1d92b",
   "metadata": {},
   "outputs": [
    {
     "data": {
      "text/html": [
       "<div>\n",
       "<style scoped>\n",
       "    .dataframe tbody tr th:only-of-type {\n",
       "        vertical-align: middle;\n",
       "    }\n",
       "\n",
       "    .dataframe tbody tr th {\n",
       "        vertical-align: top;\n",
       "    }\n",
       "\n",
       "    .dataframe thead th {\n",
       "        text-align: right;\n",
       "    }\n",
       "</style>\n",
       "<table border=\"1\" class=\"dataframe\">\n",
       "  <thead>\n",
       "    <tr style=\"text-align: right;\">\n",
       "      <th></th>\n",
       "      <th>age</th>\n",
       "      <th>body_type</th>\n",
       "      <th>diet</th>\n",
       "      <th>drinks</th>\n",
       "      <th>drugs</th>\n",
       "      <th>education</th>\n",
       "      <th>essay0</th>\n",
       "      <th>essay1</th>\n",
       "      <th>essay2</th>\n",
       "      <th>essay3</th>\n",
       "      <th>...</th>\n",
       "      <th>location</th>\n",
       "      <th>offspring</th>\n",
       "      <th>orientation</th>\n",
       "      <th>pets</th>\n",
       "      <th>religion</th>\n",
       "      <th>sex</th>\n",
       "      <th>sign</th>\n",
       "      <th>smokes</th>\n",
       "      <th>speaks</th>\n",
       "      <th>status</th>\n",
       "    </tr>\n",
       "  </thead>\n",
       "  <tbody>\n",
       "    <tr>\n",
       "      <th>0</th>\n",
       "      <td>22</td>\n",
       "      <td>a little extra</td>\n",
       "      <td>strictly anything</td>\n",
       "      <td>socially</td>\n",
       "      <td>never</td>\n",
       "      <td>working on college/university</td>\n",
       "      <td>about me:&lt;br /&gt;\\n&lt;br /&gt;\\ni would love to think...</td>\n",
       "      <td>currently working as an international agent fo...</td>\n",
       "      <td>making people laugh.&lt;br /&gt;\\nranting about a go...</td>\n",
       "      <td>the way i look. i am a six foot half asian, ha...</td>\n",
       "      <td>...</td>\n",
       "      <td>south san francisco, california</td>\n",
       "      <td>doesn&amp;rsquo;t have kids, but might want them</td>\n",
       "      <td>straight</td>\n",
       "      <td>likes dogs and likes cats</td>\n",
       "      <td>agnosticism and very serious about it</td>\n",
       "      <td>m</td>\n",
       "      <td>gemini</td>\n",
       "      <td>sometimes</td>\n",
       "      <td>english</td>\n",
       "      <td>single</td>\n",
       "    </tr>\n",
       "    <tr>\n",
       "      <th>1</th>\n",
       "      <td>35</td>\n",
       "      <td>average</td>\n",
       "      <td>mostly other</td>\n",
       "      <td>often</td>\n",
       "      <td>sometimes</td>\n",
       "      <td>working on space camp</td>\n",
       "      <td>i am a chef: this is what that means.&lt;br /&gt;\\n1...</td>\n",
       "      <td>dedicating everyday to being an unbelievable b...</td>\n",
       "      <td>being silly. having ridiculous amonts of fun w...</td>\n",
       "      <td>NaN</td>\n",
       "      <td>...</td>\n",
       "      <td>oakland, california</td>\n",
       "      <td>doesn&amp;rsquo;t have kids, but might want them</td>\n",
       "      <td>straight</td>\n",
       "      <td>likes dogs and likes cats</td>\n",
       "      <td>agnosticism but not too serious about it</td>\n",
       "      <td>m</td>\n",
       "      <td>cancer</td>\n",
       "      <td>no</td>\n",
       "      <td>english (fluently), spanish (poorly), french (...</td>\n",
       "      <td>single</td>\n",
       "    </tr>\n",
       "    <tr>\n",
       "      <th>2</th>\n",
       "      <td>38</td>\n",
       "      <td>thin</td>\n",
       "      <td>anything</td>\n",
       "      <td>socially</td>\n",
       "      <td>NaN</td>\n",
       "      <td>graduated from masters program</td>\n",
       "      <td>i'm not ashamed of much, but writing public te...</td>\n",
       "      <td>i make nerdy software for musicians, artists, ...</td>\n",
       "      <td>improvising in different contexts. alternating...</td>\n",
       "      <td>my large jaw and large glasses are the physica...</td>\n",
       "      <td>...</td>\n",
       "      <td>san francisco, california</td>\n",
       "      <td>NaN</td>\n",
       "      <td>straight</td>\n",
       "      <td>has cats</td>\n",
       "      <td>NaN</td>\n",
       "      <td>m</td>\n",
       "      <td>pisces but it doesn&amp;rsquo;t matter</td>\n",
       "      <td>no</td>\n",
       "      <td>english, french, c++</td>\n",
       "      <td>available</td>\n",
       "    </tr>\n",
       "    <tr>\n",
       "      <th>3</th>\n",
       "      <td>23</td>\n",
       "      <td>thin</td>\n",
       "      <td>vegetarian</td>\n",
       "      <td>socially</td>\n",
       "      <td>NaN</td>\n",
       "      <td>working on college/university</td>\n",
       "      <td>i work in a library and go to school. . .</td>\n",
       "      <td>reading things written by old dead people</td>\n",
       "      <td>playing synthesizers and organizing books acco...</td>\n",
       "      <td>socially awkward but i do my best</td>\n",
       "      <td>...</td>\n",
       "      <td>berkeley, california</td>\n",
       "      <td>doesn&amp;rsquo;t want kids</td>\n",
       "      <td>straight</td>\n",
       "      <td>likes cats</td>\n",
       "      <td>NaN</td>\n",
       "      <td>m</td>\n",
       "      <td>pisces</td>\n",
       "      <td>no</td>\n",
       "      <td>english, german (poorly)</td>\n",
       "      <td>single</td>\n",
       "    </tr>\n",
       "    <tr>\n",
       "      <th>4</th>\n",
       "      <td>29</td>\n",
       "      <td>athletic</td>\n",
       "      <td>NaN</td>\n",
       "      <td>socially</td>\n",
       "      <td>never</td>\n",
       "      <td>graduated from college/university</td>\n",
       "      <td>hey how's it going? currently vague on the pro...</td>\n",
       "      <td>work work work work + play</td>\n",
       "      <td>creating imagery to look at:&lt;br /&gt;\\nhttp://bag...</td>\n",
       "      <td>i smile a lot and my inquisitive nature</td>\n",
       "      <td>...</td>\n",
       "      <td>san francisco, california</td>\n",
       "      <td>NaN</td>\n",
       "      <td>straight</td>\n",
       "      <td>likes dogs and likes cats</td>\n",
       "      <td>NaN</td>\n",
       "      <td>m</td>\n",
       "      <td>aquarius</td>\n",
       "      <td>no</td>\n",
       "      <td>english</td>\n",
       "      <td>single</td>\n",
       "    </tr>\n",
       "  </tbody>\n",
       "</table>\n",
       "<p>5 rows × 31 columns</p>\n",
       "</div>"
      ],
      "text/plain": [
       "   age       body_type               diet    drinks      drugs  \\\n",
       "0   22  a little extra  strictly anything  socially      never   \n",
       "1   35         average       mostly other     often  sometimes   \n",
       "2   38            thin           anything  socially        NaN   \n",
       "3   23            thin         vegetarian  socially        NaN   \n",
       "4   29        athletic                NaN  socially      never   \n",
       "\n",
       "                           education  \\\n",
       "0      working on college/university   \n",
       "1              working on space camp   \n",
       "2     graduated from masters program   \n",
       "3      working on college/university   \n",
       "4  graduated from college/university   \n",
       "\n",
       "                                              essay0  \\\n",
       "0  about me:<br />\\n<br />\\ni would love to think...   \n",
       "1  i am a chef: this is what that means.<br />\\n1...   \n",
       "2  i'm not ashamed of much, but writing public te...   \n",
       "3          i work in a library and go to school. . .   \n",
       "4  hey how's it going? currently vague on the pro...   \n",
       "\n",
       "                                              essay1  \\\n",
       "0  currently working as an international agent fo...   \n",
       "1  dedicating everyday to being an unbelievable b...   \n",
       "2  i make nerdy software for musicians, artists, ...   \n",
       "3          reading things written by old dead people   \n",
       "4                         work work work work + play   \n",
       "\n",
       "                                              essay2  \\\n",
       "0  making people laugh.<br />\\nranting about a go...   \n",
       "1  being silly. having ridiculous amonts of fun w...   \n",
       "2  improvising in different contexts. alternating...   \n",
       "3  playing synthesizers and organizing books acco...   \n",
       "4  creating imagery to look at:<br />\\nhttp://bag...   \n",
       "\n",
       "                                              essay3  ...  \\\n",
       "0  the way i look. i am a six foot half asian, ha...  ...   \n",
       "1                                                NaN  ...   \n",
       "2  my large jaw and large glasses are the physica...  ...   \n",
       "3                  socially awkward but i do my best  ...   \n",
       "4            i smile a lot and my inquisitive nature  ...   \n",
       "\n",
       "                          location  \\\n",
       "0  south san francisco, california   \n",
       "1              oakland, california   \n",
       "2        san francisco, california   \n",
       "3             berkeley, california   \n",
       "4        san francisco, california   \n",
       "\n",
       "                                      offspring orientation  \\\n",
       "0  doesn&rsquo;t have kids, but might want them    straight   \n",
       "1  doesn&rsquo;t have kids, but might want them    straight   \n",
       "2                                           NaN    straight   \n",
       "3                       doesn&rsquo;t want kids    straight   \n",
       "4                                           NaN    straight   \n",
       "\n",
       "                        pets                                  religion sex  \\\n",
       "0  likes dogs and likes cats     agnosticism and very serious about it   m   \n",
       "1  likes dogs and likes cats  agnosticism but not too serious about it   m   \n",
       "2                   has cats                                       NaN   m   \n",
       "3                 likes cats                                       NaN   m   \n",
       "4  likes dogs and likes cats                                       NaN   m   \n",
       "\n",
       "                                 sign     smokes  \\\n",
       "0                              gemini  sometimes   \n",
       "1                              cancer         no   \n",
       "2  pisces but it doesn&rsquo;t matter         no   \n",
       "3                              pisces         no   \n",
       "4                            aquarius         no   \n",
       "\n",
       "                                              speaks     status  \n",
       "0                                            english     single  \n",
       "1  english (fluently), spanish (poorly), french (...     single  \n",
       "2                               english, french, c++  available  \n",
       "3                           english, german (poorly)     single  \n",
       "4                                            english     single  \n",
       "\n",
       "[5 rows x 31 columns]"
      ]
     },
     "execution_count": 343,
     "metadata": {},
     "output_type": "execute_result"
    }
   ],
   "source": [
    "data.head()"
   ]
  },
  {
   "cell_type": "markdown",
   "id": "749e37aa-a3af-435e-ae13-6ceb8bba313f",
   "metadata": {},
   "source": [
    "### Explore the Data "
   ]
  },
  {
   "cell_type": "markdown",
   "id": "4c34956b-3446-48a4-ad9b-49ebcc24fd48",
   "metadata": {},
   "source": [
    "The columns in the dataset include: \n",
    "\n",
    "- **age:** continuous variable of age of user\n",
    "- **body_type:** categorical variable of body type of user\n",
    "- **diet:** categorical variable of dietary information\n",
    "- **drinks:**  categorical variable of alcohol consumption\n",
    "- **drugs:** categorical variable of drug usage\n",
    "- **education:** categorical variable of educational attainment\n",
    "- **ethnicity:** categorical variable of ethnic backgrounds\n",
    "- **height:** continuous variable of height of user\n",
    "- **income:** continuous variable of income of user\n",
    "- **job:** categorical variable of employment description\n",
    "- **offspring:** categorical variable of children status\n",
    "- **orientation:** categorical variable of sexual orientation\n",
    "- **pets:** categorical variable of pet preferences\n",
    "- **religion:** categorical variable of religious background\n",
    "- **sex:** categorical variable of gender\n",
    "- **sign:** categorical variable of astrological symbol\n",
    "- **smokes:** categorical variable of smoking consumption\n",
    "- **speaks:** categorical variable of language spoken\n",
    "- **status:** categorical variable of relationship status\n",
    "- **last_online:** date variable of last login\n",
    "- **location:** categorical variable of user locations\n",
    "\n",
    "And a set of open short-answer responses to :\n",
    "\n",
    "- **essay0:** My self summary\n",
    "- **essay1:**  What I’m doing with my life\n",
    "- **essay2:** I’m really good at\n",
    "- **essay3:** The first thing people usually notice about me\n",
    "- **essay4:** Favorite books, movies, show, music, and food\n",
    "- **essay5:** The six things I could never do without\n",
    "- **essay6:** I spend a lot of time thinking about\n",
    "- **essay7:** On a typical Friday night I am\n",
    "- **essay8:** The most private thing I am willing to admit\n",
    "- **essay9:** You should message me if…\n"
   ]
  },
  {
   "cell_type": "markdown",
   "id": "fb3bb436-8a2d-4529-ab29-4a5dd7e679ac",
   "metadata": {},
   "source": [
    "The data types seem right. However, there are a lot of null values."
   ]
  },
  {
   "cell_type": "code",
   "execution_count": 347,
   "id": "560f9685-2e63-4f49-ba12-2c8423c0cb14",
   "metadata": {
    "scrolled": true
   },
   "outputs": [
    {
     "name": "stdout",
     "output_type": "stream",
     "text": [
      "<class 'pandas.core.frame.DataFrame'>\n",
      "RangeIndex: 59946 entries, 0 to 59945\n",
      "Data columns (total 31 columns):\n",
      " #   Column       Non-Null Count  Dtype  \n",
      "---  ------       --------------  -----  \n",
      " 0   age          59946 non-null  int64  \n",
      " 1   body_type    54650 non-null  object \n",
      " 2   diet         35551 non-null  object \n",
      " 3   drinks       56961 non-null  object \n",
      " 4   drugs        45866 non-null  object \n",
      " 5   education    53318 non-null  object \n",
      " 6   essay0       54458 non-null  object \n",
      " 7   essay1       52374 non-null  object \n",
      " 8   essay2       50308 non-null  object \n",
      " 9   essay3       48470 non-null  object \n",
      " 10  essay4       49409 non-null  object \n",
      " 11  essay5       49096 non-null  object \n",
      " 12  essay6       46175 non-null  object \n",
      " 13  essay7       47495 non-null  object \n",
      " 14  essay8       40721 non-null  object \n",
      " 15  essay9       47343 non-null  object \n",
      " 16  ethnicity    54266 non-null  object \n",
      " 17  height       59943 non-null  float64\n",
      " 18  income       59946 non-null  int64  \n",
      " 19  job          51748 non-null  object \n",
      " 20  last_online  59946 non-null  object \n",
      " 21  location     59946 non-null  object \n",
      " 22  offspring    24385 non-null  object \n",
      " 23  orientation  59946 non-null  object \n",
      " 24  pets         40025 non-null  object \n",
      " 25  religion     39720 non-null  object \n",
      " 26  sex          59946 non-null  object \n",
      " 27  sign         48890 non-null  object \n",
      " 28  smokes       54434 non-null  object \n",
      " 29  speaks       59896 non-null  object \n",
      " 30  status       59946 non-null  object \n",
      "dtypes: float64(1), int64(2), object(28)\n",
      "memory usage: 14.2+ MB\n"
     ]
    }
   ],
   "source": [
    "data.info()"
   ]
  },
  {
   "cell_type": "code",
   "execution_count": 348,
   "id": "e296eb9f-3a24-402a-a50b-3cb5bfdab21f",
   "metadata": {},
   "outputs": [
    {
     "name": "stdout",
     "output_type": "stream",
     "text": [
      "age: 100.00% non-null values \n",
      "body_type: 91.17% non-null values \n",
      "diet: 59.31% non-null values \n",
      "drinks: 95.02% non-null values \n",
      "drugs: 76.51% non-null values \n",
      "education: 88.94% non-null values \n",
      "essay0: 90.85% non-null values \n",
      "essay1: 87.37% non-null values \n",
      "essay2: 83.92% non-null values \n",
      "essay3: 80.86% non-null values \n",
      "essay4: 82.42% non-null values \n",
      "essay5: 81.90% non-null values \n",
      "essay6: 77.03% non-null values \n",
      "essay7: 79.23% non-null values \n",
      "essay8: 67.93% non-null values \n",
      "essay9: 78.98% non-null values \n",
      "ethnicity: 90.52% non-null values \n",
      "height: 99.99% non-null values \n",
      "income: 100.00% non-null values \n",
      "job: 86.32% non-null values \n",
      "last_online: 100.00% non-null values \n",
      "location: 100.00% non-null values \n",
      "offspring: 40.68% non-null values \n",
      "orientation: 100.00% non-null values \n",
      "pets: 66.77% non-null values \n",
      "religion: 66.26% non-null values \n",
      "sex: 100.00% non-null values \n",
      "sign: 81.56% non-null values \n",
      "smokes: 90.81% non-null values \n",
      "speaks: 99.92% non-null values \n",
      "status: 100.00% non-null values \n"
     ]
    }
   ],
   "source": [
    "for col in data.columns:\n",
    "        non_null_percentage = data[col].count()/59946\n",
    "        print(f\"{col}: {non_null_percentage:.2%} {'non-null values'} \")"
   ]
  },
  {
   "cell_type": "markdown",
   "id": "d9b5300b-fe66-477c-87bf-08237a82b588",
   "metadata": {},
   "source": [
    "# Continous Variables"
   ]
  },
  {
   "cell_type": "markdown",
   "id": "0d03588e-d24c-4b9c-b281-ae9aa2165266",
   "metadata": {},
   "source": [
    "### Age\n",
    "The plot shows that the data is skewed to the right, with a center at around late 20s."
   ]
  },
  {
   "cell_type": "code",
   "execution_count": 351,
   "id": "57623749-3759-4b10-b667-1dcf003c0ad1",
   "metadata": {},
   "outputs": [
    {
     "data": {
      "image/png": "[encoded data removed]",
      "text/plain": [
       "<Figure size 640x480 with 1 Axes>"
      ]
     },
     "metadata": {},
     "output_type": "display_data"
    }
   ],
   "source": [
    "# Plot histogram\n",
    "import matplotlib.pyplot as plt\n",
    "data['age'].plot(kind='hist', bins=30, edgecolor='black')\n",
    "\n",
    "plt.title('Age Distribution')\n",
    "plt.xlabel('Age')\n",
    "plt.ylabel('Frequency')\n",
    "plt.show()"
   ]
  },
  {
   "cell_type": "markdown",
   "id": "940e90d5-75fd-4b65-8616-b97eb96a6408",
   "metadata": {},
   "source": [
    "### Income"
   ]
  },
  {
   "cell_type": "code",
   "execution_count": 353,
   "id": "e62ee500-6629-431f-9eea-05c35f6b9e68",
   "metadata": {
    "scrolled": true
   },
   "outputs": [
    {
     "data": {
      "text/plain": [
       "count      59946.000000\n",
       "mean       20033.222534\n",
       "std        97346.192104\n",
       "min           -1.000000\n",
       "25%           -1.000000\n",
       "50%           -1.000000\n",
       "75%           -1.000000\n",
       "max      1000000.000000\n",
       "Name: income, dtype: float64"
      ]
     },
     "execution_count": 353,
     "metadata": {},
     "output_type": "execute_result"
    }
   ],
   "source": [
    "data.income.describe()"
   ]
  },
  {
   "cell_type": "code",
   "execution_count": 354,
   "id": "f2d77b57-8990-424b-b07a-06e7a3341d95",
   "metadata": {},
   "outputs": [
    {
     "data": {
      "text/plain": [
       "False"
      ]
     },
     "execution_count": 354,
     "metadata": {},
     "output_type": "execute_result"
    }
   ],
   "source": [
    "data.income.isnull().any()"
   ]
  },
  {
   "cell_type": "markdown",
   "id": "441e8910-163a-43e2-9295-abb055baae2f",
   "metadata": {},
   "source": [
    "Although there are no null-values for the variable 'income', there are lot of values with '0', as can be seen in the graph below. To let this variable have any prediction value, these values must be removed."
   ]
  },
  {
   "cell_type": "code",
   "execution_count": 356,
   "id": "cb8ff1a6-830f-498b-a7d7-66172e7dab99",
   "metadata": {},
   "outputs": [
    {
     "data": {
      "image/png": "[encoded data removed]",
      "text/plain": [
       "<Figure size 640x480 with 1 Axes>"
      ]
     },
     "metadata": {},
     "output_type": "display_data"
    }
   ],
   "source": [
    "\n",
    "# Plot histogram\n",
    "data['income'].plot(kind='hist', bins=30, edgecolor='black')\n",
    "\n",
    "plt.title('Income Distribution')\n",
    "plt.xlabel('Income')\n",
    "plt.ylabel('Frequency')\n",
    "plt.show()"
   ]
  },
  {
   "cell_type": "markdown",
   "id": "f5744f65-62a7-457f-b235-0d43230a793b",
   "metadata": {},
   "source": [
    "# Discrete Variables"
   ]
  },
  {
   "cell_type": "markdown",
   "id": "85bce582-5b24-46c8-9c0d-76436b4f43c4",
   "metadata": {},
   "source": [
    "### Job"
   ]
  },
  {
   "cell_type": "code",
   "execution_count": 359,
   "id": "622542a5-a203-4f53-9bfd-8144fdd85d11",
   "metadata": {
    "scrolled": true
   },
   "outputs": [
    {
     "data": {
      "text/plain": [
       "job\n",
       "other                                7589\n",
       "student                              4882\n",
       "science / tech / engineering         4848\n",
       "computer / hardware / software       4709\n",
       "artistic / musical / writer          4439\n",
       "sales / marketing / biz dev          4391\n",
       "medicine / health                    3680\n",
       "education / academia                 3513\n",
       "executive / management               2373\n",
       "banking / financial / real estate    2266\n",
       "entertainment / media                2250\n",
       "law / legal services                 1381\n",
       "hospitality / travel                 1364\n",
       "construction / craftsmanship         1021\n",
       "clerical / administrative             805\n",
       "political / government                708\n",
       "rather not say                        436\n",
       "transportation                        366\n",
       "unemployed                            273\n",
       "retired                               250\n",
       "military                              204\n",
       "Name: count, dtype: int64"
      ]
     },
     "execution_count": 359,
     "metadata": {},
     "output_type": "execute_result"
    }
   ],
   "source": [
    "data.job.value_counts()"
   ]
  },
  {
   "cell_type": "markdown",
   "id": "ecba3012-d8b6-4db9-9a77-bcf0cbb3ea5e",
   "metadata": {},
   "source": [
    "### Sex"
   ]
  },
  {
   "cell_type": "code",
   "execution_count": 361,
   "id": "de3ce314-d551-47a3-a952-61a9a2266efc",
   "metadata": {},
   "outputs": [
    {
     "data": {
      "text/plain": [
       "sex\n",
       "m    35829\n",
       "f    24117\n",
       "Name: count, dtype: int64"
      ]
     },
     "execution_count": 361,
     "metadata": {},
     "output_type": "execute_result"
    }
   ],
   "source": [
    "data.sex.value_counts()"
   ]
  },
  {
   "cell_type": "code",
   "execution_count": 362,
   "id": "5f905a2f-7790-4386-b54b-34a8bd7ff41c",
   "metadata": {},
   "outputs": [
    {
     "data": {
      "text/plain": [
       "sex\n",
       "m    0.597688\n",
       "f    0.402312\n",
       "Name: proportion, dtype: float64"
      ]
     },
     "execution_count": 362,
     "metadata": {},
     "output_type": "execute_result"
    }
   ],
   "source": [
    "data.sex.value_counts(normalize=True)"
   ]
  },
  {
   "cell_type": "markdown",
   "id": "367bd154-468f-473b-bbb2-3d8210694799",
   "metadata": {},
   "source": [
    "40% of the users were female, while 60% were male."
   ]
  },
  {
   "cell_type": "markdown",
   "id": "b60bc909-caac-4e09-9b3a-cdf379940f39",
   "metadata": {},
   "source": [
    "### Body_type"
   ]
  },
  {
   "cell_type": "code",
   "execution_count": 365,
   "id": "73c074ba-2103-434b-87ad-2e94e985c34b",
   "metadata": {},
   "outputs": [
    {
     "data": {
      "text/plain": [
       "body_type\n",
       "average           14652\n",
       "fit               12711\n",
       "athletic          11819\n",
       "thin               4711\n",
       "curvy              3924\n",
       "a little extra     2629\n",
       "skinny             1777\n",
       "full figured       1009\n",
       "overweight          444\n",
       "jacked              421\n",
       "used up             355\n",
       "rather not say      198\n",
       "Name: count, dtype: int64"
      ]
     },
     "execution_count": 365,
     "metadata": {},
     "output_type": "execute_result"
    }
   ],
   "source": [
    "data.body_type.value_counts()"
   ]
  },
  {
   "cell_type": "markdown",
   "id": "380c5d5c-4a52-43e5-93d3-04340ddd1c19",
   "metadata": {},
   "source": [
    "### Diet"
   ]
  },
  {
   "cell_type": "code",
   "execution_count": 367,
   "id": "af2393db-1b60-4af7-a61a-dfa7f7038854",
   "metadata": {},
   "outputs": [
    {
     "data": {
      "text/plain": [
       "diet\n",
       "mostly anything        16585\n",
       "anything                6183\n",
       "strictly anything       5113\n",
       "mostly vegetarian       3444\n",
       "mostly other            1007\n",
       "strictly vegetarian      875\n",
       "vegetarian               667\n",
       "strictly other           452\n",
       "mostly vegan             338\n",
       "other                    331\n",
       "strictly vegan           228\n",
       "vegan                    136\n",
       "mostly kosher             86\n",
       "mostly halal              48\n",
       "strictly halal            18\n",
       "strictly kosher           18\n",
       "halal                     11\n",
       "kosher                    11\n",
       "Name: count, dtype: int64"
      ]
     },
     "execution_count": 367,
     "metadata": {},
     "output_type": "execute_result"
    }
   ],
   "source": [
    "data.diet.value_counts()"
   ]
  },
  {
   "cell_type": "markdown",
   "id": "13ec3a21-be3f-4204-bf67-ffd157512d01",
   "metadata": {},
   "source": [
    "### Drugs"
   ]
  },
  {
   "cell_type": "code",
   "execution_count": 369,
   "id": "b89dfdd0-a429-422c-84b9-3a79e156c323",
   "metadata": {},
   "outputs": [
    {
     "data": {
      "text/plain": [
       "drugs\n",
       "never        37724\n",
       "sometimes     7732\n",
       "often          410\n",
       "Name: count, dtype: int64"
      ]
     },
     "execution_count": 369,
     "metadata": {},
     "output_type": "execute_result"
    }
   ],
   "source": [
    "data.drugs.value_counts()"
   ]
  },
  {
   "cell_type": "markdown",
   "id": "30b2af73-fac0-46f3-a4e4-6cb63ffef7a1",
   "metadata": {},
   "source": [
    "### Drinks"
   ]
  },
  {
   "cell_type": "code",
   "execution_count": 371,
   "id": "cb8fc806-2ba5-48e8-b519-6d38a4d34c42",
   "metadata": {},
   "outputs": [
    {
     "data": {
      "text/plain": [
       "drinks\n",
       "socially       41780\n",
       "rarely          5957\n",
       "often           5164\n",
       "not at all      3267\n",
       "very often       471\n",
       "desperately      322\n",
       "Name: count, dtype: int64"
      ]
     },
     "execution_count": 371,
     "metadata": {},
     "output_type": "execute_result"
    }
   ],
   "source": [
    "data.drinks.value_counts()"
   ]
  },
  {
   "cell_type": "markdown",
   "id": "7bdc62df-ff64-479f-9c78-18a2fa9cd4a6",
   "metadata": {},
   "source": [
    "### Education"
   ]
  },
  {
   "cell_type": "code",
   "execution_count": 373,
   "id": "1a28a82b-1658-4abd-b9b3-26a2ab909e9b",
   "metadata": {},
   "outputs": [
    {
     "data": {
      "text/plain": [
       "education\n",
       "graduated from college/university    23959\n",
       "graduated from masters program        8961\n",
       "working on college/university         5712\n",
       "working on masters program            1683\n",
       "graduated from two-year college       1531\n",
       "graduated from high school            1428\n",
       "graduated from ph.d program           1272\n",
       "graduated from law school             1122\n",
       "working on two-year college           1074\n",
       "dropped out of college/university      995\n",
       "working on ph.d program                983\n",
       "college/university                     801\n",
       "graduated from space camp              657\n",
       "dropped out of space camp              523\n",
       "graduated from med school              446\n",
       "working on space camp                  445\n",
       "working on law school                  269\n",
       "two-year college                       222\n",
       "working on med school                  212\n",
       "dropped out of two-year college        191\n",
       "dropped out of masters program         140\n",
       "masters program                        136\n",
       "dropped out of ph.d program            127\n",
       "dropped out of high school             102\n",
       "high school                             96\n",
       "working on high school                  87\n",
       "space camp                              58\n",
       "ph.d program                            26\n",
       "law school                              19\n",
       "dropped out of law school               18\n",
       "dropped out of med school               12\n",
       "med school                              11\n",
       "Name: count, dtype: int64"
      ]
     },
     "execution_count": 373,
     "metadata": {},
     "output_type": "execute_result"
    }
   ],
   "source": [
    "data.education.value_counts()"
   ]
  },
  {
   "cell_type": "markdown",
   "id": "2b886b4d-af48-4fe3-976f-85fed02a62a2",
   "metadata": {},
   "source": [
    "- There are a lot of unclear variables in here, such as \"masters program\" vs \"working on masters program\" vs. \"graduated from masters program\".  \n",
    "- Also \"space camp\" seems like an odd variable to me, maybe people filles this in as a joke.   \n",
    "- I think that \"dropped out of ph.d program\" could be classifierd as \"graduated from masters program\".\n",
    "\n",
    "In this research, these variables will remained untouched. However, for a more thorough model, one could clean these a bit more."
   ]
  },
  {
   "cell_type": "markdown",
   "id": "da5561e5-4d1d-445b-bc9c-40cd278d39ea",
   "metadata": {},
   "source": [
    "### Religion"
   ]
  },
  {
   "cell_type": "code",
   "execution_count": 376,
   "id": "bae06081-e355-4fdd-bd5e-9b82d1b4377d",
   "metadata": {
    "scrolled": true
   },
   "outputs": [
    {
     "data": {
      "text/plain": [
       "religion\n",
       "agnosticism                                   2724\n",
       "other                                         2691\n",
       "agnosticism but not too serious about it      2636\n",
       "agnosticism and laughing about it             2496\n",
       "catholicism but not too serious about it      2318\n",
       "atheism                                       2175\n",
       "other and laughing about it                   2119\n",
       "atheism and laughing about it                 2074\n",
       "christianity                                  1957\n",
       "christianity but not too serious about it     1952\n",
       "other but not too serious about it            1554\n",
       "judaism but not too serious about it          1517\n",
       "atheism but not too serious about it          1318\n",
       "catholicism                                   1064\n",
       "christianity and somewhat serious about it     927\n",
       "atheism and somewhat serious about it          848\n",
       "other and somewhat serious about it            846\n",
       "catholicism and laughing about it              726\n",
       "judaism and laughing about it                  681\n",
       "buddhism but not too serious about it          650\n",
       "agnosticism and somewhat serious about it      642\n",
       "judaism                                        612\n",
       "christianity and very serious about it         578\n",
       "atheism and very serious about it              570\n",
       "catholicism and somewhat serious about it      548\n",
       "other and very serious about it                533\n",
       "buddhism and laughing about it                 466\n",
       "buddhism                                       403\n",
       "christianity and laughing about it             373\n",
       "buddhism and somewhat serious about it         359\n",
       "agnosticism and very serious about it          314\n",
       "judaism and somewhat serious about it          266\n",
       "hinduism but not too serious about it          227\n",
       "hinduism                                       107\n",
       "catholicism and very serious about it          102\n",
       "buddhism and very serious about it              70\n",
       "hinduism and somewhat serious about it          58\n",
       "islam                                           48\n",
       "hinduism and laughing about it                  44\n",
       "islam but not too serious about it              40\n",
       "judaism and very serious about it               22\n",
       "islam and somewhat serious about it             22\n",
       "islam and laughing about it                     16\n",
       "hinduism and very serious about it              14\n",
       "islam and very serious about it                 13\n",
       "Name: count, dtype: int64"
      ]
     },
     "execution_count": 376,
     "metadata": {},
     "output_type": "execute_result"
    }
   ],
   "source": [
    "data.religion.value_counts()"
   ]
  },
  {
   "cell_type": "markdown",
   "id": "67b4c6af-3bb3-45fa-885e-53c6eff0415c",
   "metadata": {},
   "source": [
    "This feature gives as many unique values and will not be included in the analysis."
   ]
  },
  {
   "cell_type": "markdown",
   "id": "1d1b5be2-376d-4a05-9237-bf738f73b1ed",
   "metadata": {},
   "source": [
    "### Essay columns"
   ]
  },
  {
   "cell_type": "code",
   "execution_count": 379,
   "id": "b63ae5ba-5e1f-44b0-bddc-c1f3c4cf49dc",
   "metadata": {},
   "outputs": [
    {
     "data": {
      "text/plain": [
       "54350"
      ]
     },
     "execution_count": 379,
     "metadata": {},
     "output_type": "execute_result"
    }
   ],
   "source": [
    "data.essay0.nunique()"
   ]
  },
  {
   "cell_type": "markdown",
   "id": "34a93250-3b9b-4ba9-a981-7c634667b666",
   "metadata": {},
   "source": [
    "All the values in the essay variables are amost all unique and will therfore not be included in the analysis."
   ]
  },
  {
   "cell_type": "markdown",
   "id": "1db95907-7935-4cd0-bc3a-1f94c87ff47b",
   "metadata": {},
   "source": [
    "# Data preperation"
   ]
  },
  {
   "cell_type": "markdown",
   "id": "b20362a6-a36c-477e-a908-5a12bfed991a",
   "metadata": {},
   "source": [
    "Calculating null-values per variable."
   ]
  },
  {
   "cell_type": "code",
   "execution_count": 383,
   "id": "1e366442-de1a-4365-841d-2df056d2017a",
   "metadata": {},
   "outputs": [
    {
     "name": "stdout",
     "output_type": "stream",
     "text": [
      "age: 100.00%\n",
      "body_type: 91.17%\n",
      "diet: 59.31%\n",
      "drinks: 95.02%\n",
      "drugs: 76.51%\n",
      "education: 88.94%\n",
      "income: 100.00%\n",
      "job: 86.32%\n",
      "offspring: 40.68%\n",
      "sex: 100.00%\n",
      "smokes: 90.81%\n"
     ]
    }
   ],
   "source": [
    "for col in data.columns:\n",
    "    if col in ['job', 'age', 'sex', 'income', 'smokes', 'offspring', 'body_type', 'diet','drugs', 'drinks','education']:\n",
    "        non_null_percentage = data[col].count()/59946\n",
    "        print(f\"{col}: {non_null_percentage:.2%}\")\n"
   ]
  },
  {
   "cell_type": "markdown",
   "id": "438c0029-b983-436c-ab4c-056b8bd1be5a",
   "metadata": {},
   "source": [
    "Diet and offspring will be removed from the features, because they have too many null-values. "
   ]
  },
  {
   "cell_type": "markdown",
   "id": "d2e3a54f-2c1d-42a8-8791-7e2fce8a9d55",
   "metadata": {},
   "source": [
    "# Preprocessing "
   ]
  },
  {
   "cell_type": "code",
   "execution_count": 386,
   "id": "36349c48-9167-42d5-8d0d-6d44e44efd75",
   "metadata": {},
   "outputs": [
    {
     "data": {
      "text/plain": [
       "11504"
      ]
     },
     "execution_count": 386,
     "metadata": {},
     "output_type": "execute_result"
    }
   ],
   "source": [
    "income_above_0 = data[data['income'] > 0 ]\n",
    "len(income_above_0)"
   ]
  },
  {
   "cell_type": "markdown",
   "id": "b9ef4ecc-f34f-4350-b633-0af1e0d99e64",
   "metadata": {},
   "source": [
    "With there 0 values removed, let's take a look at the newly formed bar chart."
   ]
  },
  {
   "cell_type": "code",
   "execution_count": 388,
   "id": "8fe0dc52-9455-46df-b793-9b45ad365511",
   "metadata": {
    "scrolled": true
   },
   "outputs": [
    {
     "data": {
      "image/png": "[encoded data removed]",
      "text/plain": [
       "<Figure size 640x480 with 1 Axes>"
      ]
     },
     "metadata": {},
     "output_type": "display_data"
    }
   ],
   "source": [
    "# Plot histogram\n",
    "income_above_0['income'].plot(kind='hist', bins=30, edgecolor='black')\n",
    "\n",
    "plt.title('Income Distribution')\n",
    "plt.xlabel('Income')\n",
    "plt.ylabel('Frequency')\n",
    "plt.show()"
   ]
  },
  {
   "cell_type": "code",
   "execution_count": 389,
   "id": "23ec0f1d-2115-4dea-a018-6c4c89b31769",
   "metadata": {},
   "outputs": [
    {
     "data": {
      "text/plain": [
       "count      11504.000000\n",
       "mean      104394.993046\n",
       "std       201433.528307\n",
       "min        20000.000000\n",
       "25%        20000.000000\n",
       "50%        50000.000000\n",
       "75%       100000.000000\n",
       "max      1000000.000000\n",
       "Name: income, dtype: float64"
      ]
     },
     "execution_count": 389,
     "metadata": {},
     "output_type": "execute_result"
    }
   ],
   "source": [
    "income_above_0['income'].describe()"
   ]
  },
  {
   "cell_type": "code",
   "execution_count": 390,
   "id": "bd515b95-8ca0-4b5a-93c1-7e2a1f689f00",
   "metadata": {},
   "outputs": [
    {
     "data": {
      "text/plain": [
       "521"
      ]
     },
     "execution_count": 390,
     "metadata": {},
     "output_type": "execute_result"
    }
   ],
   "source": [
    "income_above_0['income'][income_above_0['income'] == 1000000].count()"
   ]
  },
  {
   "cell_type": "code",
   "execution_count": 391,
   "id": "1db68b84-cb09-495d-a002-b088820174c4",
   "metadata": {},
   "outputs": [
    {
     "data": {
      "text/plain": [
       "0.045288595271210014"
      ]
     },
     "execution_count": 391,
     "metadata": {},
     "output_type": "execute_result"
    }
   ],
   "source": [
    "521/11504"
   ]
  },
  {
   "cell_type": "markdown",
   "id": "df632a45-c245-4a1b-863b-29c72d100868",
   "metadata": {},
   "source": [
    "This means that 4.5% would have an income of 1.000.000, while between 500.000 and 1.000.000 there were none. This seems rather unlikely, so these values will be removed. There were also very few values between 150,000 and up. To improve the model I have also removed these and capped the income at 100,000."
   ]
  },
  {
   "cell_type": "code",
   "execution_count": 393,
   "id": "a8c7ffb6-4204-43d4-8c77-16296aca5952",
   "metadata": {},
   "outputs": [
    {
     "data": {
      "image/png": "[encoded data removed]",
      "text/plain": [
       "<Figure size 640x480 with 1 Axes>"
      ]
     },
     "metadata": {},
     "output_type": "display_data"
    }
   ],
   "source": [
    "income_above_0_below_100k = income_above_0[income_above_0['income'] <= 100000]\n",
    "# Plot histogram\n",
    "income_above_0_below_100k['income'].plot(kind='hist', bins=30, edgecolor='black')\n",
    "\n",
    "plt.title('Income Distribution')\n",
    "plt.xlabel('Income')\n",
    "plt.ylabel('Frequency')\n",
    "plt.show()"
   ]
  },
  {
   "cell_type": "code",
   "execution_count": 394,
   "id": "2ef6bc10-4817-49e9-9f44-c87d253b9c25",
   "metadata": {},
   "outputs": [
    {
     "data": {
      "text/plain": [
       "count     10155.000000\n",
       "mean      51606.105367\n",
       "std       29033.245262\n",
       "min       20000.000000\n",
       "25%       20000.000000\n",
       "50%       50000.000000\n",
       "75%       80000.000000\n",
       "max      100000.000000\n",
       "Name: income, dtype: float64"
      ]
     },
     "execution_count": 394,
     "metadata": {},
     "output_type": "execute_result"
    }
   ],
   "source": [
    "income_above_0_below_100k['income'].describe()"
   ]
  },
  {
   "cell_type": "markdown",
   "id": "7f4460b2-3250-4d52-863b-452b05bfe284",
   "metadata": {},
   "source": [
    "## One-hot encoding"
   ]
  },
  {
   "cell_type": "code",
   "execution_count": 396,
   "id": "842e8ddf-d419-4bde-a82f-512dee435fff",
   "metadata": {},
   "outputs": [
    {
     "name": "stdout",
     "output_type": "stream",
     "text": [
      "10155 or 16.94% of orginal values remain after removing incomes \n",
      " 7375 or 12.3% of orginal values remain after removing null-values of selected columns \n"
     ]
    }
   ],
   "source": [
    "data_select = income_above_0_below_100k[['job', 'age', 'sex', 'income', 'smokes', 'body_type', 'drugs', 'drinks','education']]\n",
    "data_cleaned = data_select.dropna()\n",
    "\n",
    "data_one_hot_encoded = pd.get_dummies(\n",
    "    data_cleaned,\n",
    "    columns = ['job', 'sex', 'smokes', 'body_type', 'drugs','drinks', 'education'], \n",
    "    dtype = int\n",
    ")\n",
    "\n",
    "print(f\"{len(income_above_0_below_100k)} or {round(len(income_above_0_below_100k)/len(data)*100,2)}% of orginal values remain after removing incomes \")\n",
    "print(f\" {len(data_one_hot_encoded)} or {round(len(data_one_hot_encoded)/len(data)*100,2)}% of orginal values remain after removing null-values of selected columns \")"
   ]
  },
  {
   "cell_type": "markdown",
   "id": "77082706-5d00-46ac-b521-e514d6df84c1",
   "metadata": {},
   "source": [
    "Eventhough a lot of variables were removed due to null-values, 7375 records should still be sufficient to make a model."
   ]
  },
  {
   "cell_type": "markdown",
   "id": "6e4ce1b5-040f-43f7-901d-76d9ef86a62c",
   "metadata": {},
   "source": [
    "### Correlations between each variable and income"
   ]
  },
  {
   "cell_type": "markdown",
   "id": "bc8254c9-138b-43de-82e3-5d74edcc18f3",
   "metadata": {},
   "source": [
    "It can be seen that 'age', 'job_student' and 'education_working on college/university' have the strongest correlation with income. The latter two are one hot encoded variables from the original variable 'job'. These variables will have the strongest predicting power in the machine learning models."
   ]
  },
  {
   "cell_type": "code",
   "execution_count": 400,
   "id": "6713a450-ec0f-4350-a0ce-d617f1776301",
   "metadata": {
    "scrolled": true
   },
   "outputs": [
    {
     "name": "stdout",
     "output_type": "stream",
     "text": [
      "age                                            0.371337\n",
      "job_student                                    0.328826\n",
      "education_working on college/university        0.316385\n",
      "job_computer / hardware / software             0.277395\n",
      "education_graduated from masters program       0.261862\n",
      "job_science / tech / engineering               0.227512\n",
      "education_graduated from college/university    0.219512\n",
      "smokes_no                                      0.196594\n",
      "drugs_never                                    0.187773\n",
      "education_working on two-year college          0.176040\n",
      "drugs_sometimes                                0.166286\n",
      "job_executive / management                     0.156001\n",
      "job_other                                      0.153004\n",
      "sex_m                                          0.144315\n",
      "sex_f                                          0.144315\n",
      "smokes_yes                                     0.144043\n",
      "education_graduated from high school           0.141394\n",
      "body_type_athletic                             0.139298\n",
      "body_type_fit                                  0.122254\n",
      "job_banking / financial / real estate          0.117102\n",
      "Name: income, dtype: float64\n",
      "education_graduated from two-year college      0.025802\n",
      "job_rather not say                             0.023203\n",
      "education_law school                           0.019636\n",
      "education_dropped out of high school           0.019393\n",
      "education_ph.d program                         0.019204\n",
      "drinks_desperately                             0.018846\n",
      "job_construction / craftsmanship               0.017497\n",
      "education_graduated from space camp            0.017409\n",
      "education_graduated from med school            0.016806\n",
      "education_college/university                   0.016381\n",
      "education_dropped out of space camp            0.015448\n",
      "body_type_jacked                               0.013312\n",
      "job_transportation                             0.012903\n",
      "education_masters program                      0.011173\n",
      "education_dropped out of law school            0.007593\n",
      "education_dropped out of med school            0.006295\n",
      "job_entertainment / media                      0.005719\n",
      "education_dropped out of college/university    0.005304\n",
      "education_two-year college                     0.004738\n",
      "education_dropped out of masters program       0.001835\n",
      "Name: income, dtype: float64\n"
     ]
    }
   ],
   "source": [
    "# Calculate correlation matrix for all columns\n",
    "corr_matrix = data_one_hot_encoded.corr()\n",
    "\n",
    "# Extract correlations of all features with the target column\n",
    "corr_with_target = corr_matrix['income'].drop('income')  # drop self-correlation\n",
    "\n",
    "# Sort correlations by absolute value descending\n",
    "corr_with_target_sorted = corr_with_target.abs().sort_values(ascending=False)\n",
    "\n",
    "print(corr_with_target_sorted.head(20))\n",
    "print(corr_with_target_sorted.tail(20))"
   ]
  },
  {
   "cell_type": "markdown",
   "id": "b3722d17-ac9c-4a95-a7b9-4739cfce1c21",
   "metadata": {},
   "source": [
    "# Analysis "
   ]
  },
  {
   "cell_type": "markdown",
   "id": "441d7109-2ab7-4231-bef6-9bf95f9fe4d9",
   "metadata": {},
   "source": [
    "## Predicting income"
   ]
  },
  {
   "cell_type": "markdown",
   "id": "703e0d09-16b2-4340-96e3-753ce34cc90e",
   "metadata": {},
   "source": [
    "To predict one's income the following variables will be used: ''job', 'age', 'sex', 'income', 'smokes', 'body_type', 'drugs', 'drinks', 'education'. Although I expected that education, job, age and sex were the biggest predictors, the model became significant more accurate when I added the other variarables, so I decided to keep them in."
   ]
  },
  {
   "cell_type": "markdown",
   "id": "5a7b7895-4df6-4a90-add1-6d89677254af",
   "metadata": {},
   "source": [
    "### Using neural network regression"
   ]
  },
  {
   "cell_type": "markdown",
   "id": "ec91fb69-895a-45e9-be03-b2db624c2e56",
   "metadata": {},
   "source": [
    "Selecting columns from data set."
   ]
  },
  {
   "cell_type": "code",
   "execution_count": 406,
   "id": "51d9903e-8687-495e-8dc0-d4f4014dc454",
   "metadata": {
    "scrolled": true
   },
   "outputs": [],
   "source": [
    "X_col_list = [col for col in data_one_hot_encoded.columns if col != 'income']\n",
    "y_col_list = ['income']"
   ]
  },
  {
   "cell_type": "markdown",
   "id": "06acdb5f-dade-4cbc-b028-72122438002b",
   "metadata": {},
   "source": [
    "Scaling y values."
   ]
  },
  {
   "cell_type": "code",
   "execution_count": 408,
   "id": "1164db8a-d335-4283-9426-5425378eb036",
   "metadata": {},
   "outputs": [],
   "source": [
    "from sklearn.preprocessing import StandardScaler\n",
    "scaler = StandardScaler()\n",
    "X = data_one_hot_encoded[X_col_list]\n",
    "y_scaled = scaler.fit_transform(data_one_hot_encoded[y_col_list])"
   ]
  },
  {
   "cell_type": "markdown",
   "id": "3d799c52-0470-4a23-ae12-025ad4f49d3a",
   "metadata": {},
   "source": [
    "Creating tensors"
   ]
  },
  {
   "cell_type": "code",
   "execution_count": 410,
   "id": "99dbc6ef-5763-4bc6-aa3d-a47cef6cb689",
   "metadata": {},
   "outputs": [],
   "source": [
    "import torch\n",
    "X_tensor = torch.tensor(X.values, dtype = torch.float)\n",
    "y_tensor = torch.tensor(y_scaled, dtype = torch.float)"
   ]
  },
  {
   "cell_type": "markdown",
   "id": "54e3483c-e4ea-476f-9d09-f8e9f7949fa0",
   "metadata": {},
   "source": [
    "Splitting data."
   ]
  },
  {
   "cell_type": "code",
   "execution_count": 412,
   "id": "4aec9670-dc78-4b34-ae33-6920235d4fdf",
   "metadata": {},
   "outputs": [],
   "source": [
    "from sklearn.model_selection import train_test_split\n",
    "X_tensor_train, X_tensor_test, y_tensor_train, y_tensor_test = train_test_split(X_tensor, y_tensor, test_size = 0.2)"
   ]
  },
  {
   "cell_type": "markdown",
   "id": "bf081e28-e1cb-4654-b351-e9061739963b",
   "metadata": {},
   "source": [
    "Checking shapes of the X and y values. The amount of nodes in the model will be adjusted to this."
   ]
  },
  {
   "cell_type": "code",
   "execution_count": 414,
   "id": "262d2095-9cd1-475c-97c0-b7a106b75ce6",
   "metadata": {
    "scrolled": true
   },
   "outputs": [
    {
     "data": {
      "text/plain": [
       "torch.Size([5900, 81])"
      ]
     },
     "execution_count": 414,
     "metadata": {},
     "output_type": "execute_result"
    }
   ],
   "source": [
    "X_tensor_train.shape"
   ]
  },
  {
   "cell_type": "code",
   "execution_count": 415,
   "id": "2980e826-f447-4db7-813f-088fe3a4128b",
   "metadata": {},
   "outputs": [
    {
     "data": {
      "text/plain": [
       "torch.Size([1475, 81])"
      ]
     },
     "execution_count": 415,
     "metadata": {},
     "output_type": "execute_result"
    }
   ],
   "source": [
    "X_tensor_test.shape"
   ]
  },
  {
   "cell_type": "code",
   "execution_count": 416,
   "id": "4d9a7e9a-f021-4b59-b136-720438053fad",
   "metadata": {},
   "outputs": [
    {
     "data": {
      "text/plain": [
       "torch.Size([5900, 1])"
      ]
     },
     "execution_count": 416,
     "metadata": {},
     "output_type": "execute_result"
    }
   ],
   "source": [
    "y_tensor_train.shape"
   ]
  },
  {
   "cell_type": "code",
   "execution_count": 417,
   "id": "8f80867a-0080-46c3-a1f1-4ae2534c6377",
   "metadata": {
    "scrolled": true
   },
   "outputs": [
    {
     "data": {
      "text/plain": [
       "torch.Size([1475, 1])"
      ]
     },
     "execution_count": 417,
     "metadata": {},
     "output_type": "execute_result"
    }
   ],
   "source": [
    "y_tensor_test.shape"
   ]
  },
  {
   "cell_type": "markdown",
   "id": "3503efff-26f8-441f-9c18-0fbf511283d4",
   "metadata": {},
   "source": [
    "Since there are 81 feature and 1 target value (income), the model will start with 81 nodes and end with 1."
   ]
  },
  {
   "cell_type": "markdown",
   "id": "90904465-c323-4f7a-9088-a6a0b26188c6",
   "metadata": {},
   "source": [
    "Running the model, calculating the Mean Squared Error Loss."
   ]
  },
  {
   "cell_type": "code",
   "execution_count": 420,
   "id": "2927b245-eba9-48c7-8712-d6dcc1c34731",
   "metadata": {
    "scrolled": true
   },
   "outputs": [
    {
     "name": "stdout",
     "output_type": "stream",
     "text": [
      "Epoch [100/1000], MSELoss: 0.4672\n",
      "Epoch [200/1000], MSELoss: 0.4295\n",
      "Epoch [300/1000], MSELoss: 0.4205\n",
      "Epoch [400/1000], MSELoss: 0.4120\n",
      "Epoch [500/1000], MSELoss: 0.4135\n",
      "Epoch [600/1000], MSELoss: 0.4080\n",
      "Epoch [700/1000], MSELoss: 0.4071\n",
      "Epoch [800/1000], MSELoss: 0.4049\n",
      "Epoch [900/1000], MSELoss: 0.4089\n",
      "Epoch [1000/1000], MSELoss: 0.4128\n"
     ]
    }
   ],
   "source": [
    "#Using Mean Squared Error losss\n",
    "from torch import nn\n",
    "import torch.optim as optim\n",
    "from torch.nn import MSELoss\n",
    "from sklearn.metrics import accuracy_score, recall_score, precision_score\n",
    "import torch.optim as optim\n",
    "\n",
    "nn_regmodel = nn.Sequential(\n",
    "    nn.Linear(81,81),\n",
    "    nn.ReLU(),\n",
    "    nn.Linear(81,40),\n",
    "    nn.ReLU(),\n",
    "    nn.Linear(40,20),\n",
    "    nn.ReLU(),\n",
    "    nn.Linear(20,1)\n",
    ")\n",
    "\n",
    "loss = MSELoss()\n",
    "optimizer = optim.Adam(nn_regmodel.parameters(), lr= 0.05)\n",
    "\n",
    "num_epochs = 1000\n",
    "for epoch in range(num_epochs):\n",
    "    optimizer.zero_grad()\n",
    "    predictions = nn_regmodel(X_tensor_train)\n",
    "    MSE = loss(predictions, y_tensor_train)\n",
    "    \n",
    "\n",
    "    MSE.backward()\n",
    "    optimizer.step()\n",
    "\n",
    "     \n",
    "    if (epoch + 1) % 100 == 0:\n",
    "\n",
    "        print(f'Epoch [{epoch+1}/{num_epochs}], MSELoss: {MSE.item():.4f}')\n",
    "\n",
    "\n"
   ]
  },
  {
   "cell_type": "code",
   "execution_count": 421,
   "id": "9d04d821-cb0b-4190-922b-82ff70227eb1",
   "metadata": {},
   "outputs": [],
   "source": [
    "torch.save(nn_regmodel, 'nn_regression_y_scaled_cleaned')"
   ]
  },
  {
   "cell_type": "markdown",
   "id": "c29f7581-ba39-4fe5-b195-0fae9fbb2eca",
   "metadata": {},
   "source": [
    "Evaluating the model."
   ]
  },
  {
   "cell_type": "code",
   "execution_count": 423,
   "id": "841b58eb-bea3-4e3e-8ca7-fd6174662655",
   "metadata": {
    "scrolled": true
   },
   "outputs": [
    {
     "name": "stdout",
     "output_type": "stream",
     "text": [
      "tensor(0.5410)\n",
      "0.7302169773898018\n"
     ]
    }
   ],
   "source": [
    "#Evaluating\n",
    "nn_regression_y_scaled = torch.load('nn_regression_y_scaled_cleaned', weights_only=False)\n",
    "MAEloss = nn.L1Loss()\n",
    "MSEloss = MSELoss()\n",
    "\n",
    "#Calculating the Mean Average Error\n",
    "nn_regression_y_scaled.eval()\n",
    "with torch.no_grad():\n",
    "    predictions = nn_regression_y_scaled(X_tensor_test)\n",
    "    test_MAE = MAEloss(predictions, y_tensor_test)\n",
    "\n",
    "#Calculating the Mean Squared Error\n",
    "nn_regression_y_scaled.eval()\n",
    "with torch.no_grad():\n",
    "    predictions = nn_regression_y_scaled(X_tensor_test)\n",
    "    test_MSE = MSEloss(predictions, y_tensor_test)\n",
    "\n",
    "#Taking the root for interpretability\n",
    "import math\n",
    "test_RMSE = math.sqrt(test_MSE) \n",
    "\n",
    "print(test_MAE)\n",
    "print(test_RMSE)"
   ]
  },
  {
   "cell_type": "code",
   "execution_count": 424,
   "id": "52666fa1-e89d-4f0f-b65a-6b00df3d9cc9",
   "metadata": {},
   "outputs": [
    {
     "name": "stdout",
     "output_type": "stream",
     "text": [
      "MAE (original scale): 20151.34\n",
      "RMSE (original scale): 28395.20\n"
     ]
    }
   ],
   "source": [
    "from sklearn.preprocessing import StandardScaler\n",
    "import numpy as np\n",
    "\n",
    "# Suppose y is a 1D NumPy array or Series\n",
    "y = data_one_hot_encoded [y_col_list].values.reshape(-1, 1)  # ensure it's 2D\n",
    "\n",
    "scaler_y = StandardScaler()\n",
    "y_scaled = scaler_y.fit_transform(y)  # now scaler_y is fitted!\n",
    "\n",
    "# Now this will work:\n",
    "mae_original = 0.6947 * scaler_y.scale_[0]\n",
    "rmse_original = 0.9789 * scaler_y.scale_[0]\n",
    "\n",
    "print(f\"MAE (original scale): {mae_original:.2f}\")\n",
    "print(f\"RMSE (original scale): {rmse_original:.2f}\")\n",
    "\n"
   ]
  },
  {
   "cell_type": "markdown",
   "id": "e415cedc-7bd3-4001-b398-312134ed5533",
   "metadata": {},
   "source": [
    "A mean average error of 20,151.34 and a root mean squared error of 28,385 with a data set with the minimum of 20,000 and a maximum of 100,000 isn't that good. I wonder how a simpler multiple linear regression would do. "
   ]
  },
  {
   "cell_type": "markdown",
   "id": "1bb6c1ed-de54-4063-893b-329db1770a8d",
   "metadata": {},
   "source": [
    "### Predicting income by multiple linear regression"
   ]
  },
  {
   "cell_type": "code",
   "execution_count": 427,
   "id": "0f7f6774-5430-41bc-b9bb-f5747b5e2b2c",
   "metadata": {
    "scrolled": true
   },
   "outputs": [
    {
     "name": "stdout",
     "output_type": "stream",
     "text": [
      "0.51\n",
      "0.54\n"
     ]
    }
   ],
   "source": [
    "from sklearn.linear_model import LinearRegression\n",
    "from sklearn.preprocessing import PolynomialFeatures\n",
    "\n",
    "X = data_one_hot_encoded[X_col_list]\n",
    "y = data_one_hot_encoded[y_col_list]\n",
    "\n",
    "\n",
    "scaler = StandardScaler()\n",
    "X_scaled = scaler.fit_transform(X)\n",
    "\n",
    "X_train, X_test, y_train, y_test = train_test_split(X_scaled, y, test_size = 0.2, random_state = 5)\n",
    "lm = LinearRegression()\n",
    "\n",
    "lm.fit(X_train, y_train)\n",
    "\n",
    "print(round(lm.score(X_train, y_train),2))\n",
    "print(round(lm.score(X_test, y_test),2))"
   ]
  },
  {
   "cell_type": "markdown",
   "id": "44837ac6-5e62-4608-a6a8-3ad61f269ebd",
   "metadata": {},
   "source": [
    "With an R*2 of 0.54, expaining 54% of the variance, this model would be considered a moderately good, usable model."
   ]
  },
  {
   "cell_type": "code",
   "execution_count": 429,
   "id": "9fb0c4fe-480c-4caa-a81d-293ddde1ea56",
   "metadata": {},
   "outputs": [
    {
     "name": "stdout",
     "output_type": "stream",
     "text": [
      "15796.136864406779\n",
      "1.1908397565848144e+16\n",
      "0.5213375507899686\n",
      "-2.4676263759976967e+26\n"
     ]
    }
   ],
   "source": [
    "from sklearn.metrics import mean_squared_error\n",
    "from sklearn.metrics import mean_absolute_error\n",
    "\n",
    "\n",
    "X = data_one_hot_encoded [X_col_list]\n",
    "y = data_one_hot_encoded [y_col_list]\n",
    "\n",
    "#Standardize data\n",
    "scaler = StandardScaler()\n",
    "X_scaled = scaler.fit_transform(X)\n",
    "\n",
    "#Split data\n",
    "X_train, X_test, y_train, y_test = train_test_split(X_scaled, y, test_size = 0.2)\n",
    "\n",
    "#Train model\n",
    "lm = LinearRegression()\n",
    "lm.fit(X_train, y_train)\n",
    "\n",
    "#Make predictions on train data\n",
    "predictions = lm.predict(X_train)\n",
    "\n",
    "#Calculate loss on train data\n",
    "loss_train = mean_absolute_error(y_train, predictions)\n",
    "\n",
    "#Make predictions on test data\n",
    "predictions = lm.predict(X_test)\n",
    "\n",
    "#Calculate loss on test data\n",
    "loss_test = mean_absolute_error(y_test, predictions)\n",
    "\n",
    "#print results\n",
    "print(loss_train)\n",
    "print(loss_test)\n",
    "print(lm.score(X_train, y_train))\n",
    "print(lm.score(X_test, y_test))"
   ]
  },
  {
   "cell_type": "markdown",
   "id": "9ef038d5-8418-4ffe-b801-ab470e7e8f23",
   "metadata": {},
   "source": [
    "This model has an average loss of 16,426.25, which is not great, but already lot better than the neural network.\n"
   ]
  },
  {
   "cell_type": "markdown",
   "id": "300a05b5-856c-4305-be21-7656752c4207",
   "metadata": {},
   "source": [
    "## Predicting smokers and non-smokers "
   ]
  },
  {
   "cell_type": "markdown",
   "id": "1c222bb0-e40d-4eb7-b12b-40953f42443b",
   "metadata": {},
   "source": [
    "### Label encoding and one-hot encoding"
   ]
  },
  {
   "cell_type": "code",
   "execution_count": 433,
   "id": "760c3912-8593-4f87-9a5c-82fea80e69fb",
   "metadata": {},
   "outputs": [
    {
     "data": {
      "text/plain": [
       "smokes\n",
       "no                0.734259\n",
       "sometimes         0.090021\n",
       "when drinking     0.070165\n",
       "yes               0.063786\n",
       "trying to quit    0.041770\n",
       "Name: proportion, dtype: float64"
      ]
     },
     "execution_count": 433,
     "metadata": {},
     "output_type": "execute_result"
    }
   ],
   "source": [
    "data_select['smokes'].value_counts(normalize=True)"
   ]
  },
  {
   "cell_type": "markdown",
   "id": "f9860aae-d863-4ffd-adf4-ab9547806986",
   "metadata": {},
   "source": [
    "I assign all the smoker values, from 'yes', 'sometimes', 'when drinking' and 'trying to quit' to '1' and the value 'no' to '0'."
   ]
  },
  {
   "cell_type": "code",
   "execution_count": 435,
   "id": "1dc8ea14-2498-4d20-b0c9-f8afc44a6783",
   "metadata": {},
   "outputs": [
    {
     "name": "stdout",
     "output_type": "stream",
     "text": [
      "<class 'pandas.core.frame.DataFrame'>\n",
      "RangeIndex: 59946 entries, 0 to 59945\n",
      "Data columns (total 31 columns):\n",
      " #   Column       Non-Null Count  Dtype  \n",
      "---  ------       --------------  -----  \n",
      " 0   age          59946 non-null  int64  \n",
      " 1   body_type    54650 non-null  object \n",
      " 2   diet         35551 non-null  object \n",
      " 3   drinks       56961 non-null  object \n",
      " 4   drugs        45866 non-null  object \n",
      " 5   education    53318 non-null  object \n",
      " 6   essay0       54458 non-null  object \n",
      " 7   essay1       52374 non-null  object \n",
      " 8   essay2       50308 non-null  object \n",
      " 9   essay3       48470 non-null  object \n",
      " 10  essay4       49409 non-null  object \n",
      " 11  essay5       49096 non-null  object \n",
      " 12  essay6       46175 non-null  object \n",
      " 13  essay7       47495 non-null  object \n",
      " 14  essay8       40721 non-null  object \n",
      " 15  essay9       47343 non-null  object \n",
      " 16  ethnicity    54266 non-null  object \n",
      " 17  height       59943 non-null  float64\n",
      " 18  income       59946 non-null  int64  \n",
      " 19  job          51748 non-null  object \n",
      " 20  last_online  59946 non-null  object \n",
      " 21  location     59946 non-null  object \n",
      " 22  offspring    24385 non-null  object \n",
      " 23  orientation  59946 non-null  object \n",
      " 24  pets         40025 non-null  object \n",
      " 25  religion     39720 non-null  object \n",
      " 26  sex          59946 non-null  object \n",
      " 27  sign         48890 non-null  object \n",
      " 28  smokes       54434 non-null  object \n",
      " 29  speaks       59896 non-null  object \n",
      " 30  status       59946 non-null  object \n",
      "dtypes: float64(1), int64(2), object(28)\n",
      "memory usage: 14.2+ MB\n"
     ]
    }
   ],
   "source": [
    "data.info()"
   ]
  },
  {
   "cell_type": "code",
   "execution_count": 587,
   "id": "2144b4d5-8bf4-4398-a257-b200ffa21bee",
   "metadata": {
    "scrolled": true
   },
   "outputs": [
    {
     "name": "stderr",
     "output_type": "stream",
     "text": [
      "C:\\Users\\Frank\\AppData\\Local\\Temp\\ipykernel_11300\\1301782267.py:10: FutureWarning: Downcasting behavior in `replace` is deprecated and will be removed in a future version. To retain the old behavior, explicitly call `result.infer_objects(copy=False)`. To opt-in to the future behavior, set `pd.set_option('future.no_silent_downcasting', True)`\n",
      "  smoke_one_hot_encoded['smokes'] = smoke_one_hot_encoded['smokes'].replace({'yes': 1, 'trying to quit':1, 'sometimes': 1, 'when drinking': 1, 'no':0})\n"
     ]
    }
   ],
   "source": [
    "smoke_data_select = income_above_0_below_100k[['job', 'age', 'sex', 'income', 'smokes', 'body_type','drugs', 'drinks','education']]\n",
    "\n",
    "smoke_data_cleaned = smoke_data_select.dropna()\n",
    "\n",
    "smoke_one_hot_encoded = pd.get_dummies(\n",
    "    smoke_data_cleaned,\n",
    "    columns = ['job', 'sex', 'body_type', 'drugs', 'drinks','education'], # I could manually code the values for drink and drug frequency\n",
    "    dtype = int\n",
    ")\n",
    "smoke_one_hot_encoded['smokes'] = smoke_one_hot_encoded['smokes'].replace({'yes': 1, 'trying to quit':1, 'sometimes': 1, 'when drinking': 1, 'no':0})"
   ]
  },
  {
   "cell_type": "code",
   "execution_count": 437,
   "id": "c647b1b6-40ba-455c-bd7f-7047740624e1",
   "metadata": {
    "scrolled": true
   },
   "outputs": [
    {
     "data": {
      "text/plain": [
       "smokes\n",
       "0    0.749153\n",
       "1    0.250847\n",
       "Name: proportion, dtype: float64"
      ]
     },
     "execution_count": 437,
     "metadata": {},
     "output_type": "execute_result"
    }
   ],
   "source": [
    "smoke_one_hot_encoded['smokes'].value_counts(normalize=True)"
   ]
  },
  {
   "cell_type": "markdown",
   "id": "4be1b916-0efc-4d95-8a3c-9b9df5625d0e",
   "metadata": {},
   "source": [
    "### Neural network"
   ]
  },
  {
   "cell_type": "markdown",
   "id": "1a7bceb3-74e3-4522-80e3-deeccd9002e8",
   "metadata": {},
   "source": [
    "#### Selecting columns, splitting data."
   ]
  },
  {
   "cell_type": "code",
   "execution_count": 440,
   "id": "75db54c9-601f-480b-bd9a-105aaf837e79",
   "metadata": {},
   "outputs": [],
   "source": [
    "X_col_list = [col for col in smoke_one_hot_encoded.columns if col != 'smokes']\n",
    "y_col_list = ['smokes']\n",
    "\n",
    "nn_bin_X = smoke_one_hot_encoded[X_col_list]\n",
    "nn_bin_y= smoke_one_hot_encoded[y_col_list]"
   ]
  },
  {
   "cell_type": "code",
   "execution_count": 441,
   "id": "f9ecb678-ff07-4db5-8106-eddbc87f59b3",
   "metadata": {},
   "outputs": [],
   "source": [
    "X_tensor = torch.tensor(nn_bin_X.values, dtype = torch.float)\n",
    "y_tensor = torch.tensor(nn_bin_y.values, dtype = torch.float)"
   ]
  },
  {
   "cell_type": "code",
   "execution_count": 442,
   "id": "e2c67a85-b134-4f40-ae6e-bdd8adcbc25b",
   "metadata": {},
   "outputs": [],
   "source": [
    "nn_bin_X_train, nn_bin_X_test, nn_bin_y_train, nn_bin_y_test = train_test_split(X_tensor, y_tensor, test_size = 0.2)"
   ]
  },
  {
   "cell_type": "markdown",
   "id": "f5080c2c-a0e9-47a0-b41e-c6667dc3f000",
   "metadata": {},
   "source": [
    "#### Checking the shape to determine the amount of nodes per layer."
   ]
  },
  {
   "cell_type": "code",
   "execution_count": 444,
   "id": "cc8acc62-ad22-403a-aec8-812105027127",
   "metadata": {},
   "outputs": [
    {
     "data": {
      "text/plain": [
       "(7375, 1)"
      ]
     },
     "execution_count": 444,
     "metadata": {},
     "output_type": "execute_result"
    }
   ],
   "source": [
    "nn_bin_y.shape"
   ]
  },
  {
   "cell_type": "code",
   "execution_count": 445,
   "id": "d7bc338f-7f94-422d-b596-018c7d17da4e",
   "metadata": {},
   "outputs": [
    {
     "data": {
      "text/plain": [
       "(7375, 77)"
      ]
     },
     "execution_count": 445,
     "metadata": {},
     "output_type": "execute_result"
    }
   ],
   "source": [
    "nn_bin_X.shape"
   ]
  },
  {
   "cell_type": "markdown",
   "id": "95f2ae7f-28cb-4405-8351-603298181383",
   "metadata": {},
   "source": [
    "I will be using weighted classes, to prevent the model from only predicting non-smokers (which is 73,4%)."
   ]
  },
  {
   "cell_type": "code",
   "execution_count": 447,
   "id": "7be6bca6-e22e-4fe3-9af5-36a3dcc93f44",
   "metadata": {
    "scrolled": true
   },
   "outputs": [
    {
     "name": "stdout",
     "output_type": "stream",
     "text": [
      "Epoch 100/5000, Loss: 14.5870\n",
      "Epoch 200/5000, Loss: 4.9060\n",
      "Epoch 300/5000, Loss: 13.1305\n",
      "Epoch 400/5000, Loss: 11.0246\n",
      "Epoch 500/5000, Loss: 5.2219\n",
      "Epoch 600/5000, Loss: 12.0542\n",
      "Epoch 700/5000, Loss: 7.9760\n",
      "Epoch 800/5000, Loss: 5.0625\n",
      "Epoch 900/5000, Loss: 10.9936\n",
      "Epoch 1000/5000, Loss: 5.8997\n",
      "Epoch 1100/5000, Loss: 4.7811\n",
      "Epoch 1200/5000, Loss: 9.9498\n",
      "Epoch 1300/5000, Loss: 4.4849\n",
      "Epoch 1400/5000, Loss: 4.4468\n",
      "Epoch 1500/5000, Loss: 9.0245\n",
      "Epoch 1600/5000, Loss: 3.5243\n",
      "Epoch 1700/5000, Loss: 4.0478\n",
      "Epoch 1800/5000, Loss: 8.1344\n",
      "Epoch 1900/5000, Loss: 2.9290\n",
      "Epoch 2000/5000, Loss: 3.5869\n",
      "Epoch 2100/5000, Loss: 1.0408\n",
      "Epoch 2200/5000, Loss: 1.3843\n",
      "Epoch 2300/5000, Loss: 1.2185\n",
      "Epoch 2400/5000, Loss: 1.2478\n",
      "Epoch 2500/5000, Loss: 1.1490\n",
      "Epoch 2600/5000, Loss: 1.1261\n",
      "Epoch 2700/5000, Loss: 1.0454\n",
      "Epoch 2800/5000, Loss: 1.0274\n",
      "Epoch 2900/5000, Loss: 0.9785\n",
      "Epoch 3000/5000, Loss: 0.9567\n",
      "Epoch 3100/5000, Loss: 0.9247\n",
      "Epoch 3200/5000, Loss: 0.9115\n",
      "Epoch 3300/5000, Loss: 0.8984\n",
      "Epoch 3400/5000, Loss: 0.8888\n",
      "Epoch 3500/5000, Loss: 0.8640\n",
      "Epoch 3600/5000, Loss: 0.8586\n",
      "Epoch 3700/5000, Loss: 0.8379\n",
      "Epoch 3800/5000, Loss: 0.8369\n",
      "Epoch 3900/5000, Loss: 0.8190\n",
      "Epoch 4000/5000, Loss: 0.8207\n",
      "Epoch 4100/5000, Loss: 0.7890\n",
      "Epoch 4200/5000, Loss: 0.8012\n",
      "Epoch 4300/5000, Loss: 0.7887\n",
      "Epoch 4400/5000, Loss: 0.7928\n",
      "Epoch 4500/5000, Loss: 0.7827\n",
      "Epoch 4600/5000, Loss: 0.7853\n",
      "Epoch 4700/5000, Loss: 0.7791\n",
      "Epoch 4800/5000, Loss: 0.7789\n",
      "Epoch 4900/5000, Loss: 0.7776\n",
      "Epoch 5000/5000, Loss: 0.7767\n",
      "Predicted Positives: 5900.0\n",
      "Actual Positives: 1477.0\n"
     ]
    }
   ],
   "source": [
    "import torch\n",
    "import torch.nn as nn\n",
    "import torch.optim as optim\n",
    "from sklearn.utils.class_weight import compute_class_weight\n",
    "import numpy as np\n",
    "\n",
    "X = nn_bin_X_train\n",
    "y = nn_bin_y_train\n",
    "\n",
    "# Define the model\n",
    "nn_bin_classifier = nn.Sequential(\n",
    "    nn.Linear(77, 77),\n",
    "    nn.ReLU(),\n",
    "    nn.Linear(77, 38),\n",
    "    nn.ReLU(),\n",
    "    nn.Linear(38, 1)\n",
    ")\n",
    "\n",
    "# Compute correct class weights\n",
    "class_weights = compute_class_weight(\n",
    "    class_weight='balanced',\n",
    "    classes=np.array([0.0, 1.0]),\n",
    "    y=y.numpy().ravel()\n",
    ")\n",
    "pos_weight = torch.tensor([class_weights[1]], dtype=torch.float32)\n",
    "\n",
    "# Define loss with correct pos_weight\n",
    "loss_fn = nn.BCEWithLogitsLoss(pos_weight=pos_weight)\n",
    "\n",
    "# Use Adam optimizer\n",
    "optimizer = optim.Adam(nn_bin_classifier.parameters(), lr=0.001)\n",
    "\n",
    "# Training loop\n",
    "num_epochs = 5000\n",
    "for epoch in range(num_epochs):\n",
    "    optimizer.zero_grad()\n",
    "    logits = nn_bin_classifier(X).squeeze()\n",
    "    loss = loss_fn(logits, y.squeeze())\n",
    "    loss.backward()\n",
    "    optimizer.step()\n",
    "\n",
    "    if (epoch + 1) % 100 == 0:\n",
    "        print(f\"Epoch {epoch+1}/{num_epochs}, Loss: {loss.item():.4f}\")\n",
    "\n",
    "# Check predictions after training\n",
    "with torch.no_grad():\n",
    "    probs = torch.sigmoid(nn_bin_classifier(X).squeeze())\n",
    "    preds = (probs >= 0.5).float()\n",
    "    print(f\"Predicted Positives: {preds.sum().item()}\")\n",
    "    print(f\"Actual Positives: {y.sum().item()}\")\n"
   ]
  },
  {
   "cell_type": "markdown",
   "id": "252a003c-5bdc-497a-95eb-1da548a4a0da",
   "metadata": {},
   "source": [
    "#### Saving the model "
   ]
  },
  {
   "cell_type": "markdown",
   "id": "b3084db3-93b6-482b-a01c-d030e7d211c7",
   "metadata": {},
   "source": [
    "Saving the model, so I don't have to run it every time when I want to run all the cels above the selected one."
   ]
  },
  {
   "cell_type": "code",
   "execution_count": 450,
   "id": "52055743-8684-49db-bc92-1d77030ff59b",
   "metadata": {},
   "outputs": [],
   "source": [
    "#torch.save(nn_bin_classifier, 'nn_bin_classifier')"
   ]
  },
  {
   "cell_type": "code",
   "execution_count": 451,
   "id": "2abd93c1-2802-416c-b089-6eb1cbd7b6db",
   "metadata": {},
   "outputs": [],
   "source": [
    "### Evaluating."
   ]
  },
  {
   "cell_type": "code",
   "execution_count": 452,
   "id": "dbcd45c1-2658-45fd-a2f8-096190aa10e5",
   "metadata": {},
   "outputs": [],
   "source": [
    "# Set model to eval mode\n",
    "nn_bin_classifier.eval()\n",
    "\n",
    "with torch.no_grad():\n",
    "    y_logits = nn_bin_classifier(nn_bin_X_test)\n",
    "    y_probs = torch.sigmoid(y_logits)              # Convert logits to probabilities\n",
    "    y_pred = (y_probs >= 0.5).float()               # Convert to binary labels (0 or 1)\n",
    "\n",
    "\n",
    "mask = ~torch.isnan(nn_bin_y_test).squeeze()\n",
    "nn_bin_y_test = nn_bin_y_test[mask]\n",
    "\n",
    "y_true = nn_bin_y_test.cpu().numpy()\n",
    "y_pred = y_pred.cpu().numpy()"
   ]
  },
  {
   "cell_type": "code",
   "execution_count": 453,
   "id": "32f81d7f-c156-47b8-a745-7e161714ffda",
   "metadata": {
    "scrolled": true
   },
   "outputs": [
    {
     "name": "stdout",
     "output_type": "stream",
     "text": [
      "Accuracy:  0.253\n",
      "Precision: 0.253\n",
      "Recall:    1.000\n",
      "F1 Score:  0.404\n"
     ]
    }
   ],
   "source": [
    "from sklearn.metrics import accuracy_score, precision_score, recall_score, f1_score, confusion_matrix\n",
    "\n",
    "acc = accuracy_score(y_true, y_pred)\n",
    "prec = precision_score(y_true, y_pred, zero_division=0)\n",
    "rec = recall_score(y_true, y_pred)\n",
    "f1 = f1_score(y_true, y_pred)\n",
    "\n",
    "print(f\"Accuracy:  {acc:.3f}\")\n",
    "print(f\"Precision: {prec:.3f}\")\n",
    "print(f\"Recall:    {rec:.3f}\")\n",
    "print(f\"F1 Score:  {f1:.3f}\")\n"
   ]
  },
  {
   "cell_type": "markdown",
   "id": "5b662245-d297-4fd1-912f-65ea3e423819",
   "metadata": {},
   "source": [
    "I have used weighted classes, to prevent the model from only predicting non-smokers (which is 73,4%). How it's accuracy is still 73,4%, but the F1 score is a lot higher (0.53 instead of 0). \n",
    "Also I have tweaked the learning rate to get as much of a accuracy and a F1 score as possible. The best learning rate was '0.005', as can be seen below."
   ]
  },
  {
   "cell_type": "markdown",
   "id": "b6e56a3d-93d4-43d9-92d2-8e175d6a7783",
   "metadata": {},
   "source": [
    "lr=0.0005  \n",
    "Accuracy:  0.744  \n",
    "Precision: 0.518    \n",
    "Recall:    0.188  \n",
    "F1 Score:  0.276  \n",
    "\n",
    "lr=0.001  \n",
    "Accuracy:  0.742   \n",
    "Precision: 0.504  \n",
    "Recall:    0.351  \n",
    "F1 Score:  0.414  \n",
    "\n",
    "lr = 0.005   --------> best accuracy and F1 combination.  \n",
    "Accuracy:  0.743  \n",
    "Precision: 0.503  \n",
    "Recall:    0.568  \n",
    "F1 Score:  0.534 \n",
    "\n",
    "lr=0.01    \n",
    "Accuracy:  0.742  \n",
    "Precision: 0.501    \n",
    "Recall:    0.555  \n",
    "F1 Score:  0.527  \n",
    "\n",
    "\n",
    "\n",
    "\n"
   ]
  },
  {
   "cell_type": "markdown",
   "id": "965c59fe-7479-401c-9e07-d4d6cca7a32e",
   "metadata": {},
   "source": [
    "### Support Vector Machine"
   ]
  },
  {
   "cell_type": "code",
   "execution_count": 457,
   "id": "cb5c4acf-a877-4ca5-9e3b-cbf5cb5ca30e",
   "metadata": {},
   "outputs": [],
   "source": [
    "from sklearn.svm import SVC"
   ]
  },
  {
   "cell_type": "code",
   "execution_count": 458,
   "id": "8cd632c7-7b96-43f7-b3bb-5f271462d71d",
   "metadata": {
    "scrolled": true
   },
   "outputs": [
    {
     "name": "stdout",
     "output_type": "stream",
     "text": [
      "(5531, 77) (1844, 77) (5531, 1) (1844, 1)\n"
     ]
    }
   ],
   "source": [
    "X_train, X_val, y_train, y_val = train_test_split(nn_bin_X, nn_bin_y)\n",
    "print(X_train.shape,X_val.shape,y_train.shape,y_val.shape)"
   ]
  },
  {
   "cell_type": "code",
   "execution_count": 459,
   "id": "5f140fbb-2c10-4ffa-b781-2e354205043d",
   "metadata": {},
   "outputs": [
    {
     "data": {
      "text/html": [
       "<style>#sk-container-id-2 {\n",
       "  /* Definition of color scheme common for light and dark mode */\n",
       "  --sklearn-color-text: black;\n",
       "  --sklearn-color-line: gray;\n",
       "  /* Definition of color scheme for unfitted estimators */\n",
       "  --sklearn-color-unfitted-level-0: #fff5e6;\n",
       "  --sklearn-color-unfitted-level-1: #f6e4d2;\n",
       "  --sklearn-color-unfitted-level-2: #ffe0b3;\n",
       "  --sklearn-color-unfitted-level-3: chocolate;\n",
       "  /* Definition of color scheme for fitted estimators */\n",
       "  --sklearn-color-fitted-level-0: #f0f8ff;\n",
       "  --sklearn-color-fitted-level-1: #d4ebff;\n",
       "  --sklearn-color-fitted-level-2: #b3dbfd;\n",
       "  --sklearn-color-fitted-level-3: cornflowerblue;\n",
       "\n",
       "  /* Specific color for light theme */\n",
       "  --sklearn-color-text-on-default-background: var(--sg-text-color, var(--theme-code-foreground, var(--jp-content-font-color1, black)));\n",
       "  --sklearn-color-background: var(--sg-background-color, var(--theme-background, var(--jp-layout-color0, white)));\n",
       "  --sklearn-color-border-box: var(--sg-text-color, var(--theme-code-foreground, var(--jp-content-font-color1, black)));\n",
       "  --sklearn-color-icon: #696969;\n",
       "\n",
       "  @media (prefers-color-scheme: dark) {\n",
       "    /* Redefinition of color scheme for dark theme */\n",
       "    --sklearn-color-text-on-default-background: var(--sg-text-color, var(--theme-code-foreground, var(--jp-content-font-color1, white)));\n",
       "    --sklearn-color-background: var(--sg-background-color, var(--theme-background, var(--jp-layout-color0, #111)));\n",
       "    --sklearn-color-border-box: var(--sg-text-color, var(--theme-code-foreground, var(--jp-content-font-color1, white)));\n",
       "    --sklearn-color-icon: #878787;\n",
       "  }\n",
       "}\n",
       "\n",
       "#sk-container-id-2 {\n",
       "  color: var(--sklearn-color-text);\n",
       "}\n",
       "\n",
       "#sk-container-id-2 pre {\n",
       "  padding: 0;\n",
       "}\n",
       "\n",
       "#sk-container-id-2 input.sk-hidden--visually {\n",
       "  border: 0;\n",
       "  clip: rect(1px 1px 1px 1px);\n",
       "  clip: rect(1px, 1px, 1px, 1px);\n",
       "  height: 1px;\n",
       "  margin: -1px;\n",
       "  overflow: hidden;\n",
       "  padding: 0;\n",
       "  position: absolute;\n",
       "  width: 1px;\n",
       "}\n",
       "\n",
       "#sk-container-id-2 div.sk-dashed-wrapped {\n",
       "  border: 1px dashed var(--sklearn-color-line);\n",
       "  margin: 0 0.4em 0.5em 0.4em;\n",
       "  box-sizing: border-box;\n",
       "  padding-bottom: 0.4em;\n",
       "  background-color: var(--sklearn-color-background);\n",
       "}\n",
       "\n",
       "#sk-container-id-2 div.sk-container {\n",
       "  /* jupyter's `normalize.less` sets `[hidden] { display: none; }`\n",
       "     but bootstrap.min.css set `[hidden] { display: none !important; }`\n",
       "     so we also need the `!important` here to be able to override the\n",
       "     default hidden behavior on the sphinx rendered scikit-learn.org.\n",
       "     See: https://github.com/scikit-learn/scikit-learn/issues/21755 */\n",
       "  display: inline-block !important;\n",
       "  position: relative;\n",
       "}\n",
       "\n",
       "#sk-container-id-2 div.sk-text-repr-fallback {\n",
       "  display: none;\n",
       "}\n",
       "\n",
       "div.sk-parallel-item,\n",
       "div.sk-serial,\n",
       "div.sk-item {\n",
       "  /* draw centered vertical line to link estimators */\n",
       "  background-image: linear-gradient(var(--sklearn-color-text-on-default-background), var(--sklearn-color-text-on-default-background));\n",
       "  background-size: 2px 100%;\n",
       "  background-repeat: no-repeat;\n",
       "  background-position: center center;\n",
       "}\n",
       "\n",
       "/* Parallel-specific style estimator block */\n",
       "\n",
       "#sk-container-id-2 div.sk-parallel-item::after {\n",
       "  content: \"\";\n",
       "  width: 100%;\n",
       "  border-bottom: 2px solid var(--sklearn-color-text-on-default-background);\n",
       "  flex-grow: 1;\n",
       "}\n",
       "\n",
       "#sk-container-id-2 div.sk-parallel {\n",
       "  display: flex;\n",
       "  align-items: stretch;\n",
       "  justify-content: center;\n",
       "  background-color: var(--sklearn-color-background);\n",
       "  position: relative;\n",
       "}\n",
       "\n",
       "#sk-container-id-2 div.sk-parallel-item {\n",
       "  display: flex;\n",
       "  flex-direction: column;\n",
       "}\n",
       "\n",
       "#sk-container-id-2 div.sk-parallel-item:first-child::after {\n",
       "  align-self: flex-end;\n",
       "  width: 50%;\n",
       "}\n",
       "\n",
       "#sk-container-id-2 div.sk-parallel-item:last-child::after {\n",
       "  align-self: flex-start;\n",
       "  width: 50%;\n",
       "}\n",
       "\n",
       "#sk-container-id-2 div.sk-parallel-item:only-child::after {\n",
       "  width: 0;\n",
       "}\n",
       "\n",
       "/* Serial-specific style estimator block */\n",
       "\n",
       "#sk-container-id-2 div.sk-serial {\n",
       "  display: flex;\n",
       "  flex-direction: column;\n",
       "  align-items: center;\n",
       "  background-color: var(--sklearn-color-background);\n",
       "  padding-right: 1em;\n",
       "  padding-left: 1em;\n",
       "}\n",
       "\n",
       "\n",
       "/* Toggleable style: style used for estimator/Pipeline/ColumnTransformer box that is\n",
       "clickable and can be expanded/collapsed.\n",
       "- Pipeline and ColumnTransformer use this feature and define the default style\n",
       "- Estimators will overwrite some part of the style using the `sk-estimator` class\n",
       "*/\n",
       "\n",
       "/* Pipeline and ColumnTransformer style (default) */\n",
       "\n",
       "#sk-container-id-2 div.sk-toggleable {\n",
       "  /* Default theme specific background. It is overwritten whether we have a\n",
       "  specific estimator or a Pipeline/ColumnTransformer */\n",
       "  background-color: var(--sklearn-color-background);\n",
       "}\n",
       "\n",
       "/* Toggleable label */\n",
       "#sk-container-id-2 label.sk-toggleable__label {\n",
       "  cursor: pointer;\n",
       "  display: block;\n",
       "  width: 100%;\n",
       "  margin-bottom: 0;\n",
       "  padding: 0.5em;\n",
       "  box-sizing: border-box;\n",
       "  text-align: center;\n",
       "}\n",
       "\n",
       "#sk-container-id-2 label.sk-toggleable__label-arrow:before {\n",
       "  /* Arrow on the left of the label */\n",
       "  content: \"▸\";\n",
       "  float: left;\n",
       "  margin-right: 0.25em;\n",
       "  color: var(--sklearn-color-icon);\n",
       "}\n",
       "\n",
       "#sk-container-id-2 label.sk-toggleable__label-arrow:hover:before {\n",
       "  color: var(--sklearn-color-text);\n",
       "}\n",
       "\n",
       "/* Toggleable content - dropdown */\n",
       "\n",
       "#sk-container-id-2 div.sk-toggleable__content {\n",
       "  max-height: 0;\n",
       "  max-width: 0;\n",
       "  overflow: hidden;\n",
       "  text-align: left;\n",
       "  /* unfitted */\n",
       "  background-color: var(--sklearn-color-unfitted-level-0);\n",
       "}\n",
       "\n",
       "#sk-container-id-2 div.sk-toggleable__content.fitted {\n",
       "  /* fitted */\n",
       "  background-color: var(--sklearn-color-fitted-level-0);\n",
       "}\n",
       "\n",
       "#sk-container-id-2 div.sk-toggleable__content pre {\n",
       "  margin: 0.2em;\n",
       "  border-radius: 0.25em;\n",
       "  color: var(--sklearn-color-text);\n",
       "  /* unfitted */\n",
       "  background-color: var(--sklearn-color-unfitted-level-0);\n",
       "}\n",
       "\n",
       "#sk-container-id-2 div.sk-toggleable__content.fitted pre {\n",
       "  /* unfitted */\n",
       "  background-color: var(--sklearn-color-fitted-level-0);\n",
       "}\n",
       "\n",
       "#sk-container-id-2 input.sk-toggleable__control:checked~div.sk-toggleable__content {\n",
       "  /* Expand drop-down */\n",
       "  max-height: 200px;\n",
       "  max-width: 100%;\n",
       "  overflow: auto;\n",
       "}\n",
       "\n",
       "#sk-container-id-2 input.sk-toggleable__control:checked~label.sk-toggleable__label-arrow:before {\n",
       "  content: \"▾\";\n",
       "}\n",
       "\n",
       "/* Pipeline/ColumnTransformer-specific style */\n",
       "\n",
       "#sk-container-id-2 div.sk-label input.sk-toggleable__control:checked~label.sk-toggleable__label {\n",
       "  color: var(--sklearn-color-text);\n",
       "  background-color: var(--sklearn-color-unfitted-level-2);\n",
       "}\n",
       "\n",
       "#sk-container-id-2 div.sk-label.fitted input.sk-toggleable__control:checked~label.sk-toggleable__label {\n",
       "  background-color: var(--sklearn-color-fitted-level-2);\n",
       "}\n",
       "\n",
       "/* Estimator-specific style */\n",
       "\n",
       "/* Colorize estimator box */\n",
       "#sk-container-id-2 div.sk-estimator input.sk-toggleable__control:checked~label.sk-toggleable__label {\n",
       "  /* unfitted */\n",
       "  background-color: var(--sklearn-color-unfitted-level-2);\n",
       "}\n",
       "\n",
       "#sk-container-id-2 div.sk-estimator.fitted input.sk-toggleable__control:checked~label.sk-toggleable__label {\n",
       "  /* fitted */\n",
       "  background-color: var(--sklearn-color-fitted-level-2);\n",
       "}\n",
       "\n",
       "#sk-container-id-2 div.sk-label label.sk-toggleable__label,\n",
       "#sk-container-id-2 div.sk-label label {\n",
       "  /* The background is the default theme color */\n",
       "  color: var(--sklearn-color-text-on-default-background);\n",
       "}\n",
       "\n",
       "/* On hover, darken the color of the background */\n",
       "#sk-container-id-2 div.sk-label:hover label.sk-toggleable__label {\n",
       "  color: var(--sklearn-color-text);\n",
       "  background-color: var(--sklearn-color-unfitted-level-2);\n",
       "}\n",
       "\n",
       "/* Label box, darken color on hover, fitted */\n",
       "#sk-container-id-2 div.sk-label.fitted:hover label.sk-toggleable__label.fitted {\n",
       "  color: var(--sklearn-color-text);\n",
       "  background-color: var(--sklearn-color-fitted-level-2);\n",
       "}\n",
       "\n",
       "/* Estimator label */\n",
       "\n",
       "#sk-container-id-2 div.sk-label label {\n",
       "  font-family: monospace;\n",
       "  font-weight: bold;\n",
       "  display: inline-block;\n",
       "  line-height: 1.2em;\n",
       "}\n",
       "\n",
       "#sk-container-id-2 div.sk-label-container {\n",
       "  text-align: center;\n",
       "}\n",
       "\n",
       "/* Estimator-specific */\n",
       "#sk-container-id-2 div.sk-estimator {\n",
       "  font-family: monospace;\n",
       "  border: 1px dotted var(--sklearn-color-border-box);\n",
       "  border-radius: 0.25em;\n",
       "  box-sizing: border-box;\n",
       "  margin-bottom: 0.5em;\n",
       "  /* unfitted */\n",
       "  background-color: var(--sklearn-color-unfitted-level-0);\n",
       "}\n",
       "\n",
       "#sk-container-id-2 div.sk-estimator.fitted {\n",
       "  /* fitted */\n",
       "  background-color: var(--sklearn-color-fitted-level-0);\n",
       "}\n",
       "\n",
       "/* on hover */\n",
       "#sk-container-id-2 div.sk-estimator:hover {\n",
       "  /* unfitted */\n",
       "  background-color: var(--sklearn-color-unfitted-level-2);\n",
       "}\n",
       "\n",
       "#sk-container-id-2 div.sk-estimator.fitted:hover {\n",
       "  /* fitted */\n",
       "  background-color: var(--sklearn-color-fitted-level-2);\n",
       "}\n",
       "\n",
       "/* Specification for estimator info (e.g. \"i\" and \"?\") */\n",
       "\n",
       "/* Common style for \"i\" and \"?\" */\n",
       "\n",
       ".sk-estimator-doc-link,\n",
       "a:link.sk-estimator-doc-link,\n",
       "a:visited.sk-estimator-doc-link {\n",
       "  float: right;\n",
       "  font-size: smaller;\n",
       "  line-height: 1em;\n",
       "  font-family: monospace;\n",
       "  background-color: var(--sklearn-color-background);\n",
       "  border-radius: 1em;\n",
       "  height: 1em;\n",
       "  width: 1em;\n",
       "  text-decoration: none !important;\n",
       "  margin-left: 1ex;\n",
       "  /* unfitted */\n",
       "  border: var(--sklearn-color-unfitted-level-1) 1pt solid;\n",
       "  color: var(--sklearn-color-unfitted-level-1);\n",
       "}\n",
       "\n",
       ".sk-estimator-doc-link.fitted,\n",
       "a:link.sk-estimator-doc-link.fitted,\n",
       "a:visited.sk-estimator-doc-link.fitted {\n",
       "  /* fitted */\n",
       "  border: var(--sklearn-color-fitted-level-1) 1pt solid;\n",
       "  color: var(--sklearn-color-fitted-level-1);\n",
       "}\n",
       "\n",
       "/* On hover */\n",
       "div.sk-estimator:hover .sk-estimator-doc-link:hover,\n",
       ".sk-estimator-doc-link:hover,\n",
       "div.sk-label-container:hover .sk-estimator-doc-link:hover,\n",
       ".sk-estimator-doc-link:hover {\n",
       "  /* unfitted */\n",
       "  background-color: var(--sklearn-color-unfitted-level-3);\n",
       "  color: var(--sklearn-color-background);\n",
       "  text-decoration: none;\n",
       "}\n",
       "\n",
       "div.sk-estimator.fitted:hover .sk-estimator-doc-link.fitted:hover,\n",
       ".sk-estimator-doc-link.fitted:hover,\n",
       "div.sk-label-container:hover .sk-estimator-doc-link.fitted:hover,\n",
       ".sk-estimator-doc-link.fitted:hover {\n",
       "  /* fitted */\n",
       "  background-color: var(--sklearn-color-fitted-level-3);\n",
       "  color: var(--sklearn-color-background);\n",
       "  text-decoration: none;\n",
       "}\n",
       "\n",
       "/* Span, style for the box shown on hovering the info icon */\n",
       ".sk-estimator-doc-link span {\n",
       "  display: none;\n",
       "  z-index: 9999;\n",
       "  position: relative;\n",
       "  font-weight: normal;\n",
       "  right: .2ex;\n",
       "  padding: .5ex;\n",
       "  margin: .5ex;\n",
       "  width: min-content;\n",
       "  min-width: 20ex;\n",
       "  max-width: 50ex;\n",
       "  color: var(--sklearn-color-text);\n",
       "  box-shadow: 2pt 2pt 4pt #999;\n",
       "  /* unfitted */\n",
       "  background: var(--sklearn-color-unfitted-level-0);\n",
       "  border: .5pt solid var(--sklearn-color-unfitted-level-3);\n",
       "}\n",
       "\n",
       ".sk-estimator-doc-link.fitted span {\n",
       "  /* fitted */\n",
       "  background: var(--sklearn-color-fitted-level-0);\n",
       "  border: var(--sklearn-color-fitted-level-3);\n",
       "}\n",
       "\n",
       ".sk-estimator-doc-link:hover span {\n",
       "  display: block;\n",
       "}\n",
       "\n",
       "/* \"?\"-specific style due to the `<a>` HTML tag */\n",
       "\n",
       "#sk-container-id-2 a.estimator_doc_link {\n",
       "  float: right;\n",
       "  font-size: 1rem;\n",
       "  line-height: 1em;\n",
       "  font-family: monospace;\n",
       "  background-color: var(--sklearn-color-background);\n",
       "  border-radius: 1rem;\n",
       "  height: 1rem;\n",
       "  width: 1rem;\n",
       "  text-decoration: none;\n",
       "  /* unfitted */\n",
       "  color: var(--sklearn-color-unfitted-level-1);\n",
       "  border: var(--sklearn-color-unfitted-level-1) 1pt solid;\n",
       "}\n",
       "\n",
       "#sk-container-id-2 a.estimator_doc_link.fitted {\n",
       "  /* fitted */\n",
       "  border: var(--sklearn-color-fitted-level-1) 1pt solid;\n",
       "  color: var(--sklearn-color-fitted-level-1);\n",
       "}\n",
       "\n",
       "/* On hover */\n",
       "#sk-container-id-2 a.estimator_doc_link:hover {\n",
       "  /* unfitted */\n",
       "  background-color: var(--sklearn-color-unfitted-level-3);\n",
       "  color: var(--sklearn-color-background);\n",
       "  text-decoration: none;\n",
       "}\n",
       "\n",
       "#sk-container-id-2 a.estimator_doc_link.fitted:hover {\n",
       "  /* fitted */\n",
       "  background-color: var(--sklearn-color-fitted-level-3);\n",
       "}\n",
       "</style><div id=\"sk-container-id-2\" class=\"sk-top-container\"><div class=\"sk-text-repr-fallback\"><pre>SVC(C=100, class_weight=&#x27;balanced&#x27;, gamma=0.1)</pre><b>In a Jupyter environment, please rerun this cell to show the HTML representation or trust the notebook. <br />On GitHub, the HTML representation is unable to render, please try loading this page with nbviewer.org.</b></div><div class=\"sk-container\" hidden><div class=\"sk-item\"><div class=\"sk-estimator fitted sk-toggleable\"><input class=\"sk-toggleable__control sk-hidden--visually\" id=\"sk-estimator-id-2\" type=\"checkbox\" checked><label for=\"sk-estimator-id-2\" class=\"sk-toggleable__label fitted sk-toggleable__label-arrow fitted\">&nbsp;&nbsp;SVC<a class=\"sk-estimator-doc-link fitted\" rel=\"noreferrer\" target=\"_blank\" href=\"https://scikit-learn.org/1.5/modules/generated/sklearn.svm.SVC.html\">?<span>Documentation for SVC</span></a><span class=\"sk-estimator-doc-link fitted\">i<span>Fitted</span></span></label><div class=\"sk-toggleable__content fitted\"><pre>SVC(C=100, class_weight=&#x27;balanced&#x27;, gamma=0.1)</pre></div> </div></div></div></div>"
      ],
      "text/plain": [
       "SVC(C=100, class_weight='balanced', gamma=0.1)"
      ]
     },
     "execution_count": 459,
     "metadata": {},
     "output_type": "execute_result"
    }
   ],
   "source": [
    "X_train = X_train  # Get the values directly from the DataFrame\n",
    "y = y_train.values.ravel()  # Convert DataFrame to numpy array, then to 1D array\n",
    "\n",
    "svm_model = SVC(class_weight='balanced', C=100, gamma = 0.1)\n",
    "svm_model.fit(X_train, y)"
   ]
  },
  {
   "cell_type": "code",
   "execution_count": 460,
   "id": "a478cf01-4d17-40b0-b4e1-ce29a8a7fb9c",
   "metadata": {},
   "outputs": [
    {
     "data": {
      "text/plain": [
       "0.6919739696312365"
      ]
     },
     "execution_count": 460,
     "metadata": {},
     "output_type": "execute_result"
    }
   ],
   "source": [
    "X_values = X_val.values  # Get the values directly from the DataFrame\n",
    "y_values = y_val.values.ravel()  # Convert DataFrame to numpy array, then to 1D array\n",
    "\n",
    "svm_model.score(X_val, y_val)"
   ]
  },
  {
   "cell_type": "code",
   "execution_count": 461,
   "id": "32fe5e1d-9e11-4b28-af44-58e6986c4768",
   "metadata": {
    "scrolled": true
   },
   "outputs": [
    {
     "data": {
      "text/plain": [
       "array([[1106,  280],\n",
       "       [ 288,  170]], dtype=int64)"
      ]
     },
     "execution_count": 461,
     "metadata": {},
     "output_type": "execute_result"
    }
   ],
   "source": [
    "y_pred = svm_model.predict(X_val)\n",
    "cm = confusion_matrix(y_val, y_pred)\n",
    "cm"
   ]
  },
  {
   "cell_type": "markdown",
   "id": "20443b5b-48de-4586-b88f-f2c9802be2a7",
   "metadata": {},
   "source": [
    "This means that the model predicted:  \n",
    "- 1143 true negative values,  \n",
    "- 242 false positive values,  \n",
    "- 277 false negative values,  \n",
    "- 182 true positive values.  "
   ]
  },
  {
   "cell_type": "code",
   "execution_count": 463,
   "id": "f9a0235a-61dc-4dcd-8d80-5d41337bdb5d",
   "metadata": {},
   "outputs": [
    {
     "name": "stdout",
     "output_type": "stream",
     "text": [
      "Accuracy:  0.692\n",
      "Precision: 0.378\n",
      "Recall:    0.371\n",
      "F1 Score:  0.374\n"
     ]
    }
   ],
   "source": [
    "y_true  = y_val\n",
    "y_pred = svm_model.predict(X_val)\n",
    "\n",
    "\n",
    "acc = accuracy_score(y_true, y_pred)\n",
    "prec = precision_score(y_true, y_pred, zero_division=0)\n",
    "rec = recall_score(y_true, y_pred)\n",
    "f1 = f1_score(y_true, y_pred)\n",
    "\n",
    "print(f\"Accuracy:  {acc:.3f}\")\n",
    "print(f\"Precision: {prec:.3f}\")\n",
    "print(f\"Recall:    {rec:.3f}\")\n",
    "print(f\"F1 Score:  {f1:.3f}\")"
   ]
  },
  {
   "cell_type": "markdown",
   "id": "e3b03629-e92f-415b-8a86-0db151ed6abc",
   "metadata": {},
   "source": [
    "This score is a bit worse than the neural network."
   ]
  },
  {
   "cell_type": "markdown",
   "id": "b396dbcc-91fd-47b2-8b6f-5cf4eb5f44e2",
   "metadata": {},
   "source": [
    "### Random Forest Classifier"
   ]
  },
  {
   "cell_type": "code",
   "execution_count": 466,
   "id": "0f8794e2-4cbd-4eda-8c2e-b0a5e6ad872d",
   "metadata": {},
   "outputs": [],
   "source": [
    "data_select = income_above_0_below_100k[['job', 'age', 'sex', 'income', 'smokes', 'body_type', 'drugs', 'drinks','education']]\n",
    "data_select = data_select.dropna()"
   ]
  },
  {
   "cell_type": "code",
   "execution_count": 467,
   "id": "133944eb-dd4a-455e-97ef-b318aedf020c",
   "metadata": {},
   "outputs": [],
   "source": [
    "X_col_list = [col for col in data_select.columns if col != 'smokes']\n",
    "y_col_list = 'smokes'"
   ]
  },
  {
   "cell_type": "code",
   "execution_count": 468,
   "id": "c5fffb3b-9a7b-46c2-bbc2-196ee9a37b90",
   "metadata": {},
   "outputs": [],
   "source": [
    "X_forest = data_select[X_col_list]\n",
    "y_forest = data_select[y_col_list]"
   ]
  },
  {
   "cell_type": "code",
   "execution_count": 469,
   "id": "862d6a8c-483b-42ce-a3c5-c1f780a3b8c5",
   "metadata": {},
   "outputs": [],
   "source": [
    "X_f_train, X_f_val, y_f_train, y_f_val = train_test_split(nn_bin_X, nn_bin_y)"
   ]
  },
  {
   "cell_type": "code",
   "execution_count": 470,
   "id": "ae60f125-9028-4d23-981a-787d800e8acb",
   "metadata": {},
   "outputs": [
    {
     "name": "stdout",
     "output_type": "stream",
     "text": [
      "0.7592190889370932\n"
     ]
    }
   ],
   "source": [
    "from sklearn.ensemble import RandomForestClassifier\n",
    "\n",
    "f_classifier = RandomForestClassifier(n_estimators=400)\n",
    "f_classifier.fit(X_f_train, y_f_train.values.ravel()) ## moet X_train en y betere namen geven\n",
    "print(f_classifier.score(X_f_val, y_f_val.values.ravel()))\n",
    "\n"
   ]
  },
  {
   "cell_type": "markdown",
   "id": "0a8fc1a5-badd-4bc9-b5b0-a1b2c9bb2d78",
   "metadata": {},
   "source": [
    "#### Determining how many trees gives the highest accuracy."
   ]
  },
  {
   "cell_type": "code",
   "execution_count": 472,
   "id": "7d8a14e9-81f9-4615-9c9c-168e46d68ca3",
   "metadata": {},
   "outputs": [],
   "source": [
    "# score = 0\n",
    "\n",
    "\n",
    "# for trees in range(2500, 3001):\n",
    "#     if trees % 100 == 0:\n",
    "#         f_classifier = RandomForestClassifier(n_estimators=trees)\n",
    "#         f_classifier.fit(X_f_train, y_f_train.values.ravel()) # ravel is used to make the y values into a 1D shape. \n",
    "#         new_score = f_classifier.score(X_f_val, y_f_val.values.ravel())\n",
    "#     if new_score > score:\n",
    "#         score = new_score\n",
    "#         best_trees = trees\n",
    "\n",
    "# print(round(score,2), trees)"
   ]
  },
  {
   "cell_type": "markdown",
   "id": "811436f1-43bc-4aa8-9516-7d9294f7a2d1",
   "metadata": {
    "scrolled": true
   },
   "source": [
    "3000 trees were the optimum amount to get the highest score. The score of a model determines its accuracy, so it is still not sure what will give the highest F1 score."
   ]
  },
  {
   "cell_type": "code",
   "execution_count": 474,
   "id": "b1543d3e-2778-41e6-8128-35a9014e5e6f",
   "metadata": {},
   "outputs": [
    {
     "name": "stdout",
     "output_type": "stream",
     "text": [
      "0.76 3000\n"
     ]
    }
   ],
   "source": [
    "trees = 3000\n",
    "\n",
    "  \n",
    "f_classifier = RandomForestClassifier(n_estimators=3000)\n",
    "f_classifier.fit(X_f_train, y_f_train.values.ravel()) # ravel is used to make the y values into a 1D shape. \n",
    "score = f_classifier.score(X_f_val, y_f_val.values.ravel())\n",
    "\n",
    "print(round(score,2), trees)"
   ]
  },
  {
   "cell_type": "code",
   "execution_count": 475,
   "id": "f4b3cafc-f71f-4a64-982c-4693c75453d7",
   "metadata": {
    "scrolled": true
   },
   "outputs": [],
   "source": [
    "# f1 = 0\n",
    "\n",
    "\n",
    "# for trees in range(500, 3001):\n",
    "#     if trees % 100 == 0:\n",
    "#         f_classifier = RandomForestClassifier(n_estimators=trees)\n",
    "#         f_classifier.fit(X_f_train, y_f_train.values.ravel()) # ravel is used to make the y values into a 1D shape. \n",
    "#         y_true  = y_f_val\n",
    "#         y_pred = f_classifier.predict(X_f_val)\n",
    "#         acc = accuracy_score(y_true, y_pred)\n",
    "#         prec = precision_score(y_true, y_pred, zero_division=0)\n",
    "#         rec = recall_score(y_true, y_pred)\n",
    "#         new_f1 = f1_score(y_true, y_pred)\n",
    "#     if new_f1 > f1:\n",
    "#         f1 = new_f1\n",
    "#         best_trees = trees\n",
    "\n",
    "# print(round(f1,2), trees)"
   ]
  },
  {
   "cell_type": "markdown",
   "id": "3f5bd2e4-f54b-4191-93f6-62ae82e401c4",
   "metadata": {},
   "source": [
    "It appears that increasing the number of trees leads to a higher F1 score."
   ]
  },
  {
   "cell_type": "code",
   "execution_count": 477,
   "id": "4ef80194-cd88-4bda-81e7-f9eac86f36f0",
   "metadata": {},
   "outputs": [],
   "source": [
    "#X_f_val"
   ]
  },
  {
   "cell_type": "code",
   "execution_count": 478,
   "id": "a808a65f-431a-495f-bb8d-0e5c9f86c15c",
   "metadata": {},
   "outputs": [
    {
     "data": {
      "text/plain": [
       "array([[1225,  120],\n",
       "       [ 324,  175]], dtype=int64)"
      ]
     },
     "execution_count": 478,
     "metadata": {},
     "output_type": "execute_result"
    }
   ],
   "source": [
    "y_f_pred = f_classifier.predict(X_f_val)\n",
    "cm = confusion_matrix(y_f_val, y_f_pred)\n",
    "cm"
   ]
  },
  {
   "cell_type": "markdown",
   "id": "64a94e5e-ae6b-4425-afa7-be712e6c0aed",
   "metadata": {},
   "source": [
    "This means that the model predicted:  \n",
    "- 1257 true negative values,  \n",
    "- 133 false positive values,  \n",
    "- 287 false negative values,  \n",
    "- 157 true positive values.  "
   ]
  },
  {
   "cell_type": "code",
   "execution_count": 480,
   "id": "c8537122-e2b5-4626-8f21-7f1bc021cccf",
   "metadata": {},
   "outputs": [
    {
     "name": "stdout",
     "output_type": "stream",
     "text": [
      "Accuracy:  0.990\n",
      "Precision: 0.991\n",
      "Recall:    0.969\n",
      "F1 Score:  0.980\n"
     ]
    }
   ],
   "source": [
    "y_true  = y_f_train\n",
    "y_pred = f_classifier.predict(X_f_train)\n",
    "\n",
    "acc = accuracy_score(y_true, y_pred)\n",
    "prec = precision_score(y_true, y_pred, zero_division=0)\n",
    "rec = recall_score(y_true, y_pred)\n",
    "f1 = f1_score(y_true, y_pred)\n",
    "\n",
    "print(f\"Accuracy:  {acc:.3f}\")\n",
    "print(f\"Precision: {prec:.3f}\")\n",
    "print(f\"Recall:    {rec:.3f}\")\n",
    "print(f\"F1 Score:  {f1:.3f}\")"
   ]
  },
  {
   "cell_type": "markdown",
   "id": "9697534b-a59e-4c98-8672-8f6f65ba81ac",
   "metadata": {},
   "source": [
    "The model is very well trained on the training data and has a very high accuracy and F1 score. However, the real test lies at the test data."
   ]
  },
  {
   "cell_type": "code",
   "execution_count": 482,
   "id": "6bb32a7c-d377-457a-9fba-c0cbac557615",
   "metadata": {},
   "outputs": [
    {
     "name": "stdout",
     "output_type": "stream",
     "text": [
      "Accuracy:  0.759\n",
      "Precision: 0.593\n",
      "Recall:    0.351\n",
      "F1 Score:  0.441\n"
     ]
    }
   ],
   "source": [
    "y_true  = y_f_val\n",
    "y_pred = f_classifier.predict(X_f_val)\n",
    "\n",
    "acc = accuracy_score(y_true, y_pred)\n",
    "prec = precision_score(y_true, y_pred, zero_division=0)\n",
    "rec = recall_score(y_true, y_pred)\n",
    "f1 = f1_score(y_true, y_pred)\n",
    "\n",
    "print(f\"Accuracy:  {acc:.3f}\")\n",
    "print(f\"Precision: {prec:.3f}\")\n",
    "print(f\"Recall:    {rec:.3f}\")\n",
    "print(f\"F1 Score:  {f1:.3f}\")"
   ]
  },
  {
   "cell_type": "markdown",
   "id": "fa4f9c45-73a3-4dbb-9594-7430cfdd6f21",
   "metadata": {},
   "source": [
    "The Accuracy and F1 score are about the same of the Support Vector Machine and the neural network.  "
   ]
  },
  {
   "cell_type": "markdown",
   "id": "0430325f-6589-4edf-8550-f40ae1406b80",
   "metadata": {},
   "source": [
    "### Logistic Regression"
   ]
  },
  {
   "cell_type": "markdown",
   "id": "846c64cd-3a8f-4732-9c14-b0a6df739bea",
   "metadata": {},
   "source": [
    "The final model that will be used to predict whether someone smokes or not is a logistic regression."
   ]
  },
  {
   "cell_type": "code",
   "execution_count": 486,
   "id": "a3bc35bf-0cf4-479f-a1fd-602b67550f04",
   "metadata": {},
   "outputs": [],
   "source": [
    "X_l_train, X_l_val, y_l_train, y_l_val = train_test_split(nn_bin_X, nn_bin_y)"
   ]
  },
  {
   "cell_type": "code",
   "execution_count": 580,
   "id": "8ed24dbd-0b58-45e0-8da3-4a677384b3fe",
   "metadata": {},
   "outputs": [
    {
     "name": "stdout",
     "output_type": "stream",
     "text": [
      "[[1280  109]\n",
      " [ 309  146]]\n"
     ]
    }
   ],
   "source": [
    "from sklearn.linear_model import LogisticRegression\n",
    "from sklearn.metrics import confusion_matrix\n",
    "\n",
    "cc_lr = LogisticRegression(max_iter=10000)\n",
    "cc_lr.fit(X_l_train, y_l_train.values.ravel())\n",
    "\n",
    "y_pred = cc_lr.predict(X_l_val)\n",
    "y_true = y_l_val.values.ravel()\n",
    "\n",
    "print(confusion_matrix(y_true, y_pred))"
   ]
  },
  {
   "cell_type": "markdown",
   "id": "40eb19af-322d-4f36-a295-66d28aa216a7",
   "metadata": {},
   "source": [
    "This means that the model predicted:  \n",
    "- 1268 true negative values,  \n",
    "- 86 false positive values,  \n",
    "- 348 false negative values,  \n",
    "- 142 true positive values.  "
   ]
  },
  {
   "cell_type": "code",
   "execution_count": 489,
   "id": "32d1a4ec-c2ab-4838-aa07-e567eec015ba",
   "metadata": {},
   "outputs": [
    {
     "name": "stdout",
     "output_type": "stream",
     "text": [
      "Accuracy:  0.773\n",
      "Precision: 0.573\n",
      "Recall:    0.321\n",
      "F1 Score:  0.411\n"
     ]
    }
   ],
   "source": [
    "y_true  = y_l_val\n",
    "y_pred = cc_lr.predict(X_l_val)\n",
    "\n",
    "acc = accuracy_score(y_true, y_pred)\n",
    "prec = precision_score(y_true, y_pred, zero_division=0)\n",
    "rec = recall_score(y_true, y_pred)\n",
    "f1 = f1_score(y_true, y_pred)\n",
    "\n",
    "print(f\"Accuracy:  {acc:.3f}\")\n",
    "print(f\"Precision: {prec:.3f}\")\n",
    "print(f\"Recall:    {rec:.3f}\")\n",
    "print(f\"F1 Score:  {f1:.3f}\")"
   ]
  },
  {
   "cell_type": "markdown",
   "id": "d2506143-2aeb-4fa9-ac7e-c452fd6e2921",
   "metadata": {},
   "source": [
    "The accuracy of this model is about the same as the other ones, however the F1 score is a lot lower, making this the worst model for the job."
   ]
  },
  {
   "cell_type": "markdown",
   "id": "55343c88-4b59-43e6-93f4-17311dc69311",
   "metadata": {},
   "source": [
    "# Results"
   ]
  },
  {
   "cell_type": "markdown",
   "id": "2c3d1d9a-3bdd-4afb-9ee1-e920fdcd04e3",
   "metadata": {},
   "source": [
    "### Income\n",
    "To predict income a neural network was used, as well as a multiple linear regression model. The mean average error A mean average error of the models were:\n",
    "- **Neural network:** 20,151.34  \n",
    "- **Multiple linear regression:** 16,426.25\n",
    "\n",
    "Both MAE's are pretty bad predictors, since the value range from 20,000 to 100,000. The mutlipe linear regression model did outperform the neural network and would be best for this data set to predict one's income.  \n",
    "  \n",
    "### Smoker/non-smoker\n",
    "To predict if one smokes a neural network, a support vector machine, a random forest classifier and a logistic regression model were used. The evaluation metrics are shown below:  \n",
    "\n",
    "**Neural Network:**   \n",
    "Accuracy:  0.744  \n",
    "Precision: 0.486  \n",
    "Recall:    0.552  \n",
    "F1 Score:  0.517    \n",
    "\n",
    "**SVM:**  \n",
    "Accuracy:  0.719  \n",
    "Precision: 0.429  \n",
    "Recall:    0.397  \n",
    "F1 Score:  0.412  \n",
    "\n",
    "**Random Forest Classifier:**  \n",
    "Accuracy:  0.767  \n",
    "Precision: 0.541  \n",
    "Recall:    0.346  \n",
    "F1 Score:  0.422  \n",
    "\n",
    "**Logistic Regression:**  \n",
    "Accuracy:  0.765  \n",
    "Precision: 0.623  \n",
    "Recall:    0.290  \n",
    "F1 Score:  0.396  \n"
   ]
  },
  {
   "cell_type": "markdown",
   "id": "5f8aff87-6741-40cd-ae68-05c78aa68f46",
   "metadata": {},
   "source": [
    "While the random forest classifier has the highest accuracy, I still would prefer using the neural network due to its higher F1 score."
   ]
  },
  {
   "cell_type": "markdown",
   "id": "9341a822-fe22-4837-a893-0764e82d5610",
   "metadata": {},
   "source": [
    "As can be seen below, the eveluation metrics are devided about the same between each model. They have a high accuracy score and the other metrics are significanty lower."
   ]
  },
  {
   "cell_type": "code",
   "execution_count": 495,
   "id": "25c81a29-f455-4947-b4a9-34285ffbdf76",
   "metadata": {},
   "outputs": [
    {
     "data": {
      "image/png": "[encoded data removed]",
      "text/plain": [
       "<Figure size 1000x600 with 1 Axes>"
      ]
     },
     "metadata": {},
     "output_type": "display_data"
    }
   ],
   "source": [
    "# Data\n",
    "metrics = ['Accuracy', 'Precision', 'Recall', 'F1 Score']\n",
    "models = ['Neural Network', 'SVM', 'Random Forest', 'Logistic Regression']\n",
    "\n",
    "data = {\n",
    "    'Neural Network':       [0.744, 0.486, 0.552, 0.517],\n",
    "    'SVM':                  [0.719, 0.429, 0.397, 0.412],\n",
    "    'Random Forest':        [0.767, 0.541, 0.346, 0.422],\n",
    "    'Logistic Regression':  [0.765, 0.623, 0.290, 0.396]\n",
    "}\n",
    "\n",
    "# Create DataFrame\n",
    "df = pd.DataFrame(data, index=metrics)\n",
    "\n",
    "# Plot\n",
    "ax = df.T.plot(kind='bar', figsize=(10, 6))\n",
    "plt.title('Model Evaluation Metrics')\n",
    "plt.ylabel('Score')\n",
    "plt.ylim(0, 1)\n",
    "plt.xticks(rotation=20)\n",
    "plt.legend(title='Metric')\n",
    "plt.grid(axis='y', linestyle='--', alpha=0.7)\n",
    "plt.tight_layout()\n",
    "plt.show()\n"
   ]
  },
  {
   "cell_type": "markdown",
   "id": "a0c1e2de-11e8-41fc-909a-df072ffa77f0",
   "metadata": {},
   "source": [
    "Below it is easier to compare the different evauation metrics. They all have about the same accuracy, while the neural network clearly has a higher F1 score."
   ]
  },
  {
   "cell_type": "code",
   "execution_count": 497,
   "id": "b53c5509-8343-4480-9a54-331a12d560b2",
   "metadata": {},
   "outputs": [
    {
     "data": {
      "image/png": "[encoded data removed]",
      "text/plain": [
       "<Figure size 1000x600 with 1 Axes>"
      ]
     },
     "metadata": {},
     "output_type": "display_data"
    }
   ],
   "source": [
    "# Define data\n",
    "metrics = ['Accuracy', 'Precision', 'Recall', 'F1 Score']\n",
    "models = ['Neural Network', 'SVM', 'Random Forest', 'Logistic Regression']\n",
    "\n",
    "data = {\n",
    "    'Accuracy':            [0.744, 0.719, 0.767, 0.765],\n",
    "    'Precision':           [0.486, 0.429, 0.541, 0.623],\n",
    "    'Recall':              [0.552, 0.397, 0.346, 0.290],\n",
    "    'F1 Score':            [0.517, 0.412, 0.422, 0.396]\n",
    "}\n",
    "\n",
    "# Create DataFrame\n",
    "df = pd.DataFrame(data, index=models)\n",
    "\n",
    "# Plot setup\n",
    "bar_width = 0.2\n",
    "x = np.arange(len(metrics))  # X locations for the groups\n",
    "\n",
    "# Plot bars\n",
    "fig, ax = plt.subplots(figsize=(10, 6))\n",
    "for i, model in enumerate(models):\n",
    "    ax.bar(x + i * bar_width, df.loc[model], width=bar_width, label=model)\n",
    "\n",
    "# Formatting\n",
    "ax.set_xticks(x + bar_width * 1.5)\n",
    "ax.set_xticklabels(metrics)\n",
    "ax.set_ylim(0, 1)\n",
    "ax.set_ylabel(\"Score\")\n",
    "ax.set_title(\"Model Evaluation Metric Comparison\")\n",
    "ax.legend()\n",
    "ax.grid(axis='y', linestyle='--', alpha=0.6)\n",
    "\n",
    "plt.tight_layout()\n",
    "plt.show()\n"
   ]
  },
  {
   "cell_type": "markdown",
   "id": "c96131b8-9fcb-4aef-bdcd-b0a41d1ba952",
   "metadata": {},
   "source": [
    "# Conclusion"
   ]
  },
  {
   "cell_type": "markdown",
   "id": "46e9166c-f323-4f25-a57a-03ba884f04f2",
   "metadata": {},
   "source": [
    "Accurately predicting an individual's income is a challenging task. However, if such a prediction must be made, a simple linear regression model appears to outperform more complex models such as neural networks.\n",
    "\n",
    "In contrast, when attempting to predict whether an individual is a smoker, a neural network is likely the most suitable model. That said, the model's performance—reflected by an F1 score of 0.517—indicates that it is still far from reliable. In practice, a direct inquiry may be a more effective and accurate approach."
   ]
  },
  {
   "cell_type": "code",
   "execution_count": null,
   "id": "227430d8-0477-446e-a355-d63a228c98e5",
   "metadata": {},
   "outputs": [],
   "source": []
  }
 ],
 "metadata": {
  "kernelspec": {
   "display_name": "Python [conda env:base] *",
   "language": "python",
   "name": "conda-base-py"
  },
  "language_info": {
   "codemirror_mode": {
    "name": "ipython",
    "version": 3
   },
   "file_extension": ".py",
   "mimetype": "text/x-python",
   "name": "python",
   "nbconvert_exporter": "python",
   "pygments_lexer": "ipython3",
   "version": "3.12.7"
  }
 },
 "nbformat": 4,
 "nbformat_minor": 5
}
